{
 "cells": [
  {
   "cell_type": "markdown",
   "id": "b0169a3a-9fb1-46ad-a3a5-0541f061c8ca",
   "metadata": {},
   "source": [
    "# 0. Nạp các thư viện Python cần thiết vào Notebook trước khi đi phân tích"
   ]
  },
  {
   "cell_type": "code",
   "execution_count": 1,
   "id": "75eb3974",
   "metadata": {},
   "outputs": [],
   "source": [
    "# Import các thư viện cần thiết trước khi đi khám phá dữ liệu\n",
    "import numpy as np # Thư viện tính toán cơ bản của Python\n",
    "import pandas as pd # Giúp thao tác với dữ liệu dạng bảng\n",
    "\n",
    "import matplotlib.pyplot as plt # Thư viện cơ bản để trực quan hóa\n",
    "import seaborn as sns # Cũng là một thư viện trực quan hóa được xây dự dựa trên matplotlib\n",
    "\n",
    "import warnings # Loại bỏ cách báo trong khi chạy\n",
    "warnings.filterwarnings('ignore')\n",
    "\n",
    "from sklearn.model_selection import train_test_split # Giúp chia tập dữ liệu trước khi cho mô hình học\n",
    "from sklearn.linear_model import LinearRegression # Mô hình hồi quy tuyến tính của scikit-learn\n",
    "from sklearn.metrics import r2_score, mean_absolute_error, mean_squared_error # Các chỉ số cần thiết để đánh giá mô hình\n",
    "from sklearn.preprocessing import StandardScaler # Dùng để scale dữ liệu\n",
    "\n",
    "plt.style.use('ggplot') # Chỉnh giao diện khi trực quan các biểu đồ\n",
    "%matplotlib inline"
   ]
  },
  {
   "cell_type": "markdown",
   "id": "313f07da-0e93-40dc-8f84-56fa629b0b58",
   "metadata": {},
   "source": [
    "***\n",
    "## Bài toán đặt ra:"
   ]
  },
  {
   "cell_type": "markdown",
   "id": "4eab6e0b-9406-48c1-a5e8-be89ebde19b0",
   "metadata": {},
   "source": [
    "<p style=\"font-size:18px; text-align:justify\"> Giả sử bạn là nhà khoa học dữ liệu (Data Scientist) của một Công ty bán hàng ABC mang tầm cỡ quốc tế. Mỗi ngày, công ty của bạn cung cấp ra thị trường trong và ngoài nước hàng nghìn mặt hàng khác nhau và thu về lợi nhuận hàng nghìn đô. Để bán được lượng hàng lớn như vậy, công ty của bạn đã phải trả chi phí cho quảng cáo ở trên 3 kênh chính là:</p>\n",
    "    <p style=\"font-size:25px; text-align:center\">\n",
    "        <img src=\"https://cdn2.iconfinder.com/data/icons/social-media-2285/512/1_Youtube_colored_svg-512.png\" width=20 alt=\"YouTube Logo\"> YouTube<br>\n",
    "        <img src=\"https://cdn2.iconfinder.com/data/icons/social-media-2285/512/1_Facebook_colored_svg_copy-512.png\" width=20 alt=\"Facebook Logo\"> Facebook<br>\n",
    "        <img src=\"https://cdn1.iconfinder.com/data/icons/mail-and-postman-1/500/SingleCartoonMailAndPostmanAlice_14-512.png\" width=20 alt=\"Newspaper icon\"> Báo (newspaper)<br>\n",
    "    </p>\n",
    "<p style=\"font-size:18px; text-align:justify\">Vào một ngày đẹp trời, Sếp của bạn hỏi bạn: <i>\"Liệu chúng ta nên đầu tư vào quảng cáo ở mảng nào thì sẽ hiệu quả hơn so với hiện tại?\".</i> Bạn sẽ trả lời như thế nào với Sếp của bạn?</p>"
   ]
  },
  {
   "cell_type": "markdown",
   "id": "bfb14495-2bb1-42b0-847e-d1e89a37f6ca",
   "metadata": {},
   "source": [
    "<p style=\"font-size:18px\"> Với kiến thức và kinh nghiệm của một nhà khoa học dữ liệu, thế là bạn bắt tay vào thu thập dữ liệu và kết quả là bộ data</p>"
   ]
  },
  {
   "cell_type": "markdown",
   "id": "3d0a7db2-4aa0-4c40-b1cc-0b35fa3a13e0",
   "metadata": {},
   "source": [
    "# 1. Khám phá dữ liệu (EDA)"
   ]
  },
  {
   "cell_type": "code",
   "execution_count": 2,
   "id": "1497fc6e",
   "metadata": {},
   "outputs": [
    {
     "data": {
      "text/html": [
       "<div>\n",
       "<style scoped>\n",
       "    .dataframe tbody tr th:only-of-type {\n",
       "        vertical-align: middle;\n",
       "    }\n",
       "\n",
       "    .dataframe tbody tr th {\n",
       "        vertical-align: top;\n",
       "    }\n",
       "\n",
       "    .dataframe thead th {\n",
       "        text-align: right;\n",
       "    }\n",
       "</style>\n",
       "<table border=\"1\" class=\"dataframe\">\n",
       "  <thead>\n",
       "    <tr style=\"text-align: right;\">\n",
       "      <th></th>\n",
       "      <th>youtube</th>\n",
       "      <th>facebook</th>\n",
       "      <th>newspaper</th>\n",
       "      <th>sales</th>\n",
       "    </tr>\n",
       "  </thead>\n",
       "  <tbody>\n",
       "    <tr>\n",
       "      <th>0</th>\n",
       "      <td>84.72</td>\n",
       "      <td>19.20</td>\n",
       "      <td>48.96</td>\n",
       "      <td>12.60</td>\n",
       "    </tr>\n",
       "    <tr>\n",
       "      <th>1</th>\n",
       "      <td>351.48</td>\n",
       "      <td>33.96</td>\n",
       "      <td>51.84</td>\n",
       "      <td>25.68</td>\n",
       "    </tr>\n",
       "    <tr>\n",
       "      <th>2</th>\n",
       "      <td>135.48</td>\n",
       "      <td>20.88</td>\n",
       "      <td>46.32</td>\n",
       "      <td>14.28</td>\n",
       "    </tr>\n",
       "    <tr>\n",
       "      <th>3</th>\n",
       "      <td>116.64</td>\n",
       "      <td>1.80</td>\n",
       "      <td>36.00</td>\n",
       "      <td>11.52</td>\n",
       "    </tr>\n",
       "    <tr>\n",
       "      <th>4</th>\n",
       "      <td>318.72</td>\n",
       "      <td>24.00</td>\n",
       "      <td>0.36</td>\n",
       "      <td>20.88</td>\n",
       "    </tr>\n",
       "  </tbody>\n",
       "</table>\n",
       "</div>"
      ],
      "text/plain": [
       "   youtube  facebook  newspaper  sales\n",
       "0    84.72     19.20      48.96  12.60\n",
       "1   351.48     33.96      51.84  25.68\n",
       "2   135.48     20.88      46.32  14.28\n",
       "3   116.64      1.80      36.00  11.52\n",
       "4   318.72     24.00       0.36  20.88"
      ]
     },
     "execution_count": 2,
     "metadata": {},
     "output_type": "execute_result"
    }
   ],
   "source": [
    "df = pd.read_csv('marketing_data.csv')\n",
    "df.head()"
   ]
  },
  {
   "cell_type": "markdown",
   "id": "811fbf8c-3dc6-4de6-bcb4-4400419bbc43",
   "metadata": {},
   "source": [
    "## Mô tả sơ bộ các cột trong dataframe trên\n",
    "\n",
    "| Tên cột | Mô tả |\n",
    "|---------|-------|\n",
    "|**YouTube**| Chi phí dành cho quảng cáo trên YouTube|\n",
    "|**Facebook**| Chi phí dành cho quảng cáo trên Facebook|\n",
    "|**Newspaper**| Chi phí dành cho quảng cáo trên báo|\n",
    "|**Sales**| Lợi nhuận thu được từ các mặt hàng tương ứng|"
   ]
  },
  {
   "cell_type": "code",
   "execution_count": 3,
   "id": "b7272e53-5c58-46a6-9b02-6b6af88e99ea",
   "metadata": {},
   "outputs": [
    {
     "name": "stdout",
     "output_type": "stream",
     "text": [
      "Trong bộ dữ liệu trên ta có 171 hàng và 4 cột\n"
     ]
    }
   ],
   "source": [
    "# Hàm shape cho ta cái nhìn ban đầu về hình dạng của dữ liệu\n",
    "nRows, nCols = df.shape\n",
    "print(f\"Trong bộ dữ liệu trên ta có {nRows} hàng và {nCols} cột\")"
   ]
  },
  {
   "cell_type": "code",
   "execution_count": 4,
   "id": "f0e44784-05d4-42d3-b4ac-157f55b59e4b",
   "metadata": {},
   "outputs": [
    {
     "name": "stdout",
     "output_type": "stream",
     "text": [
      "<class 'pandas.core.frame.DataFrame'>\n",
      "RangeIndex: 171 entries, 0 to 170\n",
      "Data columns (total 4 columns):\n",
      " #   Column     Non-Null Count  Dtype  \n",
      "---  ------     --------------  -----  \n",
      " 0   youtube    171 non-null    float64\n",
      " 1   facebook   171 non-null    float64\n",
      " 2   newspaper  171 non-null    float64\n",
      " 3   sales      171 non-null    float64\n",
      "dtypes: float64(4)\n",
      "memory usage: 5.5 KB\n"
     ]
    }
   ],
   "source": [
    "# Hàm info cho ta nhiều thông tin hữu ích\n",
    "df.info()"
   ]
  },
  {
   "cell_type": "markdown",
   "id": "35090620-f244-4407-8c9b-6fcbd592ee2f",
   "metadata": {},
   "source": [
    "*Ta thấy trong bộ dữ liệu trên:*\n",
    "- Có tất cả 4 cột với 171 dòng và không có cột nào bị thiếu giá trị (NaN)\n",
    "- Cả 4 cột đều là loại số thực (float64)"
   ]
  },
  {
   "cell_type": "markdown",
   "id": "3a3c41dc-055d-4fdb-bae4-e29b8985eeca",
   "metadata": {},
   "source": [
    "## Các tham số thống kê cơ bản của dữ liệu được mô tả bởi hàm describe"
   ]
  },
  {
   "cell_type": "code",
   "execution_count": 5,
   "id": "ac49a167",
   "metadata": {},
   "outputs": [
    {
     "data": {
      "text/html": [
       "<div>\n",
       "<style scoped>\n",
       "    .dataframe tbody tr th:only-of-type {\n",
       "        vertical-align: middle;\n",
       "    }\n",
       "\n",
       "    .dataframe tbody tr th {\n",
       "        vertical-align: top;\n",
       "    }\n",
       "\n",
       "    .dataframe thead th {\n",
       "        text-align: right;\n",
       "    }\n",
       "</style>\n",
       "<table border=\"1\" class=\"dataframe\">\n",
       "  <thead>\n",
       "    <tr style=\"text-align: right;\">\n",
       "      <th></th>\n",
       "      <th>count</th>\n",
       "      <th>mean</th>\n",
       "      <th>std</th>\n",
       "      <th>min</th>\n",
       "      <th>25%</th>\n",
       "      <th>50%</th>\n",
       "      <th>75%</th>\n",
       "      <th>max</th>\n",
       "    </tr>\n",
       "  </thead>\n",
       "  <tbody>\n",
       "    <tr>\n",
       "      <th>youtube</th>\n",
       "      <td>171.0</td>\n",
       "      <td>178.021053</td>\n",
       "      <td>102.449597</td>\n",
       "      <td>0.84</td>\n",
       "      <td>91.08</td>\n",
       "      <td>179.76</td>\n",
       "      <td>262.98</td>\n",
       "      <td>355.68</td>\n",
       "    </tr>\n",
       "    <tr>\n",
       "      <th>facebook</th>\n",
       "      <td>171.0</td>\n",
       "      <td>27.671579</td>\n",
       "      <td>17.913532</td>\n",
       "      <td>0.00</td>\n",
       "      <td>11.70</td>\n",
       "      <td>26.76</td>\n",
       "      <td>43.68</td>\n",
       "      <td>59.52</td>\n",
       "    </tr>\n",
       "    <tr>\n",
       "      <th>newspaper</th>\n",
       "      <td>171.0</td>\n",
       "      <td>35.240000</td>\n",
       "      <td>24.902918</td>\n",
       "      <td>0.36</td>\n",
       "      <td>13.74</td>\n",
       "      <td>31.08</td>\n",
       "      <td>50.88</td>\n",
       "      <td>121.08</td>\n",
       "    </tr>\n",
       "    <tr>\n",
       "      <th>sales</th>\n",
       "      <td>171.0</td>\n",
       "      <td>16.922807</td>\n",
       "      <td>6.314608</td>\n",
       "      <td>1.92</td>\n",
       "      <td>12.54</td>\n",
       "      <td>15.48</td>\n",
       "      <td>20.82</td>\n",
       "      <td>32.40</td>\n",
       "    </tr>\n",
       "  </tbody>\n",
       "</table>\n",
       "</div>"
      ],
      "text/plain": [
       "           count        mean         std   min    25%     50%     75%     max\n",
       "youtube    171.0  178.021053  102.449597  0.84  91.08  179.76  262.98  355.68\n",
       "facebook   171.0   27.671579   17.913532  0.00  11.70   26.76   43.68   59.52\n",
       "newspaper  171.0   35.240000   24.902918  0.36  13.74   31.08   50.88  121.08\n",
       "sales      171.0   16.922807    6.314608  1.92  12.54   15.48   20.82   32.40"
      ]
     },
     "execution_count": 5,
     "metadata": {},
     "output_type": "execute_result"
    }
   ],
   "source": [
    "df.describe().T"
   ]
  },
  {
   "cell_type": "markdown",
   "id": "0b6aa394-9ec3-4432-832e-97d2b4f80fa9",
   "metadata": {},
   "source": [
    "***Một số nhận xét về các tham số trên:***"
   ]
  },
  {
   "cell_type": "markdown",
   "id": "b5af465a-cbcd-4d6d-980e-1c2ee676b9cb",
   "metadata": {},
   "source": [
    "***Trong cột YouTube ta có:***\n",
    "- Chi phí thấp nhất là: $840$ USD\n",
    "- Chi phí cao nhất là: $356$K USD\n",
    "- Chi phí trung bình là: $178$K USD\n",
    "- Độ lệch chuẩn là: $102$K USD\n",
    "\n",
    "***Trong cột Facebook ta có:***\n",
    "- Chi phí thấp nhất là: $0$ USD\n",
    "- Chi phí cao nhất là: $60$K USD\n",
    "- Chi phí trung bình là: $28$K USD\n",
    "- Độ lệch chuẩn là: $18$K USD\n",
    "\n",
    "***Trong cột Newspaper ta có:***\n",
    "- Chi phí thấp nhất là: $360$ USD\n",
    "- Chi phí cao nhất là: $121$K USD\n",
    "- Chi phí trung bình là: $35$K USD\n",
    "- Độ lệch chuẩn là: $25$K USD\n",
    "\n",
    "***Trong cột Sales ta có:***\n",
    "- Lợi nhuận thấp nhất: $2$K USD\n",
    "- Lợi nhuận cao nhất là: $32$K USD\n",
    "- Lợi nhuận trung bình là: $17$K USD\n",
    "- Độ lệch chuẩn là: $6$K USD"
   ]
  },
  {
   "cell_type": "markdown",
   "id": "51d97b6e-f0e7-45e5-b13d-a97bd5b6b587",
   "metadata": {},
   "source": [
    "## Đối với các tham số còn lại, ta tiến hành vẽ đồ thị hộp râu (boxplot) để phát hiện các điểm bất thường"
   ]
  },
  {
   "cell_type": "code",
   "execution_count": 6,
   "id": "626d4cb4-9ed1-4b42-8ee3-d424318322b4",
   "metadata": {},
   "outputs": [
    {
     "data": {
      "image/png": "[encoded data removed]",
      "text/plain": [
       "<Figure size 1080x648 with 1 Axes>"
      ]
     },
     "metadata": {
      "needs_background": "light"
     },
     "output_type": "display_data"
    }
   ],
   "source": [
    "plt.figure(figsize=(15, 9))\n",
    "sns.boxplot(data=df.loc[:, ['youtube', 'facebook', 'newspaper']])\n",
    "plt.title(\"Đồ thị boxplot chi phí quảng cáo ở 3 mảng\", fontsize=18)\n",
    "plt.ylabel('Chi phí quảng cáo (K USD)', fontsize=14)\n",
    "plt.show()"
   ]
  },
  {
   "cell_type": "markdown",
   "id": "89017ddd-2dd4-4db0-b00b-c2ed0b090764",
   "metadata": {},
   "source": [
    "***Dễ dàng nhận thấy rằng:*** Cột **Newspaper** có bị outlier. Vì các điểm dữ liệu này có thể làm nhiễu cho quá trình phân tích nên ta tiến hành lọc bỏ"
   ]
  },
  {
   "cell_type": "code",
   "execution_count": 7,
   "id": "5e0eef4a-2e04-4d80-9bb8-90dd4b4cd50e",
   "metadata": {},
   "outputs": [],
   "source": [
    "q1 = np.quantile(df['newspaper'], .25)\n",
    "q3 = np.quantile(df['newspaper'], .75)\n",
    "iqr =  q3 - q1\n",
    "ub = q3 + 1.5 * iqr # Giá trị râu trên của boxplot"
   ]
  },
  {
   "cell_type": "code",
   "execution_count": 8,
   "id": "89be8a45-65f7-4fa7-bfb7-ac8fcaa3b06f",
   "metadata": {},
   "outputs": [
    {
     "data": {
      "text/html": [
       "<div>\n",
       "<style scoped>\n",
       "    .dataframe tbody tr th:only-of-type {\n",
       "        vertical-align: middle;\n",
       "    }\n",
       "\n",
       "    .dataframe tbody tr th {\n",
       "        vertical-align: top;\n",
       "    }\n",
       "\n",
       "    .dataframe thead th {\n",
       "        text-align: right;\n",
       "    }\n",
       "</style>\n",
       "<table border=\"1\" class=\"dataframe\">\n",
       "  <thead>\n",
       "    <tr style=\"text-align: right;\">\n",
       "      <th></th>\n",
       "      <th>youtube</th>\n",
       "      <th>facebook</th>\n",
       "      <th>newspaper</th>\n",
       "      <th>sales</th>\n",
       "    </tr>\n",
       "  </thead>\n",
       "  <tbody>\n",
       "    <tr>\n",
       "      <th>0</th>\n",
       "      <td>84.72</td>\n",
       "      <td>19.20</td>\n",
       "      <td>48.96</td>\n",
       "      <td>12.60</td>\n",
       "    </tr>\n",
       "    <tr>\n",
       "      <th>1</th>\n",
       "      <td>351.48</td>\n",
       "      <td>33.96</td>\n",
       "      <td>51.84</td>\n",
       "      <td>25.68</td>\n",
       "    </tr>\n",
       "    <tr>\n",
       "      <th>2</th>\n",
       "      <td>135.48</td>\n",
       "      <td>20.88</td>\n",
       "      <td>46.32</td>\n",
       "      <td>14.28</td>\n",
       "    </tr>\n",
       "    <tr>\n",
       "      <th>3</th>\n",
       "      <td>116.64</td>\n",
       "      <td>1.80</td>\n",
       "      <td>36.00</td>\n",
       "      <td>11.52</td>\n",
       "    </tr>\n",
       "    <tr>\n",
       "      <th>4</th>\n",
       "      <td>318.72</td>\n",
       "      <td>24.00</td>\n",
       "      <td>0.36</td>\n",
       "      <td>20.88</td>\n",
       "    </tr>\n",
       "    <tr>\n",
       "      <th>...</th>\n",
       "      <td>...</td>\n",
       "      <td>...</td>\n",
       "      <td>...</td>\n",
       "      <td>...</td>\n",
       "    </tr>\n",
       "    <tr>\n",
       "      <th>166</th>\n",
       "      <td>45.84</td>\n",
       "      <td>4.44</td>\n",
       "      <td>16.56</td>\n",
       "      <td>9.12</td>\n",
       "    </tr>\n",
       "    <tr>\n",
       "      <th>167</th>\n",
       "      <td>113.04</td>\n",
       "      <td>5.88</td>\n",
       "      <td>9.72</td>\n",
       "      <td>11.64</td>\n",
       "    </tr>\n",
       "    <tr>\n",
       "      <th>168</th>\n",
       "      <td>212.40</td>\n",
       "      <td>11.16</td>\n",
       "      <td>7.68</td>\n",
       "      <td>15.36</td>\n",
       "    </tr>\n",
       "    <tr>\n",
       "      <th>169</th>\n",
       "      <td>340.32</td>\n",
       "      <td>50.40</td>\n",
       "      <td>79.44</td>\n",
       "      <td>30.60</td>\n",
       "    </tr>\n",
       "    <tr>\n",
       "      <th>170</th>\n",
       "      <td>278.52</td>\n",
       "      <td>10.32</td>\n",
       "      <td>10.44</td>\n",
       "      <td>16.08</td>\n",
       "    </tr>\n",
       "  </tbody>\n",
       "</table>\n",
       "<p>169 rows × 4 columns</p>\n",
       "</div>"
      ],
      "text/plain": [
       "     youtube  facebook  newspaper  sales\n",
       "0      84.72     19.20      48.96  12.60\n",
       "1     351.48     33.96      51.84  25.68\n",
       "2     135.48     20.88      46.32  14.28\n",
       "3     116.64      1.80      36.00  11.52\n",
       "4     318.72     24.00       0.36  20.88\n",
       "..       ...       ...        ...    ...\n",
       "166    45.84      4.44      16.56   9.12\n",
       "167   113.04      5.88       9.72  11.64\n",
       "168   212.40     11.16       7.68  15.36\n",
       "169   340.32     50.40      79.44  30.60\n",
       "170   278.52     10.32      10.44  16.08\n",
       "\n",
       "[169 rows x 4 columns]"
      ]
     },
     "execution_count": 8,
     "metadata": {},
     "output_type": "execute_result"
    }
   ],
   "source": [
    "# Thực hiện lọc và gán trực tiếp trở lại dataframe cũ\n",
    "df = df.loc[df['newspaper'] <= ub]\n",
    "df"
   ]
  },
  {
   "cell_type": "markdown",
   "id": "7ea76010-3a31-4a2f-84fa-879e5d527582",
   "metadata": {},
   "source": [
    "## Tiếp theo, ta sẽ xem xét mức độ tương quan giữa các biến với nhau"
   ]
  },
  {
   "cell_type": "code",
   "execution_count": 9,
   "id": "6c4ff10f-91eb-4e4b-ae70-eeab3e41f74b",
   "metadata": {},
   "outputs": [
    {
     "data": {
      "text/html": [
       "<div>\n",
       "<style scoped>\n",
       "    .dataframe tbody tr th:only-of-type {\n",
       "        vertical-align: middle;\n",
       "    }\n",
       "\n",
       "    .dataframe tbody tr th {\n",
       "        vertical-align: top;\n",
       "    }\n",
       "\n",
       "    .dataframe thead th {\n",
       "        text-align: right;\n",
       "    }\n",
       "</style>\n",
       "<table border=\"1\" class=\"dataframe\">\n",
       "  <thead>\n",
       "    <tr style=\"text-align: right;\">\n",
       "      <th></th>\n",
       "      <th>youtube</th>\n",
       "      <th>facebook</th>\n",
       "      <th>newspaper</th>\n",
       "      <th>sales</th>\n",
       "    </tr>\n",
       "  </thead>\n",
       "  <tbody>\n",
       "    <tr>\n",
       "      <th>youtube</th>\n",
       "      <td>1.000000</td>\n",
       "      <td>0.092200</td>\n",
       "      <td>0.110262</td>\n",
       "      <td>0.776382</td>\n",
       "    </tr>\n",
       "    <tr>\n",
       "      <th>facebook</th>\n",
       "      <td>0.092200</td>\n",
       "      <td>1.000000</td>\n",
       "      <td>0.270263</td>\n",
       "      <td>0.614581</td>\n",
       "    </tr>\n",
       "    <tr>\n",
       "      <th>newspaper</th>\n",
       "      <td>0.110262</td>\n",
       "      <td>0.270263</td>\n",
       "      <td>1.000000</td>\n",
       "      <td>0.253835</td>\n",
       "    </tr>\n",
       "    <tr>\n",
       "      <th>sales</th>\n",
       "      <td>0.776382</td>\n",
       "      <td>0.614581</td>\n",
       "      <td>0.253835</td>\n",
       "      <td>1.000000</td>\n",
       "    </tr>\n",
       "  </tbody>\n",
       "</table>\n",
       "</div>"
      ],
      "text/plain": [
       "            youtube  facebook  newspaper     sales\n",
       "youtube    1.000000  0.092200   0.110262  0.776382\n",
       "facebook   0.092200  1.000000   0.270263  0.614581\n",
       "newspaper  0.110262  0.270263   1.000000  0.253835\n",
       "sales      0.776382  0.614581   0.253835  1.000000"
      ]
     },
     "execution_count": 9,
     "metadata": {},
     "output_type": "execute_result"
    }
   ],
   "source": [
    "df.corr()"
   ]
  },
  {
   "cell_type": "markdown",
   "id": "1d51386d-7dec-4241-a17c-2901f4d0c847",
   "metadata": {},
   "source": [
    "### Vì chúng ta muốn xem xét liệu nên đầu tư quảng cáo vào đâu sẽ làm tăng doanh thu (sales) nên ta cần xem xét mức độ tương quan của các cột khác với cột sales"
   ]
  },
  {
   "cell_type": "code",
   "execution_count": 10,
   "id": "eb1ef6fc-2afe-4bb7-89bd-8a7db578ab46",
   "metadata": {},
   "outputs": [
    {
     "data": {
      "text/html": [
       "<div>\n",
       "<style scoped>\n",
       "    .dataframe tbody tr th:only-of-type {\n",
       "        vertical-align: middle;\n",
       "    }\n",
       "\n",
       "    .dataframe tbody tr th {\n",
       "        vertical-align: top;\n",
       "    }\n",
       "\n",
       "    .dataframe thead th {\n",
       "        text-align: right;\n",
       "    }\n",
       "</style>\n",
       "<table border=\"1\" class=\"dataframe\">\n",
       "  <thead>\n",
       "    <tr style=\"text-align: right;\">\n",
       "      <th></th>\n",
       "      <th>sales</th>\n",
       "    </tr>\n",
       "  </thead>\n",
       "  <tbody>\n",
       "    <tr>\n",
       "      <th>youtube</th>\n",
       "      <td>0.776382</td>\n",
       "    </tr>\n",
       "    <tr>\n",
       "      <th>facebook</th>\n",
       "      <td>0.614581</td>\n",
       "    </tr>\n",
       "    <tr>\n",
       "      <th>newspaper</th>\n",
       "      <td>0.253835</td>\n",
       "    </tr>\n",
       "  </tbody>\n",
       "</table>\n",
       "</div>"
      ],
      "text/plain": [
       "              sales\n",
       "youtube    0.776382\n",
       "facebook   0.614581\n",
       "newspaper  0.253835"
      ]
     },
     "execution_count": 10,
     "metadata": {},
     "output_type": "execute_result"
    }
   ],
   "source": [
    "df.corr().sort_values(by='sales', ascending=False)[1:][['sales']]"
   ]
  },
  {
   "cell_type": "code",
   "execution_count": 11,
   "id": "222dd649-a92c-4fb0-82c6-e3787a1aa2ef",
   "metadata": {},
   "outputs": [
    {
     "data": {
      "image/png": "[encoded data removed]",
      "text/plain": [
       "<Figure size 864x720 with 2 Axes>"
      ]
     },
     "metadata": {
      "needs_background": "light"
     },
     "output_type": "display_data"
    }
   ],
   "source": [
    "plt.figure(figsize=(12, 10))\n",
    "sns.heatmap(df.corr(), annot=True, vmin=-1, vmax=1)\n",
    "plt.show()"
   ]
  },
  {
   "cell_type": "code",
   "execution_count": 12,
   "id": "bbed27b4",
   "metadata": {},
   "outputs": [],
   "source": [
    "def make_scatterplot(df, x, y, title, **kwargs):\n",
    "    plt.figure(figsize=(15, 7))\n",
    "    sns.scatterplot(data=df, x=x, y=y, **kwargs)\n",
    "    plt.title(title, fontsize=18)\n",
    "    plt.xlabel(x + ' advertising costs', fontsize=14)\n",
    "    plt.ylabel(y, fontsize=14)\n",
    "    plt.show()"
   ]
  },
  {
   "cell_type": "code",
   "execution_count": 13,
   "id": "c73b81c4",
   "metadata": {
    "tags": []
   },
   "outputs": [
    {
     "data": {
      "image/png": "[encoded data removed]",
      "text/plain": [
       "<Figure size 1080x504 with 1 Axes>"
      ]
     },
     "metadata": {
      "needs_background": "light"
     },
     "output_type": "display_data"
    },
    {
     "data": {
      "image/png": "[encoded data removed]",
      "text/plain": [
       "<Figure size 1080x504 with 1 Axes>"
      ]
     },
     "metadata": {
      "needs_background": "light"
     },
     "output_type": "display_data"
    },
    {
     "data": {
      "image/png": "[encoded data removed]",
      "text/plain": [
       "<Figure size 1080x504 with 1 Axes>"
      ]
     },
     "metadata": {
      "needs_background": "light"
     },
     "output_type": "display_data"
    }
   ],
   "source": [
    "for col in df.columns[:-1]:\n",
    "    make_scatterplot(df, col, 'sales', title='Đồ thị phân tán chí phí quảng cáo %s và lợi nhuận' % (col))"
   ]
  },
  {
   "cell_type": "markdown",
   "id": "2538a912-5c8e-4365-8934-4ad809ab90ad",
   "metadata": {},
   "source": [
    "## Nhận xét về sự tương quan giữa các biến\n",
    "- Cột **YouTube** và cột **Facebook** có tương quan khá tốt với cột **Sales**, ta hình dung dữ liệu theo từng cặp có tương quan đồng biến và gần như nằm trên một đường thẳng\n",
    "- Cột **Newspaper** có tương quan khá thấp với cột **Sales**, từ scatter trên ta cũng thấy rằng chúng phân bố rải đều và hầu như rời rạc với nhau<br>\n",
    "$=>$ Chi phí quảng cáo dành cho **YouTube** và **Facebook** có tầm ảnh hưởng quan trọng đối với lợi nhuận của công ty (**Sales**), còn chi phí quảng cáo trên **Newsaper** gần như không đem lại lợi nhuận. Do đó, ta nên đầu tư quảng cáo vào 2 mảng chính là **YouTube** và **Facebook**."
   ]
  },
  {
   "cell_type": "markdown",
   "id": "44f2ecf1-49a7-46c4-9e88-f86ba4cec37e",
   "metadata": {},
   "source": [
    "## Vậy câu hỏi đặt ra là: Chúng ta nên đầu tư chi phí quảng cáo vào YouTube hay Facebook?"
   ]
  },
  {
   "cell_type": "markdown",
   "id": "dde810d3-0b31-4c33-8fb4-a41f9229f56a",
   "metadata": {},
   "source": [
    "<p style=\"font-size:20px; text-align:justify\"><b>Để trả lời cho câu hỏi này, ý tưởng là ta sẽ xây dựng các mô hình học máy dựa trên bộ dữ liệu đã có nhằm đánh giá mức độ hiệu quả của việc đầu tư. Với bài toán này chúng ta sử dụng hai mô hình hồi quy tuyến tính đơn biến\n",
    "    </b>\n",
    "</p>"
   ]
  },
  {
   "cell_type": "markdown",
   "id": "b4928d70-96a9-4176-80ea-c3e68e314194",
   "metadata": {},
   "source": [
    "<p style=\"font-size:20px; text-align:justify\">Giải thích lý do tại sao lại sử dụng mô hình hồi quy tuyến tính: bài toán này thuộc lớp bài toán dự đoán giá trị (predict) giữa các biến có mối tương quan với nhau, một/nhiều biến sẽ là biến độc lập và biến còn lại là biến phản hồi. Dạng bài toán này là tìm ra một hàm có dạng $h(x) = ax + b$ sao cho các giá trị mà hàm này dự đoán gần đúng nhất với giá trị thực tế.</p>"
   ]
  },
  {
   "cell_type": "markdown",
   "id": "b401f798-f610-4c6b-9719-84d2b3eb0016",
   "metadata": {},
   "source": [
    "# 2. Chuẩn bị dữ liệu"
   ]
  },
  {
   "cell_type": "markdown",
   "id": "4030f97a-bdf5-4d03-bfcd-bab0da5d8854",
   "metadata": {},
   "source": [
    "## Xây dựng mô hình hồi quy tuyến tính giữa **YouTube** và **Sales** ta cần chuẩn bị các dữ liệu"
   ]
  },
  {
   "cell_type": "code",
   "execution_count": 14,
   "id": "4c984427-6e48-430c-89a1-7f31257123d7",
   "metadata": {},
   "outputs": [],
   "source": [
    "X_yt = df[['youtube']]\n",
    "y_yt = df.sales\n",
    "\n",
    "X_yt_train, X_yt_test, y_yt_train, y_yt_test = train_test_split(X_yt, y_yt, test_size=.2, random_state=52)"
   ]
  },
  {
   "cell_type": "markdown",
   "id": "87892ef7-b9d3-404f-9743-337a4cec8411",
   "metadata": {},
   "source": [
    "## Xây dựng mô hình hồi quy tuyến tính giữa **Facebook** và **Sales** ta cần chuẩn bị các dữ liệu"
   ]
  },
  {
   "cell_type": "code",
   "execution_count": 15,
   "id": "9ab95f7d-edd4-466c-9add-fed8530aff50",
   "metadata": {},
   "outputs": [],
   "source": [
    "X_fb = df[['facebook']]\n",
    "y_fb = df.sales\n",
    "\n",
    "X_fb_train, X_fb_test, y_fb_train, y_fb_test = train_test_split(X_fb, y_fb, test_size=.2, random_state=52)"
   ]
  },
  {
   "cell_type": "markdown",
   "id": "9c63c3c3-b556-4eb1-a812-1e19d581ac12",
   "metadata": {},
   "source": [
    "# 3. Xây dựng mô hình"
   ]
  },
  {
   "cell_type": "markdown",
   "id": "09fc75e9-6626-4e7a-b4bf-5df5d22d8196",
   "metadata": {},
   "source": [
    "## Ý tưởng xây dựng mô hình"
   ]
  },
  {
   "cell_type": "markdown",
   "id": "49aa9301-e1ae-4a0b-a62b-0e7773f94f3a",
   "metadata": {},
   "source": [
    "![Learning Algorithm](./assets/la.png)"
   ]
  },
  {
   "cell_type": "markdown",
   "id": "a857fcd3-78c9-4a4f-8e0d-beccbad745a5",
   "metadata": {},
   "source": [
    "## Xây dựng mô hình hồi quy tuyến tính giữa **YouTube** và **Sales**"
   ]
  },
  {
   "cell_type": "code",
   "execution_count": 16,
   "id": "8e11fad1-0346-49a7-830d-10f5ae29fdcc",
   "metadata": {},
   "outputs": [],
   "source": [
    "model_yt = LinearRegression().fit(X_yt_train, y_yt_train)\n",
    "yt_pred = model_yt.predict(X_yt_test)"
   ]
  },
  {
   "cell_type": "markdown",
   "id": "7fdbc9b4-cd68-4f77-9403-af8ca2a0a8f5",
   "metadata": {},
   "source": [
    "### Trực quan mô hình"
   ]
  },
  {
   "cell_type": "code",
   "execution_count": 17,
   "id": "221ad0b0-081b-4c4d-a1ce-fc7d2060553f",
   "metadata": {},
   "outputs": [
    {
     "data": {
      "image/png": "[encoded data removed]",
      "text/plain": [
       "<Figure size 1080x432 with 1 Axes>"
      ]
     },
     "metadata": {
      "needs_background": "light"
     },
     "output_type": "display_data"
    }
   ],
   "source": [
    "xx = np.linspace(df['youtube'].min(), df['youtube'].max(), 2)\n",
    "yy = model_yt.intercept_ + model_yt.coef_ * xx\n",
    "\n",
    "plt.figure(figsize=(15, 6))\n",
    "sns.scatterplot(df['youtube'], df['sales'], color='r')\n",
    "sns.lineplot(xx, yy, color='b')\n",
    "plt.show()"
   ]
  },
  {
   "cell_type": "markdown",
   "id": "7e4031c8-c29b-45ef-b680-32aabd64a958",
   "metadata": {},
   "source": [
    "## Xây dựng mô hình hồi quy tuyến tính giữa **Facebook** và **Sales**"
   ]
  },
  {
   "cell_type": "code",
   "execution_count": 18,
   "id": "4c73a99e-4ac6-44f6-bf12-b8035d7bcdb7",
   "metadata": {},
   "outputs": [],
   "source": [
    "model_fb = LinearRegression().fit(X_fb_train, y_fb_train)\n",
    "fb_pred = model_fb.predict(X_fb_test)"
   ]
  },
  {
   "cell_type": "markdown",
   "id": "0003ebf8-3da7-474b-9b93-0e6f34ba74b7",
   "metadata": {},
   "source": [
    "### Trực quan mô hình"
   ]
  },
  {
   "cell_type": "code",
   "execution_count": 19,
   "id": "cd110d4f-a9d6-469f-8ee6-69d6a6e60ac2",
   "metadata": {},
   "outputs": [
    {
     "data": {
      "image/png": "[encoded data removed]",
      "text/plain": [
       "<Figure size 1080x432 with 1 Axes>"
      ]
     },
     "metadata": {
      "needs_background": "light"
     },
     "output_type": "display_data"
    }
   ],
   "source": [
    "xx = np.linspace(df['facebook'].min(), df['facebook'].max(), 2)\n",
    "yy = model_fb.intercept_ + model_fb.coef_ * xx\n",
    "\n",
    "plt.figure(figsize=(15, 6))\n",
    "sns.scatterplot(df['facebook'], df['sales'], color='r')\n",
    "sns.lineplot(xx, yy, color='b')\n",
    "plt.show()"
   ]
  },
  {
   "cell_type": "markdown",
   "id": "6c875c25-72eb-4c6d-a394-c2942e5441ff",
   "metadata": {},
   "source": [
    "# 4. Đánh giá mô hình và đưa ra kết luận"
   ]
  },
  {
   "cell_type": "markdown",
   "id": "8e11ab40-0f98-4419-8d6b-5ed68d43b86c",
   "metadata": {},
   "source": [
    "## Để đánh giá 2 mô hình hồi quy tuyến tính xem mô hình nào tốt hơn, ta sử dụng 2 tham số là $R^2$ và $MSE$/$RMSE$"
   ]
  },
  {
   "cell_type": "markdown",
   "id": "fab499bb-b842-4d1c-9531-80a7a703161d",
   "metadata": {},
   "source": [
    "<p style=\"font-size:18px\">\n",
    "    R Square ($R^2$) là hệ số xác định (coefficient of determination) mức độ biến thiên của <b><i>biến phụ thuộc</i></b> (dependent variable)\n",
    "    được giải thích bao nhiêu phần trăm bởi mô hình.<br>\n",
    "    Adjusted R Square là hệ số xác định hiệu chỉnh có ý nghĩa tương tự hệ số xác định.\n",
    "</p>"
   ]
  },
  {
   "cell_type": "markdown",
   "id": "1142cf1b-28d5-4823-b746-4437899c870c",
   "metadata": {},
   "source": [
    "## Công thức của hệ số xác định $R^2$:\n",
    "\n",
    "![Rsquared formula](./assets/rsquared.png)"
   ]
  },
  {
   "cell_type": "markdown",
   "id": "12bfcdf3-6e9e-4d8f-beac-fbcec40b1efd",
   "metadata": {},
   "source": [
    "<p style=\"font-size:18px\">\n",
    "    MSE là Mean Squared Error, sai số toàn phương trung bình, là sự chênh lệch bình phương trung bình giữa các giá trị thực và giá trị ước tính<br>\n",
    "    RMSE là phép lấy căn bậc 2 của MSE, vì trong khi tính toán phép MSE ta có sử dụng bình phương, nó sẽ có cùng giá trị với dữ liệu\n",
    "</p>"
   ]
  },
  {
   "cell_type": "markdown",
   "id": "60430c28-8282-448e-ad94-9dc18cf04a45",
   "metadata": {},
   "source": [
    "## Công thức của $MSE$:\n",
    "\n",
    "![mese formula](./assets/mse.svg)"
   ]
  },
  {
   "cell_type": "markdown",
   "id": "5e535453-8690-46a1-8bb4-67e6a6d99486",
   "metadata": {},
   "source": [
    "## Công thức của $RMSE$:\n",
    "\n",
    "![rmse formula](./assets/rmse.png)"
   ]
  },
  {
   "cell_type": "markdown",
   "id": "9e57cf99-8222-4463-9c09-17c18119b717",
   "metadata": {},
   "source": [
    "## Thì để đánh giá 2 mô hình dựa trên các tham số này thì ta có, mô hình nào có điểm cao hơn với lỗi ít hơn sẽ là mô hình tốt hơn"
   ]
  },
  {
   "cell_type": "code",
   "execution_count": 20,
   "id": "c98ae921-992c-42a8-bfce-a409b6e3b1c8",
   "metadata": {},
   "outputs": [
    {
     "name": "stdout",
     "output_type": "stream",
     "text": [
      "Điểm R^2 của mô hình hồi quy thứ nhất là: 0.6042635335109166\n",
      "RMSE của mô hình hồi quy thứ nhất là: 4.401180738706741\n"
     ]
    }
   ],
   "source": [
    "# Điểm R2 của mô hình thứ nhất (YouTube và Sales)\n",
    "print(\"Điểm R^2 của mô hình hồi quy thứ nhất là:\", r2_score(y_yt_test, yt_pred))\n",
    "print(\"RMSE của mô hình hồi quy thứ nhất là:\", np.sqrt(mean_squared_error(y_yt_test, yt_pred)))"
   ]
  },
  {
   "cell_type": "code",
   "execution_count": 21,
   "id": "ec8c8c81-3992-4c4d-9f05-733b9c0752b7",
   "metadata": {},
   "outputs": [
    {
     "name": "stdout",
     "output_type": "stream",
     "text": [
      "Điểm R^2 của mô hình hồi quy thứ hai là: 0.30722362069667575\n",
      "RMSE của mô hình hồi quy thứ hai là: 5.823213372095382\n"
     ]
    }
   ],
   "source": [
    "# Điểm R2 của mô hình thứ hai (Facebook và Sales)\n",
    "print(\"Điểm R^2 của mô hình hồi quy thứ hai là:\", r2_score(y_fb_test, fb_pred))\n",
    "print(\"RMSE của mô hình hồi quy thứ hai là:\", np.sqrt(mean_squared_error(y_fb_test, fb_pred)))"
   ]
  },
  {
   "cell_type": "markdown",
   "id": "9537a92f-5596-4077-9c26-f4d747595424",
   "metadata": {},
   "source": [
    "***Nhận xét:*** Ta thấy mô hình thứ nhất có điểm cao hơn với lỗi thấp hơn nên sẽ là mô hình tốt hơn."
   ]
  },
  {
   "cell_type": "markdown",
   "id": "c2d28a01-9636-45ec-bef6-3366a47f4326",
   "metadata": {},
   "source": [
    "## Kết luận: Do đó, ta nên đầu tư chi phí quảng cáo vào YouTube sẽ đem lại lợi nhuận cho công ty"
   ]
  },
  {
   "cell_type": "markdown",
   "id": "88d3afbc-d884-4a1f-ab60-4f9599548908",
   "metadata": {},
   "source": [
    "# 5. Dự đoán lợi nhuận"
   ]
  },
  {
   "cell_type": "markdown",
   "id": "2e4650b4-125c-4938-a13e-1c5028c64920",
   "metadata": {},
   "source": [
    "## Vấn đề: Dự đoán lợi nhuận thu được nếu đầu tư $200$K USD vào việc quảng cáo trên YouTube"
   ]
  },
  {
   "cell_type": "markdown",
   "id": "1d904024-a744-4aa8-8acf-e8127b0fa7df",
   "metadata": {},
   "source": [
    "### Ta sẽ sử dụng mô hình học máy đã được xây dựng ở trên để đưa ra dự đoán"
   ]
  },
  {
   "cell_type": "markdown",
   "id": "d61b016b-1f02-4b54-8761-e4192ca93682",
   "metadata": {},
   "source": [
    "### Bản chất của mô hình học máy này là một hàm $f(x) = ax + b$ nên ta dễ dàng có thể đưa ra được dữ đoán bằng cách thế số tiền cần đầu tư và ta sẽ có giá trị dự đoán lợi nhuận. Thư viện scikit-learn cung cấp hàm dự đoán cho ta, do đó việc dự đoán trở nên dễ dàng"
   ]
  },
  {
   "cell_type": "code",
   "execution_count": 22,
   "id": "fff2ae04-6ace-4810-9ff6-cf4dd6bde94b",
   "metadata": {},
   "outputs": [
    {
     "name": "stdout",
     "output_type": "stream",
     "text": [
      "Lợi nhuận thu lại được nếu ta đầu tư 200K USD vào quảng cáo của YouTube là 17.64844886332789K USD\n"
     ]
    }
   ],
   "source": [
    "yt_costs = 200\n",
    "sales_pred = model_yt.predict([[yt_costs]])\n",
    "print(f'Lợi nhuận thu lại được nếu ta đầu tư {yt_costs}K USD vào quảng cáo của YouTube là {sales_pred[0]}K USD')"
   ]
  },
  {
   "cell_type": "markdown",
   "id": "c776c6de-d15c-402d-ba5b-2bebd4a517dd",
   "metadata": {},
   "source": [
    "## Giá trị lợi nhuận chỉ mang tính tương đối, trong thực tế có thể thay đổi lên xuống tuy nhiên thay đổi không nhiều"
   ]
  }
 ],
 "metadata": {
  "kernelspec": {
   "display_name": "Python 3",
   "language": "python",
   "name": "python3"
  },
  "language_info": {
   "codemirror_mode": {
    "name": "ipython",
    "version": 3
   },
   "file_extension": ".py",
   "mimetype": "text/x-python",
   "name": "python",
   "nbconvert_exporter": "python",
   "pygments_lexer": "ipython3",
   "version": "3.8.10"
  }
 },
 "nbformat": 4,
 "nbformat_minor": 5
}
