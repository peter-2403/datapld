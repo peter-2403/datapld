{
  "nbformat": 4,
  "nbformat_minor": 0,
  "metadata": {
    "colab": {
      "name": "Thinh's main.ipynb",
      "provenance": [],
      "collapsed_sections": [
        "0373N4iYkSoG",
        "29kF4TxdseV6",
        "BlVphgttmJLd",
        "hhZOW3z2nSkJ",
        "zVmfUwYjxQjl",
        "JatUYr-Is9lT"
      ]
    },
    "kernelspec": {
      "name": "python3",
      "display_name": "Python 3"
    },
    "language_info": {
      "name": "python"
    }
  },
  "cells": [
    {
      "cell_type": "markdown",
      "metadata": {
        "id": "0373N4iYkSoG"
      },
      "source": [
        "\n",
        "## Import những thư viện cần thiết\n"
      ]
    },
    {
      "cell_type": "code",
      "metadata": {
        "id": "WmT5AJGfkWQ-"
      },
      "source": [
        "import pandas as pd # thư viện làm việc với dữ liệu dạng bảng\n",
        "import numpy as np # thư viện tối ưu hóa tính toán trên mảng\n",
        "import matplotlib.pyplot as plt # thư viện vẽ biểu đồ\n",
        "import seaborn as sns # thư viện vẽ biểu đồ \n",
        "import math # thư viện toán có sẵn\n",
        "from sklearn.model_selection import train_test_split # hàm chia dữ liệu\n",
        "from sklearn.linear_model import LinearRegression # mô hình hồi quy tuyến tính\n",
        "import re # Package hỗ trợ dùng regex\n",
        "from collections import Counter\n",
        "from sklearn.ensemble import RandomForestRegressor #Mô hình RandomForest cho hồi quy."
      ],
      "execution_count": 5,
      "outputs": []
    },
    {
      "cell_type": "markdown",
      "metadata": {
        "id": "K-DrMEYxkhol"
      },
      "source": [
        "\n",
        "#**Data Understanding**"
      ]
    },
    {
      "cell_type": "code",
      "metadata": {
        "id": "dgZcUWSokkar",
        "colab": {
          "base_uri": "https://localhost:8080/",
          "height": 419
        },
        "outputId": "6ef33b0d-fb28-4404-e7ec-dd2dfe338b14"
      },
      "source": [
        "# Load dữ liệu lên để sử dụng\n",
        "df = pd.read_csv('euro_it_salary_2020.csv', index_col=0)\n",
        "df"
      ],
      "execution_count": 6,
      "outputs": [
        {
          "output_type": "execute_result",
          "data": {
            "text/html": [
              "<div>\n",
              "<style scoped>\n",
              "    .dataframe tbody tr th:only-of-type {\n",
              "        vertical-align: middle;\n",
              "    }\n",
              "\n",
              "    .dataframe tbody tr th {\n",
              "        vertical-align: top;\n",
              "    }\n",
              "\n",
              "    .dataframe thead th {\n",
              "        text-align: right;\n",
              "    }\n",
              "</style>\n",
              "<table border=\"1\" class=\"dataframe\">\n",
              "  <thead>\n",
              "    <tr style=\"text-align: right;\">\n",
              "      <th></th>\n",
              "      <th>Age</th>\n",
              "      <th>Gender</th>\n",
              "      <th>TotYrsOfExp</th>\n",
              "      <th>MainTech</th>\n",
              "      <th>AnualSalary</th>\n",
              "    </tr>\n",
              "  </thead>\n",
              "  <tbody>\n",
              "    <tr>\n",
              "      <th>0</th>\n",
              "      <td>26.0</td>\n",
              "      <td>Male</td>\n",
              "      <td>5</td>\n",
              "      <td>TypeScript</td>\n",
              "      <td>75000.0</td>\n",
              "    </tr>\n",
              "    <tr>\n",
              "      <th>1</th>\n",
              "      <td>26.0</td>\n",
              "      <td>Male</td>\n",
              "      <td>7</td>\n",
              "      <td>Ruby</td>\n",
              "      <td>82000.0</td>\n",
              "    </tr>\n",
              "    <tr>\n",
              "      <th>2</th>\n",
              "      <td>29.0</td>\n",
              "      <td>Male</td>\n",
              "      <td>12</td>\n",
              "      <td>Javascript / Typescript</td>\n",
              "      <td>100000.0</td>\n",
              "    </tr>\n",
              "    <tr>\n",
              "      <th>3</th>\n",
              "      <td>28.0</td>\n",
              "      <td>Male</td>\n",
              "      <td>4</td>\n",
              "      <td>Javascript</td>\n",
              "      <td>NaN</td>\n",
              "    </tr>\n",
              "    <tr>\n",
              "      <th>4</th>\n",
              "      <td>37.0</td>\n",
              "      <td>Male</td>\n",
              "      <td>17</td>\n",
              "      <td>C# .NET</td>\n",
              "      <td>62000.0</td>\n",
              "    </tr>\n",
              "    <tr>\n",
              "      <th>...</th>\n",
              "      <td>...</td>\n",
              "      <td>...</td>\n",
              "      <td>...</td>\n",
              "      <td>...</td>\n",
              "      <td>...</td>\n",
              "    </tr>\n",
              "    <tr>\n",
              "      <th>1248</th>\n",
              "      <td>31.0</td>\n",
              "      <td>Male</td>\n",
              "      <td>9</td>\n",
              "      <td>Java</td>\n",
              "      <td>70000.0</td>\n",
              "    </tr>\n",
              "    <tr>\n",
              "      <th>1249</th>\n",
              "      <td>33.0</td>\n",
              "      <td>Male</td>\n",
              "      <td>10</td>\n",
              "      <td>consumer analysis</td>\n",
              "      <td>48000.0</td>\n",
              "    </tr>\n",
              "    <tr>\n",
              "      <th>1250</th>\n",
              "      <td>39.0</td>\n",
              "      <td>Male</td>\n",
              "      <td>15</td>\n",
              "      <td>PHP</td>\n",
              "      <td>90000.0</td>\n",
              "    </tr>\n",
              "    <tr>\n",
              "      <th>1251</th>\n",
              "      <td>26.0</td>\n",
              "      <td>Male</td>\n",
              "      <td>7</td>\n",
              "      <td>JavaScript</td>\n",
              "      <td>33800.0</td>\n",
              "    </tr>\n",
              "    <tr>\n",
              "      <th>1252</th>\n",
              "      <td>26.0</td>\n",
              "      <td>Male</td>\n",
              "      <td>2</td>\n",
              "      <td>yaml</td>\n",
              "      <td>40000.0</td>\n",
              "    </tr>\n",
              "  </tbody>\n",
              "</table>\n",
              "<p>1253 rows × 5 columns</p>\n",
              "</div>"
            ],
            "text/plain": [
              "       Age Gender TotYrsOfExp                 MainTech  AnualSalary\n",
              "0     26.0   Male           5               TypeScript      75000.0\n",
              "1     26.0   Male           7                     Ruby      82000.0\n",
              "2     29.0   Male          12  Javascript / Typescript     100000.0\n",
              "3     28.0   Male           4               Javascript          NaN\n",
              "4     37.0   Male          17                  C# .NET      62000.0\n",
              "...    ...    ...         ...                      ...          ...\n",
              "1248  31.0   Male           9                     Java      70000.0\n",
              "1249  33.0   Male          10        consumer analysis      48000.0\n",
              "1250  39.0   Male          15                      PHP      90000.0\n",
              "1251  26.0   Male           7               JavaScript      33800.0\n",
              "1252  26.0   Male           2                     yaml      40000.0\n",
              "\n",
              "[1253 rows x 5 columns]"
            ]
          },
          "metadata": {
            "tags": []
          },
          "execution_count": 6
        }
      ]
    },
    {
      "cell_type": "code",
      "metadata": {
        "id": "WPhgUV1FkqB2",
        "colab": {
          "base_uri": "https://localhost:8080/",
          "height": 359
        },
        "outputId": "4a131d10-e0a9-436a-9f92-89291112a04c"
      },
      "source": [
        "# Xem ngẫu nhiên n dòng dữ liệu\n",
        "df.sample(10)"
      ],
      "execution_count": 7,
      "outputs": [
        {
          "output_type": "execute_result",
          "data": {
            "text/html": [
              "<div>\n",
              "<style scoped>\n",
              "    .dataframe tbody tr th:only-of-type {\n",
              "        vertical-align: middle;\n",
              "    }\n",
              "\n",
              "    .dataframe tbody tr th {\n",
              "        vertical-align: top;\n",
              "    }\n",
              "\n",
              "    .dataframe thead th {\n",
              "        text-align: right;\n",
              "    }\n",
              "</style>\n",
              "<table border=\"1\" class=\"dataframe\">\n",
              "  <thead>\n",
              "    <tr style=\"text-align: right;\">\n",
              "      <th></th>\n",
              "      <th>Age</th>\n",
              "      <th>Gender</th>\n",
              "      <th>TotYrsOfExp</th>\n",
              "      <th>MainTech</th>\n",
              "      <th>AnualSalary</th>\n",
              "    </tr>\n",
              "  </thead>\n",
              "  <tbody>\n",
              "    <tr>\n",
              "      <th>1225</th>\n",
              "      <td>24.0</td>\n",
              "      <td>Male</td>\n",
              "      <td>5</td>\n",
              "      <td>TypeScript</td>\n",
              "      <td>65000.0</td>\n",
              "    </tr>\n",
              "    <tr>\n",
              "      <th>737</th>\n",
              "      <td>25.0</td>\n",
              "      <td>Male</td>\n",
              "      <td>8</td>\n",
              "      <td>Clojure</td>\n",
              "      <td>NaN</td>\n",
              "    </tr>\n",
              "    <tr>\n",
              "      <th>453</th>\n",
              "      <td>23.0</td>\n",
              "      <td>Male</td>\n",
              "      <td>5</td>\n",
              "      <td>Javascript</td>\n",
              "      <td>NaN</td>\n",
              "    </tr>\n",
              "    <tr>\n",
              "      <th>45</th>\n",
              "      <td>48.0</td>\n",
              "      <td>Male</td>\n",
              "      <td>25</td>\n",
              "      <td>Java</td>\n",
              "      <td>75000.0</td>\n",
              "    </tr>\n",
              "    <tr>\n",
              "      <th>427</th>\n",
              "      <td>32.0</td>\n",
              "      <td>Female</td>\n",
              "      <td>7</td>\n",
              "      <td>Kotlin</td>\n",
              "      <td>55000.0</td>\n",
              "    </tr>\n",
              "    <tr>\n",
              "      <th>759</th>\n",
              "      <td>29.0</td>\n",
              "      <td>Male</td>\n",
              "      <td>6</td>\n",
              "      <td>Swift</td>\n",
              "      <td>NaN</td>\n",
              "    </tr>\n",
              "    <tr>\n",
              "      <th>462</th>\n",
              "      <td>34.0</td>\n",
              "      <td>Male</td>\n",
              "      <td>13</td>\n",
              "      <td>Kotlin</td>\n",
              "      <td>NaN</td>\n",
              "    </tr>\n",
              "    <tr>\n",
              "      <th>622</th>\n",
              "      <td>35.0</td>\n",
              "      <td>Male</td>\n",
              "      <td>15</td>\n",
              "      <td>C</td>\n",
              "      <td>63000.0</td>\n",
              "    </tr>\n",
              "    <tr>\n",
              "      <th>487</th>\n",
              "      <td>42.0</td>\n",
              "      <td>Male</td>\n",
              "      <td>17</td>\n",
              "      <td>Go</td>\n",
              "      <td>73000.0</td>\n",
              "    </tr>\n",
              "    <tr>\n",
              "      <th>524</th>\n",
              "      <td>29.0</td>\n",
              "      <td>Female</td>\n",
              "      <td>9</td>\n",
              "      <td>Java</td>\n",
              "      <td>60000.0</td>\n",
              "    </tr>\n",
              "  </tbody>\n",
              "</table>\n",
              "</div>"
            ],
            "text/plain": [
              "       Age  Gender TotYrsOfExp    MainTech  AnualSalary\n",
              "1225  24.0    Male           5  TypeScript      65000.0\n",
              "737   25.0    Male           8     Clojure          NaN\n",
              "453   23.0    Male           5  Javascript          NaN\n",
              "45    48.0    Male          25        Java      75000.0\n",
              "427   32.0  Female           7      Kotlin      55000.0\n",
              "759   29.0    Male           6       Swift          NaN\n",
              "462   34.0    Male          13     Kotlin           NaN\n",
              "622   35.0    Male          15           C      63000.0\n",
              "487   42.0    Male          17          Go      73000.0\n",
              "524   29.0  Female           9        Java      60000.0"
            ]
          },
          "metadata": {
            "tags": []
          },
          "execution_count": 7
        }
      ]
    },
    {
      "cell_type": "code",
      "metadata": {
        "id": "Ag2sq90pkriU",
        "colab": {
          "base_uri": "https://localhost:8080/"
        },
        "outputId": "6ddaf6e2-a857-419e-c8b1-3a3fcaaf9848"
      },
      "source": [
        "# Kích thước dữ liệu\n",
        "df.shape"
      ],
      "execution_count": 8,
      "outputs": [
        {
          "output_type": "execute_result",
          "data": {
            "text/plain": [
              "(1253, 5)"
            ]
          },
          "metadata": {
            "tags": []
          },
          "execution_count": 8
        }
      ]
    },
    {
      "cell_type": "code",
      "metadata": {
        "id": "7SC4dum7kuvT",
        "colab": {
          "base_uri": "https://localhost:8080/"
        },
        "outputId": "16763174-dc4c-4069-e3aa-8d71704071d1"
      },
      "source": [
        "# Kiểu dữ liệu\n",
        "df.info()"
      ],
      "execution_count": 9,
      "outputs": [
        {
          "output_type": "stream",
          "text": [
            "<class 'pandas.core.frame.DataFrame'>\n",
            "Int64Index: 1253 entries, 0 to 1252\n",
            "Data columns (total 5 columns):\n",
            " #   Column       Non-Null Count  Dtype  \n",
            "---  ------       --------------  -----  \n",
            " 0   Age          1226 non-null   float64\n",
            " 1   Gender       1243 non-null   object \n",
            " 2   TotYrsOfExp  1237 non-null   object \n",
            " 3   MainTech     1126 non-null   object \n",
            " 4   AnualSalary  885 non-null    float64\n",
            "dtypes: float64(2), object(3)\n",
            "memory usage: 58.7+ KB\n"
          ],
          "name": "stdout"
        }
      ]
    },
    {
      "cell_type": "code",
      "metadata": {
        "id": "CPeM6Vm7kv_z",
        "colab": {
          "base_uri": "https://localhost:8080/",
          "height": 297
        },
        "outputId": "d8536439-0a36-4427-8267-f077dfdcbc5a"
      },
      "source": [
        "# Mô tả thống kê\n",
        "df.describe()"
      ],
      "execution_count": 10,
      "outputs": [
        {
          "output_type": "execute_result",
          "data": {
            "text/html": [
              "<div>\n",
              "<style scoped>\n",
              "    .dataframe tbody tr th:only-of-type {\n",
              "        vertical-align: middle;\n",
              "    }\n",
              "\n",
              "    .dataframe tbody tr th {\n",
              "        vertical-align: top;\n",
              "    }\n",
              "\n",
              "    .dataframe thead th {\n",
              "        text-align: right;\n",
              "    }\n",
              "</style>\n",
              "<table border=\"1\" class=\"dataframe\">\n",
              "  <thead>\n",
              "    <tr style=\"text-align: right;\">\n",
              "      <th></th>\n",
              "      <th>Age</th>\n",
              "      <th>AnualSalary</th>\n",
              "    </tr>\n",
              "  </thead>\n",
              "  <tbody>\n",
              "    <tr>\n",
              "      <th>count</th>\n",
              "      <td>1226.000000</td>\n",
              "      <td>8.850000e+02</td>\n",
              "    </tr>\n",
              "    <tr>\n",
              "      <th>mean</th>\n",
              "      <td>32.509788</td>\n",
              "      <td>6.322459e+05</td>\n",
              "    </tr>\n",
              "    <tr>\n",
              "      <th>std</th>\n",
              "      <td>5.663804</td>\n",
              "      <td>1.680508e+07</td>\n",
              "    </tr>\n",
              "    <tr>\n",
              "      <th>min</th>\n",
              "      <td>20.000000</td>\n",
              "      <td>1.100000e+04</td>\n",
              "    </tr>\n",
              "    <tr>\n",
              "      <th>25%</th>\n",
              "      <td>29.000000</td>\n",
              "      <td>5.500000e+04</td>\n",
              "    </tr>\n",
              "    <tr>\n",
              "      <th>50%</th>\n",
              "      <td>32.000000</td>\n",
              "      <td>6.500000e+04</td>\n",
              "    </tr>\n",
              "    <tr>\n",
              "      <th>75%</th>\n",
              "      <td>35.000000</td>\n",
              "      <td>7.500000e+04</td>\n",
              "    </tr>\n",
              "    <tr>\n",
              "      <th>max</th>\n",
              "      <td>69.000000</td>\n",
              "      <td>5.000000e+08</td>\n",
              "    </tr>\n",
              "  </tbody>\n",
              "</table>\n",
              "</div>"
            ],
            "text/plain": [
              "               Age   AnualSalary\n",
              "count  1226.000000  8.850000e+02\n",
              "mean     32.509788  6.322459e+05\n",
              "std       5.663804  1.680508e+07\n",
              "min      20.000000  1.100000e+04\n",
              "25%      29.000000  5.500000e+04\n",
              "50%      32.000000  6.500000e+04\n",
              "75%      35.000000  7.500000e+04\n",
              "max      69.000000  5.000000e+08"
            ]
          },
          "metadata": {
            "tags": []
          },
          "execution_count": 10
        }
      ]
    },
    {
      "cell_type": "code",
      "metadata": {
        "id": "Md_i-RY1kxIK",
        "colab": {
          "base_uri": "https://localhost:8080/",
          "height": 173
        },
        "outputId": "9d4b6880-7405-4c48-f6db-d7cd726a5766"
      },
      "source": [
        "# Thống kê cho biến định tính\n",
        "df[['Gender', 'TotYrsOfExp', 'MainTech']].describe()"
      ],
      "execution_count": 11,
      "outputs": [
        {
          "output_type": "execute_result",
          "data": {
            "text/html": [
              "<div>\n",
              "<style scoped>\n",
              "    .dataframe tbody tr th:only-of-type {\n",
              "        vertical-align: middle;\n",
              "    }\n",
              "\n",
              "    .dataframe tbody tr th {\n",
              "        vertical-align: top;\n",
              "    }\n",
              "\n",
              "    .dataframe thead th {\n",
              "        text-align: right;\n",
              "    }\n",
              "</style>\n",
              "<table border=\"1\" class=\"dataframe\">\n",
              "  <thead>\n",
              "    <tr style=\"text-align: right;\">\n",
              "      <th></th>\n",
              "      <th>Gender</th>\n",
              "      <th>TotYrsOfExp</th>\n",
              "      <th>MainTech</th>\n",
              "    </tr>\n",
              "  </thead>\n",
              "  <tbody>\n",
              "    <tr>\n",
              "      <th>count</th>\n",
              "      <td>1243</td>\n",
              "      <td>1237</td>\n",
              "      <td>1126</td>\n",
              "    </tr>\n",
              "    <tr>\n",
              "      <th>unique</th>\n",
              "      <td>3</td>\n",
              "      <td>48</td>\n",
              "      <td>256</td>\n",
              "    </tr>\n",
              "    <tr>\n",
              "      <th>top</th>\n",
              "      <td>Male</td>\n",
              "      <td>10</td>\n",
              "      <td>Java</td>\n",
              "    </tr>\n",
              "    <tr>\n",
              "      <th>freq</th>\n",
              "      <td>1049</td>\n",
              "      <td>138</td>\n",
              "      <td>184</td>\n",
              "    </tr>\n",
              "  </tbody>\n",
              "</table>\n",
              "</div>"
            ],
            "text/plain": [
              "       Gender TotYrsOfExp MainTech\n",
              "count    1243        1237     1126\n",
              "unique      3          48      256\n",
              "top      Male          10     Java\n",
              "freq     1049         138      184"
            ]
          },
          "metadata": {
            "tags": []
          },
          "execution_count": 11
        }
      ]
    },
    {
      "cell_type": "code",
      "metadata": {
        "id": "dvaR8srUvFue",
        "colab": {
          "base_uri": "https://localhost:8080/"
        },
        "outputId": "4b164977-7592-434b-d5c9-133fc591cc56"
      },
      "source": [
        "df['Gender'].unique()"
      ],
      "execution_count": 12,
      "outputs": [
        {
          "output_type": "execute_result",
          "data": {
            "text/plain": [
              "array(['Male', 'Female', nan, 'Diverse'], dtype=object)"
            ]
          },
          "metadata": {
            "tags": []
          },
          "execution_count": 12
        }
      ]
    },
    {
      "cell_type": "code",
      "metadata": {
        "id": "juj5hclykyYr",
        "colab": {
          "base_uri": "https://localhost:8080/"
        },
        "outputId": "deaa3280-31a6-43e0-8b7b-43d1713f27e5"
      },
      "source": [
        "# Số lượng dữ liệu duy nhất\n",
        "df.nunique()"
      ],
      "execution_count": 13,
      "outputs": [
        {
          "output_type": "execute_result",
          "data": {
            "text/plain": [
              "Age             40\n",
              "Gender           3\n",
              "TotYrsOfExp     48\n",
              "MainTech       256\n",
              "AnualSalary    147\n",
              "dtype: int64"
            ]
          },
          "metadata": {
            "tags": []
          },
          "execution_count": 13
        }
      ]
    },
    {
      "cell_type": "markdown",
      "metadata": {
        "id": "tkd0A9NXk0aZ"
      },
      "source": [
        "\n",
        "#**Data Preprocessing**"
      ]
    },
    {
      "cell_type": "code",
      "metadata": {
        "id": "-M81fGybKJom",
        "colab": {
          "base_uri": "https://localhost:8080/",
          "height": 487
        },
        "outputId": "5ae6687c-85bc-4765-cb4f-07dee94dd298"
      },
      "source": [
        "# Biểu đồ xem nan trong dataframe\n",
        "plt.figure(figsize=(10, 8))\n",
        "sns.heatmap(df.isna())\n",
        "plt.show()"
      ],
      "execution_count": 14,
      "outputs": [
        {
          "output_type": "display_data",
          "data": {
            "image/png": "[encoded data removed]",
            "text/plain": [
              "<Figure size 720x576 with 2 Axes>"
            ]
          },
          "metadata": {
            "tags": [],
            "needs_background": "light"
          }
        }
      ]
    },
    {
      "cell_type": "markdown",
      "metadata": {
        "id": "FyziW525iE4g"
      },
      "source": [
        "Kiểm tra những dòng missing nhiều cột xóa nó đi. "
      ]
    },
    {
      "cell_type": "code",
      "metadata": {
        "id": "0NPCaxgug0aa",
        "colab": {
          "base_uri": "https://localhost:8080/",
          "height": 190
        },
        "outputId": "7a1719b6-8c84-469f-f02f-6b393c817305"
      },
      "source": [
        "# Các điểm dữ liệu missing tất cả các cột\n",
        "nan_many = df[df['Age'].isna() & df['TotYrsOfExp'].isna() & df['MainTech'].isna() & df['AnualSalary'].isna()]\n",
        "print(nan_many.shape)\n",
        "nan_many"
      ],
      "execution_count": 15,
      "outputs": [
        {
          "output_type": "stream",
          "text": [
            "(4, 5)\n"
          ],
          "name": "stdout"
        },
        {
          "output_type": "execute_result",
          "data": {
            "text/html": [
              "<div>\n",
              "<style scoped>\n",
              "    .dataframe tbody tr th:only-of-type {\n",
              "        vertical-align: middle;\n",
              "    }\n",
              "\n",
              "    .dataframe tbody tr th {\n",
              "        vertical-align: top;\n",
              "    }\n",
              "\n",
              "    .dataframe thead th {\n",
              "        text-align: right;\n",
              "    }\n",
              "</style>\n",
              "<table border=\"1\" class=\"dataframe\">\n",
              "  <thead>\n",
              "    <tr style=\"text-align: right;\">\n",
              "      <th></th>\n",
              "      <th>Age</th>\n",
              "      <th>Gender</th>\n",
              "      <th>TotYrsOfExp</th>\n",
              "      <th>MainTech</th>\n",
              "      <th>AnualSalary</th>\n",
              "    </tr>\n",
              "  </thead>\n",
              "  <tbody>\n",
              "    <tr>\n",
              "      <th>473</th>\n",
              "      <td>NaN</td>\n",
              "      <td>NaN</td>\n",
              "      <td>NaN</td>\n",
              "      <td>NaN</td>\n",
              "      <td>NaN</td>\n",
              "    </tr>\n",
              "    <tr>\n",
              "      <th>1180</th>\n",
              "      <td>NaN</td>\n",
              "      <td>NaN</td>\n",
              "      <td>NaN</td>\n",
              "      <td>NaN</td>\n",
              "      <td>NaN</td>\n",
              "    </tr>\n",
              "    <tr>\n",
              "      <th>1181</th>\n",
              "      <td>NaN</td>\n",
              "      <td>NaN</td>\n",
              "      <td>NaN</td>\n",
              "      <td>NaN</td>\n",
              "      <td>NaN</td>\n",
              "    </tr>\n",
              "    <tr>\n",
              "      <th>1231</th>\n",
              "      <td>NaN</td>\n",
              "      <td>NaN</td>\n",
              "      <td>NaN</td>\n",
              "      <td>NaN</td>\n",
              "      <td>NaN</td>\n",
              "    </tr>\n",
              "  </tbody>\n",
              "</table>\n",
              "</div>"
            ],
            "text/plain": [
              "      Age Gender TotYrsOfExp MainTech  AnualSalary\n",
              "473   NaN    NaN         NaN      NaN          NaN\n",
              "1180  NaN    NaN         NaN      NaN          NaN\n",
              "1181  NaN    NaN         NaN      NaN          NaN\n",
              "1231  NaN    NaN         NaN      NaN          NaN"
            ]
          },
          "metadata": {
            "tags": []
          },
          "execution_count": 15
        }
      ]
    },
    {
      "cell_type": "code",
      "metadata": {
        "id": "PyhLtoHAhdqv",
        "colab": {
          "base_uri": "https://localhost:8080/",
          "height": 49
        },
        "outputId": "a1395c5a-7b99-4af8-c3ae-d498354e4af4"
      },
      "source": [
        "# Xóa bỏ các điểm dữ liệu trên\n",
        "df.drop(index=nan_many.index, inplace=True)\n",
        "df = df.reset_index(drop=True)\n",
        "df[df['Age'].isna() & df['TotYrsOfExp'].isna() & df['MainTech'].isna() & df['AnualSalary'].isna()]"
      ],
      "execution_count": 16,
      "outputs": [
        {
          "output_type": "execute_result",
          "data": {
            "text/html": [
              "<div>\n",
              "<style scoped>\n",
              "    .dataframe tbody tr th:only-of-type {\n",
              "        vertical-align: middle;\n",
              "    }\n",
              "\n",
              "    .dataframe tbody tr th {\n",
              "        vertical-align: top;\n",
              "    }\n",
              "\n",
              "    .dataframe thead th {\n",
              "        text-align: right;\n",
              "    }\n",
              "</style>\n",
              "<table border=\"1\" class=\"dataframe\">\n",
              "  <thead>\n",
              "    <tr style=\"text-align: right;\">\n",
              "      <th></th>\n",
              "      <th>Age</th>\n",
              "      <th>Gender</th>\n",
              "      <th>TotYrsOfExp</th>\n",
              "      <th>MainTech</th>\n",
              "      <th>AnualSalary</th>\n",
              "    </tr>\n",
              "  </thead>\n",
              "  <tbody>\n",
              "  </tbody>\n",
              "</table>\n",
              "</div>"
            ],
            "text/plain": [
              "Empty DataFrame\n",
              "Columns: [Age, Gender, TotYrsOfExp, MainTech, AnualSalary]\n",
              "Index: []"
            ]
          },
          "metadata": {
            "tags": []
          },
          "execution_count": 16
        }
      ]
    },
    {
      "cell_type": "markdown",
      "metadata": {
        "id": "UYdULNh2k1gk"
      },
      "source": [
        "\n",
        "#### Xử lý column TotYrsOfExp"
      ]
    },
    {
      "cell_type": "markdown",
      "metadata": {
        "id": "OK_5_9liYXaC"
      },
      "source": [
        "**Xử lý invalid data**"
      ]
    },
    {
      "cell_type": "code",
      "metadata": {
        "id": "dNWqJfFVlO8E",
        "colab": {
          "base_uri": "https://localhost:8080/"
        },
        "outputId": "71144786-c1cb-4f5a-aaed-bb915f9c47d1"
      },
      "source": [
        "# Kiểm tra dữ liệu thuộc tính TotYrsOfExp\n",
        "df.TotYrsOfExp.unique()"
      ],
      "execution_count": 17,
      "outputs": [
        {
          "output_type": "execute_result",
          "data": {
            "text/plain": [
              "array(['5', '7', '12', '4', '17', '6', '8', '15', '2', '25', nan, '14',\n",
              "       '11', '18', '13', '30', '10', '3', '40', '26', '23', '9', '19',\n",
              "       '20', '5.5', '22', '16', '0.8', '1', '1.5', '6.5', '21', '7.5',\n",
              "       '2.5', '28', '29', '1,5', '24', '0', '4.5', '27',\n",
              "       '1 (as QA Engineer) / 11 in total', '2,5', '15, thereof 8 as CTO',\n",
              "       '31', '6 (not as a data scientist, but as a lab scientist)', '383',\n",
              "       '3.5', 'less than year'], dtype=object)"
            ]
          },
          "metadata": {
            "tags": []
          },
          "execution_count": 17
        }
      ]
    },
    {
      "cell_type": "code",
      "metadata": {
        "id": "AyCjjj8YlSu8",
        "colab": {
          "base_uri": "https://localhost:8080/"
        },
        "outputId": "2ff09d8e-5570-495b-d415-6095cdb743a9"
      },
      "source": [
        "# Thay dấu \",\" thành dấu \".\"\n",
        "df.TotYrsOfExp = df['TotYrsOfExp'].str.strip()\n",
        "df.TotYrsOfExp = df['TotYrsOfExp'].str.replace(',', '.')\n",
        "df.TotYrsOfExp.unique()"
      ],
      "execution_count": 18,
      "outputs": [
        {
          "output_type": "execute_result",
          "data": {
            "text/plain": [
              "array(['5', '7', '12', '4', '17', '6', '8', '15', '2', '25', nan, '14',\n",
              "       '11', '18', '13', '30', '10', '3', '40', '26', '23', '9', '19',\n",
              "       '20', '5.5', '22', '16', '0.8', '1', '1.5', '6.5', '21', '7.5',\n",
              "       '2.5', '28', '29', '24', '0', '4.5', '27',\n",
              "       '1 (as QA Engineer) / 11 in total', '15. thereof 8 as CTO', '31',\n",
              "       '6 (not as a data scientist. but as a lab scientist)', '383',\n",
              "       '3.5', 'less than year'], dtype=object)"
            ]
          },
          "metadata": {
            "tags": []
          },
          "execution_count": 18
        }
      ]
    },
    {
      "cell_type": "code",
      "metadata": {
        "id": "a5f9G5vflRBy",
        "colab": {
          "base_uri": "https://localhost:8080/",
          "height": 173
        },
        "outputId": "9b0ece32-dc34-4f63-d712-46f4e7547b64"
      },
      "source": [
        "# Những vị trí sai số năm kinh nghiệm\n",
        "iter = df.loc[df.TotYrsOfExp.str.len() > 4]\n",
        "iter"
      ],
      "execution_count": 19,
      "outputs": [
        {
          "output_type": "execute_result",
          "data": {
            "text/html": [
              "<div>\n",
              "<style scoped>\n",
              "    .dataframe tbody tr th:only-of-type {\n",
              "        vertical-align: middle;\n",
              "    }\n",
              "\n",
              "    .dataframe tbody tr th {\n",
              "        vertical-align: top;\n",
              "    }\n",
              "\n",
              "    .dataframe thead th {\n",
              "        text-align: right;\n",
              "    }\n",
              "</style>\n",
              "<table border=\"1\" class=\"dataframe\">\n",
              "  <thead>\n",
              "    <tr style=\"text-align: right;\">\n",
              "      <th></th>\n",
              "      <th>Age</th>\n",
              "      <th>Gender</th>\n",
              "      <th>TotYrsOfExp</th>\n",
              "      <th>MainTech</th>\n",
              "      <th>AnualSalary</th>\n",
              "    </tr>\n",
              "  </thead>\n",
              "  <tbody>\n",
              "    <tr>\n",
              "      <th>804</th>\n",
              "      <td>34.0</td>\n",
              "      <td>Female</td>\n",
              "      <td>1 (as QA Engineer) / 11 in total</td>\n",
              "      <td>Python</td>\n",
              "      <td>36000.0</td>\n",
              "    </tr>\n",
              "    <tr>\n",
              "      <th>854</th>\n",
              "      <td>36.0</td>\n",
              "      <td>Male</td>\n",
              "      <td>15. thereof 8 as CTO</td>\n",
              "      <td>Java &amp; PHP</td>\n",
              "      <td>120000.0</td>\n",
              "    </tr>\n",
              "    <tr>\n",
              "      <th>1088</th>\n",
              "      <td>31.0</td>\n",
              "      <td>Male</td>\n",
              "      <td>6 (not as a data scientist. but as a lab scien...</td>\n",
              "      <td>Python</td>\n",
              "      <td>NaN</td>\n",
              "    </tr>\n",
              "    <tr>\n",
              "      <th>1206</th>\n",
              "      <td>24.0</td>\n",
              "      <td>Female</td>\n",
              "      <td>less than year</td>\n",
              "      <td>Python, database technologies</td>\n",
              "      <td>NaN</td>\n",
              "    </tr>\n",
              "  </tbody>\n",
              "</table>\n",
              "</div>"
            ],
            "text/plain": [
              "       Age  Gender  ...                       MainTech AnualSalary\n",
              "804   34.0  Female  ...                         Python     36000.0\n",
              "854   36.0    Male  ...                     Java & PHP    120000.0\n",
              "1088  31.0    Male  ...                         Python         NaN\n",
              "1206  24.0  Female  ...  Python, database technologies         NaN\n",
              "\n",
              "[4 rows x 5 columns]"
            ]
          },
          "metadata": {
            "tags": []
          },
          "execution_count": 19
        }
      ]
    },
    {
      "cell_type": "code",
      "metadata": {
        "id": "9govUlZsj3Qp"
      },
      "source": [
        "# Gán trực tiếp dành cho dữ liệu sai ít\n",
        "# df.loc[df['TotYrsOfExp'].str.len() > 4, 'TotYrsOfExp'] = np.array([11, 15, 6, 0])"
      ],
      "execution_count": 20,
      "outputs": []
    },
    {
      "cell_type": "code",
      "metadata": {
        "id": "zMlRwf4FO0mB"
      },
      "source": [
        "# Hàm xử lý invalid data.\n",
        "def fixing(datum):\n",
        "  if (not isinstance(datum, str) and math.isnan(datum)): # Nếu nó là nan\n",
        "    return np.nan\n",
        "  elif len(str(datum)) > 4: \n",
        "    results = [e for e in re.split(r'[^0-9]', datum) if e != ''] # Chuỗi xác định những cái ko phải số.\n",
        "    if len(results) == 0:\n",
        "      return 0\n",
        "    return max(map(int, results))\n",
        "  return datum"
      ],
      "execution_count": 21,
      "outputs": []
    },
    {
      "cell_type": "markdown",
      "metadata": {
        "id": "8pyHpK0uYgbz"
      },
      "source": [
        "**Hàm fixing:** Nhận các giá trị qua phương thức apply, xử lý rồi trả về giá trị đã xử lý ngay tại điểm data đó."
      ]
    },
    {
      "cell_type": "code",
      "metadata": {
        "id": "sva0O11E2Rig",
        "colab": {
          "base_uri": "https://localhost:8080/"
        },
        "outputId": "7920e12e-b8e1-451c-a131-4b8c75979de9"
      },
      "source": [
        "# Apply trên tất cả các điểm dữ liệu trên cột\n",
        "df['TotYrsOfExp'].apply(fixing)"
      ],
      "execution_count": 22,
      "outputs": [
        {
          "output_type": "execute_result",
          "data": {
            "text/plain": [
              "0        5\n",
              "1        7\n",
              "2       12\n",
              "3        4\n",
              "4       17\n",
              "        ..\n",
              "1244     9\n",
              "1245    10\n",
              "1246    15\n",
              "1247     7\n",
              "1248     2\n",
              "Name: TotYrsOfExp, Length: 1249, dtype: object"
            ]
          },
          "metadata": {
            "tags": []
          },
          "execution_count": 22
        }
      ]
    },
    {
      "cell_type": "code",
      "metadata": {
        "id": "MDky_jiYXX9e"
      },
      "source": [
        "# Gán lại để cột ban đầu\n",
        "df['TotYrsOfExp'] = df['TotYrsOfExp'].apply(fixing)"
      ],
      "execution_count": 23,
      "outputs": []
    },
    {
      "cell_type": "code",
      "metadata": {
        "id": "iUG7vK69gAA8",
        "colab": {
          "base_uri": "https://localhost:8080/"
        },
        "outputId": "5b78361f-4fd8-4241-9c03-a36434aa2f4b"
      },
      "source": [
        "# Kiểm tra\n",
        "df['TotYrsOfExp'].unique()"
      ],
      "execution_count": 24,
      "outputs": [
        {
          "output_type": "execute_result",
          "data": {
            "text/plain": [
              "array(['5', '7', '12', '4', '17', '6', '8', '15', '2', '25', nan, '14',\n",
              "       '11', '18', '13', '30', '10', '3', '40', '26', '23', '9', '19',\n",
              "       '20', '5.5', '22', '16', '0.8', '1', '1.5', '6.5', '21', '7.5',\n",
              "       '2.5', '28', '29', '24', '0', '4.5', '27', 11, 15, '31', 6, '383',\n",
              "       '3.5', 0], dtype=object)"
            ]
          },
          "metadata": {
            "tags": []
          },
          "execution_count": 24
        }
      ]
    },
    {
      "cell_type": "markdown",
      "metadata": {
        "id": "4uiCYdD1UL3p"
      },
      "source": [
        "**Xử lý missing data TotYrsOfExp**"
      ]
    },
    {
      "cell_type": "code",
      "metadata": {
        "id": "Tq_WKJGRnejU",
        "colab": {
          "base_uri": "https://localhost:8080/",
          "height": 421
        },
        "outputId": "4628c304-d5be-4446-aacf-420ad278af6e"
      },
      "source": [
        "# Xem những điểm missing\n",
        "df[df['TotYrsOfExp'].isna()]"
      ],
      "execution_count": 25,
      "outputs": [
        {
          "output_type": "execute_result",
          "data": {
            "text/html": [
              "<div>\n",
              "<style scoped>\n",
              "    .dataframe tbody tr th:only-of-type {\n",
              "        vertical-align: middle;\n",
              "    }\n",
              "\n",
              "    .dataframe tbody tr th {\n",
              "        vertical-align: top;\n",
              "    }\n",
              "\n",
              "    .dataframe thead th {\n",
              "        text-align: right;\n",
              "    }\n",
              "</style>\n",
              "<table border=\"1\" class=\"dataframe\">\n",
              "  <thead>\n",
              "    <tr style=\"text-align: right;\">\n",
              "      <th></th>\n",
              "      <th>Age</th>\n",
              "      <th>Gender</th>\n",
              "      <th>TotYrsOfExp</th>\n",
              "      <th>MainTech</th>\n",
              "      <th>AnualSalary</th>\n",
              "    </tr>\n",
              "  </thead>\n",
              "  <tbody>\n",
              "    <tr>\n",
              "      <th>12</th>\n",
              "      <td>NaN</td>\n",
              "      <td>NaN</td>\n",
              "      <td>NaN</td>\n",
              "      <td>PHP</td>\n",
              "      <td>NaN</td>\n",
              "    </tr>\n",
              "    <tr>\n",
              "      <th>55</th>\n",
              "      <td>NaN</td>\n",
              "      <td>Male</td>\n",
              "      <td>NaN</td>\n",
              "      <td>PHP</td>\n",
              "      <td>NaN</td>\n",
              "    </tr>\n",
              "    <tr>\n",
              "      <th>237</th>\n",
              "      <td>32.0</td>\n",
              "      <td>Male</td>\n",
              "      <td>NaN</td>\n",
              "      <td>Ruby</td>\n",
              "      <td>NaN</td>\n",
              "    </tr>\n",
              "    <tr>\n",
              "      <th>340</th>\n",
              "      <td>NaN</td>\n",
              "      <td>Male</td>\n",
              "      <td>NaN</td>\n",
              "      <td>NaN</td>\n",
              "      <td>60000.0</td>\n",
              "    </tr>\n",
              "    <tr>\n",
              "      <th>450</th>\n",
              "      <td>48.0</td>\n",
              "      <td>Male</td>\n",
              "      <td>NaN</td>\n",
              "      <td>Computer Networking,  Network Security</td>\n",
              "      <td>NaN</td>\n",
              "    </tr>\n",
              "    <tr>\n",
              "      <th>454</th>\n",
              "      <td>33.0</td>\n",
              "      <td>Male</td>\n",
              "      <td>NaN</td>\n",
              "      <td>Java</td>\n",
              "      <td>78000.0</td>\n",
              "    </tr>\n",
              "    <tr>\n",
              "      <th>468</th>\n",
              "      <td>31.0</td>\n",
              "      <td>Female</td>\n",
              "      <td>NaN</td>\n",
              "      <td>NaN</td>\n",
              "      <td>NaN</td>\n",
              "    </tr>\n",
              "    <tr>\n",
              "      <th>529</th>\n",
              "      <td>NaN</td>\n",
              "      <td>Male</td>\n",
              "      <td>NaN</td>\n",
              "      <td>JavaScript</td>\n",
              "      <td>NaN</td>\n",
              "    </tr>\n",
              "    <tr>\n",
              "      <th>701</th>\n",
              "      <td>37.0</td>\n",
              "      <td>Male</td>\n",
              "      <td>NaN</td>\n",
              "      <td>C#</td>\n",
              "      <td>NaN</td>\n",
              "    </tr>\n",
              "    <tr>\n",
              "      <th>873</th>\n",
              "      <td>31.0</td>\n",
              "      <td>Male</td>\n",
              "      <td>NaN</td>\n",
              "      <td>Python</td>\n",
              "      <td>NaN</td>\n",
              "    </tr>\n",
              "    <tr>\n",
              "      <th>1057</th>\n",
              "      <td>35.0</td>\n",
              "      <td>Male</td>\n",
              "      <td>NaN</td>\n",
              "      <td>NaN</td>\n",
              "      <td>85000.0</td>\n",
              "    </tr>\n",
              "    <tr>\n",
              "      <th>1228</th>\n",
              "      <td>52.0</td>\n",
              "      <td>Male</td>\n",
              "      <td>NaN</td>\n",
              "      <td>Atlassian JIRA</td>\n",
              "      <td>NaN</td>\n",
              "    </tr>\n",
              "  </tbody>\n",
              "</table>\n",
              "</div>"
            ],
            "text/plain": [
              "       Age  Gender  ...                                 MainTech AnualSalary\n",
              "12     NaN     NaN  ...                                      PHP         NaN\n",
              "55     NaN    Male  ...                                      PHP         NaN\n",
              "237   32.0    Male  ...                                     Ruby         NaN\n",
              "340    NaN    Male  ...                                      NaN     60000.0\n",
              "450   48.0    Male  ...  Computer Networking,  Network Security          NaN\n",
              "454   33.0    Male  ...                                     Java     78000.0\n",
              "468   31.0  Female  ...                                      NaN         NaN\n",
              "529    NaN    Male  ...                               JavaScript         NaN\n",
              "701   37.0    Male  ...                                       C#         NaN\n",
              "873   31.0    Male  ...                                   Python         NaN\n",
              "1057  35.0    Male  ...                                      NaN     85000.0\n",
              "1228  52.0    Male  ...                           Atlassian JIRA         NaN\n",
              "\n",
              "[12 rows x 5 columns]"
            ]
          },
          "metadata": {
            "tags": []
          },
          "execution_count": 25
        }
      ]
    },
    {
      "cell_type": "code",
      "metadata": {
        "id": "aVRJ-RsHBQCD",
        "colab": {
          "base_uri": "https://localhost:8080/"
        },
        "outputId": "860db97d-3b36-47c5-c034-900382821dd3"
      },
      "source": [
        "# Kiểm tra số lượng missing\n",
        "df[df['TotYrsOfExp'].isna()].shape"
      ],
      "execution_count": 26,
      "outputs": [
        {
          "output_type": "execute_result",
          "data": {
            "text/plain": [
              "(12, 5)"
            ]
          },
          "metadata": {
            "tags": []
          },
          "execution_count": 26
        }
      ]
    },
    {
      "cell_type": "code",
      "metadata": {
        "id": "SXG4VoPG4kGT",
        "colab": {
          "base_uri": "https://localhost:8080/"
        },
        "outputId": "f98e6d1c-98ce-4b04-9e50-3513ff588de4"
      },
      "source": [
        "# Tính mean của column TotYrsExp\n",
        "mean = np.nanmean(df.TotYrsOfExp.astype('float'))\n",
        "print(mean)\n",
        "\n",
        "# Thay thế mean cho nan\n",
        "df.TotYrsOfExp.fillna(mean, inplace=True)"
      ],
      "execution_count": 27,
      "outputs": [
        {
          "output_type": "stream",
          "text": [
            "9.057073565076799\n"
          ],
          "name": "stdout"
        }
      ]
    },
    {
      "cell_type": "code",
      "metadata": {
        "id": "hREyqA7U7bLc",
        "colab": {
          "base_uri": "https://localhost:8080/"
        },
        "outputId": "510cf297-cb70-4226-e648-a7a4d1099c69"
      },
      "source": [
        "# Kiểm tra lại\n",
        "df.TotYrsOfExp.unique()"
      ],
      "execution_count": 28,
      "outputs": [
        {
          "output_type": "execute_result",
          "data": {
            "text/plain": [
              "array(['5', '7', '12', '4', '17', '6', '8', '15', '2', '25',\n",
              "       9.057073565076799, '14', '11', '18', '13', '30', '10', '3', '40',\n",
              "       '26', '23', '9', '19', '20', '5.5', '22', '16', '0.8', '1', '1.5',\n",
              "       '6.5', '21', '7.5', '2.5', '28', '29', '24', '0', '4.5', '27', 11,\n",
              "       15, '31', 6, '383', '3.5', 0], dtype=object)"
            ]
          },
          "metadata": {
            "tags": []
          },
          "execution_count": 28
        }
      ]
    },
    {
      "cell_type": "markdown",
      "metadata": {
        "id": "iCIs9hWc-jCX"
      },
      "source": [
        "**Format về đúng kiểu dữ liệu**\n",
        "- Xử lý dữ liệu bị sai(invalid data) trước, xử lý nan trước --> Formatting"
      ]
    },
    {
      "cell_type": "code",
      "metadata": {
        "id": "RHVvOgFb-Vjs",
        "colab": {
          "base_uri": "https://localhost:8080/"
        },
        "outputId": "3ecb1350-532d-4525-ddb7-dc9d8f6cf1eb"
      },
      "source": [
        "# Chuyển data về dạng số. \n",
        "df['TotYrsOfExp'] = pd.to_numeric(df['TotYrsOfExp'])\n",
        "df.info()"
      ],
      "execution_count": 29,
      "outputs": [
        {
          "output_type": "stream",
          "text": [
            "<class 'pandas.core.frame.DataFrame'>\n",
            "RangeIndex: 1249 entries, 0 to 1248\n",
            "Data columns (total 5 columns):\n",
            " #   Column       Non-Null Count  Dtype  \n",
            "---  ------       --------------  -----  \n",
            " 0   Age          1226 non-null   float64\n",
            " 1   Gender       1243 non-null   object \n",
            " 2   TotYrsOfExp  1249 non-null   float64\n",
            " 3   MainTech     1126 non-null   object \n",
            " 4   AnualSalary  885 non-null    float64\n",
            "dtypes: float64(3), object(2)\n",
            "memory usage: 48.9+ KB\n"
          ],
          "name": "stdout"
        }
      ]
    },
    {
      "cell_type": "markdown",
      "metadata": {
        "id": "MAsM25ySyLDk"
      },
      "source": [
        "**Kiểm tra và xử lý outliers**"
      ]
    },
    {
      "cell_type": "code",
      "metadata": {
        "id": "Y9tc_5JdeouI",
        "colab": {
          "base_uri": "https://localhost:8080/",
          "height": 282
        },
        "outputId": "c76eae57-78e2-4fbf-9163-e1f916066c83"
      },
      "source": [
        "# Biểu đồ xem outliers data\n",
        "df['Age'].plot(kind='box')"
      ],
      "execution_count": 30,
      "outputs": [
        {
          "output_type": "execute_result",
          "data": {
            "text/plain": [
              "<matplotlib.axes._subplots.AxesSubplot at 0x7f169b6b2ed0>"
            ]
          },
          "metadata": {
            "tags": []
          },
          "execution_count": 30
        },
        {
          "output_type": "display_data",
          "data": {
            "image/png": "[encoded data removed]",
            "text/plain": [
              "<Figure size 432x288 with 1 Axes>"
            ]
          },
          "metadata": {
            "tags": [],
            "needs_background": "light"
          }
        }
      ]
    },
    {
      "cell_type": "code",
      "metadata": {
        "id": "RZyG3nj2AvTp"
      },
      "source": [
        "# Hàm trả về râu dưới và râu trên\n",
        "def bound(x):\n",
        "  q3, q1 = np.quantile(x, 0.75), np.quantile(x, 0.25)\n",
        "  IQR = q3 - q1\n",
        "  return [q1 - 1.5*IQR, q3 + 1.5*IQR]"
      ],
      "execution_count": 31,
      "outputs": []
    },
    {
      "cell_type": "code",
      "metadata": {
        "id": "rBd3Q7kVeTQ-",
        "colab": {
          "base_uri": "https://localhost:8080/"
        },
        "outputId": "bf1f5459-ad5d-4c9e-e8ab-a7a8faf8a876"
      },
      "source": [
        "df['TotYrsOfExp'].describe()"
      ],
      "execution_count": 32,
      "outputs": [
        {
          "output_type": "execute_result",
          "data": {
            "text/plain": [
              "count    1249.000000\n",
              "mean        9.057074\n",
              "std        11.820148\n",
              "min         0.000000\n",
              "25%         5.000000\n",
              "50%         8.000000\n",
              "75%        12.000000\n",
              "max       383.000000\n",
              "Name: TotYrsOfExp, dtype: float64"
            ]
          },
          "metadata": {
            "tags": []
          },
          "execution_count": 32
        }
      ]
    },
    {
      "cell_type": "code",
      "metadata": {
        "id": "RslxKve-Jnhk",
        "colab": {
          "base_uri": "https://localhost:8080/",
          "height": 593
        },
        "outputId": "9f8cbdd4-34dd-42ea-d9d0-79f8a2fdc26d"
      },
      "source": [
        "# Biểu đồ hộp trên TotYrsOfExp\n",
        "plt.figure(figsize=(5, 10))\n",
        "sns.boxplot(data=df['TotYrsOfExp'])\n",
        "plt.show()"
      ],
      "execution_count": 33,
      "outputs": [
        {
          "output_type": "display_data",
          "data": {
            "image/png": "[encoded data removed]",
            "text/plain": [
              "<Figure size 360x720 with 1 Axes>"
            ]
          },
          "metadata": {
            "tags": [],
            "needs_background": "light"
          }
        }
      ]
    },
    {
      "cell_type": "code",
      "metadata": {
        "id": "lujvb6LCG-wi",
        "colab": {
          "base_uri": "https://localhost:8080/",
          "height": 731
        },
        "outputId": "1b270c03-bcfa-4291-d739-6f6da915df0b"
      },
      "source": [
        "# Kiểm tra dữ liệu outliers\n",
        "upper = bound(df['TotYrsOfExp'])[1]\n",
        "df[df['TotYrsOfExp'] > upper] \n",
        "\n",
        "# Khám phá "
      ],
      "execution_count": 34,
      "outputs": [
        {
          "output_type": "execute_result",
          "data": {
            "text/html": [
              "<div>\n",
              "<style scoped>\n",
              "    .dataframe tbody tr th:only-of-type {\n",
              "        vertical-align: middle;\n",
              "    }\n",
              "\n",
              "    .dataframe tbody tr th {\n",
              "        vertical-align: top;\n",
              "    }\n",
              "\n",
              "    .dataframe thead th {\n",
              "        text-align: right;\n",
              "    }\n",
              "</style>\n",
              "<table border=\"1\" class=\"dataframe\">\n",
              "  <thead>\n",
              "    <tr style=\"text-align: right;\">\n",
              "      <th></th>\n",
              "      <th>Age</th>\n",
              "      <th>Gender</th>\n",
              "      <th>TotYrsOfExp</th>\n",
              "      <th>MainTech</th>\n",
              "      <th>AnualSalary</th>\n",
              "    </tr>\n",
              "  </thead>\n",
              "  <tbody>\n",
              "    <tr>\n",
              "      <th>11</th>\n",
              "      <td>NaN</td>\n",
              "      <td>Male</td>\n",
              "      <td>25.0</td>\n",
              "      <td>C++</td>\n",
              "      <td>80000.0</td>\n",
              "    </tr>\n",
              "    <tr>\n",
              "      <th>23</th>\n",
              "      <td>59.0</td>\n",
              "      <td>Male</td>\n",
              "      <td>30.0</td>\n",
              "      <td>Java</td>\n",
              "      <td>69000.0</td>\n",
              "    </tr>\n",
              "    <tr>\n",
              "      <th>45</th>\n",
              "      <td>48.0</td>\n",
              "      <td>Male</td>\n",
              "      <td>25.0</td>\n",
              "      <td>Java</td>\n",
              "      <td>75000.0</td>\n",
              "    </tr>\n",
              "    <tr>\n",
              "      <th>59</th>\n",
              "      <td>66.0</td>\n",
              "      <td>Male</td>\n",
              "      <td>40.0</td>\n",
              "      <td>ruby on rails</td>\n",
              "      <td>50000.0</td>\n",
              "    </tr>\n",
              "    <tr>\n",
              "      <th>67</th>\n",
              "      <td>45.0</td>\n",
              "      <td>Male</td>\n",
              "      <td>26.0</td>\n",
              "      <td>C#</td>\n",
              "      <td>93000.0</td>\n",
              "    </tr>\n",
              "    <tr>\n",
              "      <th>68</th>\n",
              "      <td>48.0</td>\n",
              "      <td>Male</td>\n",
              "      <td>23.0</td>\n",
              "      <td>Google Cloud Platform</td>\n",
              "      <td>NaN</td>\n",
              "    </tr>\n",
              "    <tr>\n",
              "      <th>173</th>\n",
              "      <td>40.0</td>\n",
              "      <td>Male</td>\n",
              "      <td>25.0</td>\n",
              "      <td>Swift</td>\n",
              "      <td>72000.0</td>\n",
              "    </tr>\n",
              "    <tr>\n",
              "      <th>292</th>\n",
              "      <td>45.0</td>\n",
              "      <td>Male</td>\n",
              "      <td>25.0</td>\n",
              "      <td>c++</td>\n",
              "      <td>73000.0</td>\n",
              "    </tr>\n",
              "    <tr>\n",
              "      <th>296</th>\n",
              "      <td>65.0</td>\n",
              "      <td>Male</td>\n",
              "      <td>25.0</td>\n",
              "      <td>Pascal, VB.NET, C#</td>\n",
              "      <td>50000.0</td>\n",
              "    </tr>\n",
              "    <tr>\n",
              "      <th>369</th>\n",
              "      <td>44.0</td>\n",
              "      <td>Male</td>\n",
              "      <td>28.0</td>\n",
              "      <td>C#</td>\n",
              "      <td>78500.0</td>\n",
              "    </tr>\n",
              "    <tr>\n",
              "      <th>403</th>\n",
              "      <td>50.0</td>\n",
              "      <td>Male</td>\n",
              "      <td>29.0</td>\n",
              "      <td>C++</td>\n",
              "      <td>28800.0</td>\n",
              "    </tr>\n",
              "    <tr>\n",
              "      <th>449</th>\n",
              "      <td>46.0</td>\n",
              "      <td>Male</td>\n",
              "      <td>23.0</td>\n",
              "      <td>C#</td>\n",
              "      <td>76000.0</td>\n",
              "    </tr>\n",
              "    <tr>\n",
              "      <th>557</th>\n",
              "      <td>38.0</td>\n",
              "      <td>Male</td>\n",
              "      <td>24.0</td>\n",
              "      <td>Java</td>\n",
              "      <td>NaN</td>\n",
              "    </tr>\n",
              "    <tr>\n",
              "      <th>611</th>\n",
              "      <td>45.0</td>\n",
              "      <td>Male</td>\n",
              "      <td>30.0</td>\n",
              "      <td>PHP</td>\n",
              "      <td>55000.0</td>\n",
              "    </tr>\n",
              "    <tr>\n",
              "      <th>639</th>\n",
              "      <td>49.0</td>\n",
              "      <td>Male</td>\n",
              "      <td>27.0</td>\n",
              "      <td>Java</td>\n",
              "      <td>57000.0</td>\n",
              "    </tr>\n",
              "    <tr>\n",
              "      <th>672</th>\n",
              "      <td>51.0</td>\n",
              "      <td>Male</td>\n",
              "      <td>30.0</td>\n",
              "      <td>VB, RPA, Python</td>\n",
              "      <td>50000.0</td>\n",
              "    </tr>\n",
              "    <tr>\n",
              "      <th>717</th>\n",
              "      <td>47.0</td>\n",
              "      <td>Male</td>\n",
              "      <td>25.0</td>\n",
              "      <td>java</td>\n",
              "      <td>NaN</td>\n",
              "    </tr>\n",
              "    <tr>\n",
              "      <th>954</th>\n",
              "      <td>54.0</td>\n",
              "      <td>Male</td>\n",
              "      <td>31.0</td>\n",
              "      <td>Network Automation</td>\n",
              "      <td>110000.0</td>\n",
              "    </tr>\n",
              "    <tr>\n",
              "      <th>1081</th>\n",
              "      <td>45.0</td>\n",
              "      <td>Male</td>\n",
              "      <td>27.0</td>\n",
              "      <td>NaN</td>\n",
              "      <td>90000.0</td>\n",
              "    </tr>\n",
              "    <tr>\n",
              "      <th>1102</th>\n",
              "      <td>69.0</td>\n",
              "      <td>Male</td>\n",
              "      <td>383.0</td>\n",
              "      <td>NaN</td>\n",
              "      <td>NaN</td>\n",
              "    </tr>\n",
              "    <tr>\n",
              "      <th>1158</th>\n",
              "      <td>56.0</td>\n",
              "      <td>Male</td>\n",
              "      <td>30.0</td>\n",
              "      <td>c++</td>\n",
              "      <td>90000.0</td>\n",
              "    </tr>\n",
              "    <tr>\n",
              "      <th>1179</th>\n",
              "      <td>54.0</td>\n",
              "      <td>Male</td>\n",
              "      <td>25.0</td>\n",
              "      <td>Python</td>\n",
              "      <td>80000.0</td>\n",
              "    </tr>\n",
              "  </tbody>\n",
              "</table>\n",
              "</div>"
            ],
            "text/plain": [
              "       Age Gender  TotYrsOfExp               MainTech  AnualSalary\n",
              "11     NaN   Male         25.0                    C++      80000.0\n",
              "23    59.0   Male         30.0                   Java      69000.0\n",
              "45    48.0   Male         25.0                   Java      75000.0\n",
              "59    66.0   Male         40.0          ruby on rails      50000.0\n",
              "67    45.0   Male         26.0                     C#      93000.0\n",
              "68    48.0   Male         23.0  Google Cloud Platform          NaN\n",
              "173   40.0   Male         25.0                  Swift      72000.0\n",
              "292   45.0   Male         25.0                    c++      73000.0\n",
              "296   65.0   Male         25.0     Pascal, VB.NET, C#      50000.0\n",
              "369   44.0   Male         28.0                     C#      78500.0\n",
              "403   50.0   Male         29.0                    C++      28800.0\n",
              "449   46.0   Male         23.0                     C#      76000.0\n",
              "557   38.0   Male         24.0                   Java          NaN\n",
              "611   45.0   Male         30.0                    PHP      55000.0\n",
              "639   49.0   Male         27.0                   Java      57000.0\n",
              "672   51.0   Male         30.0        VB, RPA, Python      50000.0\n",
              "717   47.0   Male         25.0                   java          NaN\n",
              "954   54.0   Male         31.0     Network Automation     110000.0\n",
              "1081  45.0   Male         27.0                    NaN      90000.0\n",
              "1102  69.0   Male        383.0                    NaN          NaN\n",
              "1158  56.0   Male         30.0                    c++      90000.0\n",
              "1179  54.0   Male         25.0                 Python      80000.0"
            ]
          },
          "metadata": {
            "tags": []
          },
          "execution_count": 34
        }
      ]
    },
    {
      "cell_type": "code",
      "metadata": {
        "id": "w4rm47HiVlV9",
        "colab": {
          "base_uri": "https://localhost:8080/"
        },
        "outputId": "e5508c20-447a-4da5-fc2b-fa1d30e18c3b"
      },
      "source": [
        "# Số dòng, cột outliers\n",
        "df[df['TotYrsOfExp'] > upper].shape"
      ],
      "execution_count": 35,
      "outputs": [
        {
          "output_type": "execute_result",
          "data": {
            "text/plain": [
              "(22, 5)"
            ]
          },
          "metadata": {
            "tags": []
          },
          "execution_count": 35
        }
      ]
    },
    {
      "cell_type": "code",
      "metadata": {
        "id": "xsxIaZ5CHfE5",
        "colab": {
          "base_uri": "https://localhost:8080/"
        },
        "outputId": "b70ffc8c-b167-4f6d-8487-4cb2bb77d7dd"
      },
      "source": [
        "# Tính số lần xuất hiện của một giá  trị\n",
        "df['TotYrsOfExp'].value_counts()"
      ],
      "execution_count": 36,
      "outputs": [
        {
          "output_type": "execute_result",
          "data": {
            "text/plain": [
              "10.000000     138\n",
              "5.000000      136\n",
              "6.000000      100\n",
              "8.000000       92\n",
              "7.000000       84\n",
              "4.000000       80\n",
              "12.000000      67\n",
              "3.000000       66\n",
              "15.000000      64\n",
              "9.000000       60\n",
              "2.000000       57\n",
              "11.000000      44\n",
              "13.000000      41\n",
              "14.000000      39\n",
              "1.000000       31\n",
              "20.000000      28\n",
              "16.000000      20\n",
              "18.000000      16\n",
              "17.000000      12\n",
              "9.057074       12\n",
              "19.000000       7\n",
              "25.000000       7\n",
              "0.000000        7\n",
              "2.500000        5\n",
              "22.000000       5\n",
              "1.500000        4\n",
              "30.000000       4\n",
              "21.000000       3\n",
              "23.000000       2\n",
              "0.800000        2\n",
              "3.500000        2\n",
              "27.000000       2\n",
              "4.500000        2\n",
              "24.000000       1\n",
              "31.000000       1\n",
              "26.000000       1\n",
              "29.000000       1\n",
              "40.000000       1\n",
              "28.000000       1\n",
              "383.000000      1\n",
              "7.500000        1\n",
              "6.500000        1\n",
              "5.500000        1\n",
              "Name: TotYrsOfExp, dtype: int64"
            ]
          },
          "metadata": {
            "tags": []
          },
          "execution_count": 36
        }
      ]
    },
    {
      "cell_type": "code",
      "metadata": {
        "id": "XHHIcdgdJrwp",
        "colab": {
          "base_uri": "https://localhost:8080/"
        },
        "outputId": "9f763f3c-efd7-46fc-cebd-7e02afc50908"
      },
      "source": [
        "# Gán lại vị trí lỗi\n",
        "df.loc[df['TotYrsOfExp'] == df['TotYrsOfExp'].max(), 'TotYrsOfExp'] = 10\n",
        "df['TotYrsOfExp'].max()"
      ],
      "execution_count": 37,
      "outputs": [
        {
          "output_type": "execute_result",
          "data": {
            "text/plain": [
              "40.0"
            ]
          },
          "metadata": {
            "tags": []
          },
          "execution_count": 37
        }
      ]
    },
    {
      "cell_type": "code",
      "metadata": {
        "id": "afaxNUmhMOu2",
        "colab": {
          "base_uri": "https://localhost:8080/",
          "height": 592
        },
        "outputId": "f670e58a-b97c-4ea2-cd79-d976ec437d0b"
      },
      "source": [
        "# Check lại biểu đồ\n",
        "plt.figure(figsize=(5, 10))\n",
        "sns.boxplot(data=df['TotYrsOfExp'])\n",
        "plt.show()"
      ],
      "execution_count": 38,
      "outputs": [
        {
          "output_type": "display_data",
          "data": {
            "image/png": "[encoded data removed]",
            "text/plain": [
              "<Figure size 360x720 with 1 Axes>"
            ]
          },
          "metadata": {
            "tags": [],
            "needs_background": "light"
          }
        }
      ]
    },
    {
      "cell_type": "code",
      "metadata": {
        "id": "fAaN0OPGMWch",
        "colab": {
          "base_uri": "https://localhost:8080/",
          "height": 272
        },
        "outputId": "7a40b734-9b24-4064-bf41-78f6ae07c089"
      },
      "source": [
        "# Xem qua một tí về biểu đồ tương quan\n",
        "corr = df.corr()\n",
        "sns.heatmap(data=corr, annot=True)\n",
        "plt.show()"
      ],
      "execution_count": 39,
      "outputs": [
        {
          "output_type": "display_data",
          "data": {
            "image/png": "[encoded data removed]",
            "text/plain": [
              "<Figure size 432x288 with 2 Axes>"
            ]
          },
          "metadata": {
            "tags": [],
            "needs_background": "light"
          }
        }
      ]
    },
    {
      "cell_type": "markdown",
      "metadata": {
        "id": "GRIKRkp4NQkI"
      },
      "source": [
        "####Xử lý trên column Age"
      ]
    },
    {
      "cell_type": "markdown",
      "metadata": {
        "id": "VrBqeIVDWkfP"
      },
      "source": [
        "Cột tuổi thì không có dữ liệu bị lỗi."
      ]
    },
    {
      "cell_type": "code",
      "metadata": {
        "id": "6hSL03b4WfGS",
        "colab": {
          "base_uri": "https://localhost:8080/"
        },
        "outputId": "3e06ea3b-8d51-4af4-c56f-d25c032a34ce"
      },
      "source": [
        "# Kiểm dữ liệu\n",
        "df['Age'].dtype"
      ],
      "execution_count": 40,
      "outputs": [
        {
          "output_type": "execute_result",
          "data": {
            "text/plain": [
              "dtype('float64')"
            ]
          },
          "metadata": {
            "tags": []
          },
          "execution_count": 40
        }
      ]
    },
    {
      "cell_type": "code",
      "metadata": {
        "id": "6Yq3OtFUWbkr",
        "colab": {
          "base_uri": "https://localhost:8080/"
        },
        "outputId": "d34ff974-ca87-40b3-ee0c-79ecf4f75e7c"
      },
      "source": [
        "# Các giá trị có trong cột Age\n",
        "df['Age'].unique()"
      ],
      "execution_count": 41,
      "outputs": [
        {
          "output_type": "execute_result",
          "data": {
            "text/plain": [
              "array([26., 29., 28., 37., 32., 24., 35., nan, 34., 31., 41., 27., 25.,\n",
              "       59., 36., 38., 40., 39., 33., 30., 49., 48., 44., 66., 45., 43.,\n",
              "       42., 46., 47., 56., 53., 65., 22., 23., 50., 51., 21., 20., 54.,\n",
              "       69., 52.])"
            ]
          },
          "metadata": {
            "tags": []
          },
          "execution_count": 41
        }
      ]
    },
    {
      "cell_type": "code",
      "metadata": {
        "id": "r5F7f3jnOmEn",
        "colab": {
          "base_uri": "https://localhost:8080/",
          "height": 286
        },
        "outputId": "fd99192b-3eec-4c25-813b-c965fc6608d7"
      },
      "source": [
        "# Biểu đồ xem nan\n",
        "sns.heatmap(df[['Age']].isna())"
      ],
      "execution_count": 42,
      "outputs": [
        {
          "output_type": "execute_result",
          "data": {
            "text/plain": [
              "<matplotlib.axes._subplots.AxesSubplot at 0x7f1692799dd0>"
            ]
          },
          "metadata": {
            "tags": []
          },
          "execution_count": 42
        },
        {
          "output_type": "display_data",
          "data": {
            "image/png": "[encoded data removed]",
            "text/plain": [
              "<Figure size 432x288 with 2 Axes>"
            ]
          },
          "metadata": {
            "tags": [],
            "needs_background": "light"
          }
        }
      ]
    },
    {
      "cell_type": "code",
      "metadata": {
        "id": "VyJEGx3ScDuM",
        "colab": {
          "base_uri": "https://localhost:8080/",
          "height": 779
        },
        "outputId": "2585be60-d014-421a-f089-66d7b4d2459b"
      },
      "source": [
        "# Liệt kê các điểm dữ liệu missing\n",
        "nan_age = df[df['Age'].isna()]\n",
        "print(nan_age.shape)\n",
        "nan_age"
      ],
      "execution_count": 43,
      "outputs": [
        {
          "output_type": "stream",
          "text": [
            "(23, 5)\n"
          ],
          "name": "stdout"
        },
        {
          "output_type": "execute_result",
          "data": {
            "text/html": [
              "<div>\n",
              "<style scoped>\n",
              "    .dataframe tbody tr th:only-of-type {\n",
              "        vertical-align: middle;\n",
              "    }\n",
              "\n",
              "    .dataframe tbody tr th {\n",
              "        vertical-align: top;\n",
              "    }\n",
              "\n",
              "    .dataframe thead th {\n",
              "        text-align: right;\n",
              "    }\n",
              "</style>\n",
              "<table border=\"1\" class=\"dataframe\">\n",
              "  <thead>\n",
              "    <tr style=\"text-align: right;\">\n",
              "      <th></th>\n",
              "      <th>Age</th>\n",
              "      <th>Gender</th>\n",
              "      <th>TotYrsOfExp</th>\n",
              "      <th>MainTech</th>\n",
              "      <th>AnualSalary</th>\n",
              "    </tr>\n",
              "  </thead>\n",
              "  <tbody>\n",
              "    <tr>\n",
              "      <th>11</th>\n",
              "      <td>NaN</td>\n",
              "      <td>Male</td>\n",
              "      <td>25.000000</td>\n",
              "      <td>C++</td>\n",
              "      <td>80000.0</td>\n",
              "    </tr>\n",
              "    <tr>\n",
              "      <th>12</th>\n",
              "      <td>NaN</td>\n",
              "      <td>NaN</td>\n",
              "      <td>9.057074</td>\n",
              "      <td>PHP</td>\n",
              "      <td>NaN</td>\n",
              "    </tr>\n",
              "    <tr>\n",
              "      <th>28</th>\n",
              "      <td>NaN</td>\n",
              "      <td>Male</td>\n",
              "      <td>14.000000</td>\n",
              "      <td>NaN</td>\n",
              "      <td>65000.0</td>\n",
              "    </tr>\n",
              "    <tr>\n",
              "      <th>55</th>\n",
              "      <td>NaN</td>\n",
              "      <td>Male</td>\n",
              "      <td>9.057074</td>\n",
              "      <td>PHP</td>\n",
              "      <td>NaN</td>\n",
              "    </tr>\n",
              "    <tr>\n",
              "      <th>113</th>\n",
              "      <td>NaN</td>\n",
              "      <td>Male</td>\n",
              "      <td>6.000000</td>\n",
              "      <td>Javascript</td>\n",
              "      <td>45000.0</td>\n",
              "    </tr>\n",
              "    <tr>\n",
              "      <th>300</th>\n",
              "      <td>NaN</td>\n",
              "      <td>Male</td>\n",
              "      <td>7.500000</td>\n",
              "      <td>SQL</td>\n",
              "      <td>48000.0</td>\n",
              "    </tr>\n",
              "    <tr>\n",
              "      <th>330</th>\n",
              "      <td>NaN</td>\n",
              "      <td>NaN</td>\n",
              "      <td>2.000000</td>\n",
              "      <td>Python</td>\n",
              "      <td>54000.0</td>\n",
              "    </tr>\n",
              "    <tr>\n",
              "      <th>340</th>\n",
              "      <td>NaN</td>\n",
              "      <td>Male</td>\n",
              "      <td>9.057074</td>\n",
              "      <td>NaN</td>\n",
              "      <td>60000.0</td>\n",
              "    </tr>\n",
              "    <tr>\n",
              "      <th>365</th>\n",
              "      <td>NaN</td>\n",
              "      <td>Male</td>\n",
              "      <td>9.000000</td>\n",
              "      <td>Java</td>\n",
              "      <td>NaN</td>\n",
              "    </tr>\n",
              "    <tr>\n",
              "      <th>374</th>\n",
              "      <td>NaN</td>\n",
              "      <td>Male</td>\n",
              "      <td>8.000000</td>\n",
              "      <td>Python</td>\n",
              "      <td>70400.0</td>\n",
              "    </tr>\n",
              "    <tr>\n",
              "      <th>418</th>\n",
              "      <td>NaN</td>\n",
              "      <td>Male</td>\n",
              "      <td>4.000000</td>\n",
              "      <td>Java</td>\n",
              "      <td>56000.0</td>\n",
              "    </tr>\n",
              "    <tr>\n",
              "      <th>528</th>\n",
              "      <td>NaN</td>\n",
              "      <td>Male</td>\n",
              "      <td>15.000000</td>\n",
              "      <td>Java</td>\n",
              "      <td>NaN</td>\n",
              "    </tr>\n",
              "    <tr>\n",
              "      <th>529</th>\n",
              "      <td>NaN</td>\n",
              "      <td>Male</td>\n",
              "      <td>9.057074</td>\n",
              "      <td>JavaScript</td>\n",
              "      <td>NaN</td>\n",
              "    </tr>\n",
              "    <tr>\n",
              "      <th>707</th>\n",
              "      <td>NaN</td>\n",
              "      <td>Male</td>\n",
              "      <td>18.000000</td>\n",
              "      <td>NaN</td>\n",
              "      <td>NaN</td>\n",
              "    </tr>\n",
              "    <tr>\n",
              "      <th>725</th>\n",
              "      <td>NaN</td>\n",
              "      <td>Male</td>\n",
              "      <td>10.000000</td>\n",
              "      <td>NaN</td>\n",
              "      <td>80000.0</td>\n",
              "    </tr>\n",
              "    <tr>\n",
              "      <th>828</th>\n",
              "      <td>NaN</td>\n",
              "      <td>Male</td>\n",
              "      <td>11.000000</td>\n",
              "      <td>python</td>\n",
              "      <td>NaN</td>\n",
              "    </tr>\n",
              "    <tr>\n",
              "      <th>831</th>\n",
              "      <td>NaN</td>\n",
              "      <td>Male</td>\n",
              "      <td>12.000000</td>\n",
              "      <td>Java</td>\n",
              "      <td>80000.0</td>\n",
              "    </tr>\n",
              "    <tr>\n",
              "      <th>847</th>\n",
              "      <td>NaN</td>\n",
              "      <td>Female</td>\n",
              "      <td>1.000000</td>\n",
              "      <td>Python</td>\n",
              "      <td>NaN</td>\n",
              "    </tr>\n",
              "    <tr>\n",
              "      <th>903</th>\n",
              "      <td>NaN</td>\n",
              "      <td>Male</td>\n",
              "      <td>10.000000</td>\n",
              "      <td>.net</td>\n",
              "      <td>57000.0</td>\n",
              "    </tr>\n",
              "    <tr>\n",
              "      <th>960</th>\n",
              "      <td>NaN</td>\n",
              "      <td>Male</td>\n",
              "      <td>4.000000</td>\n",
              "      <td>python</td>\n",
              "      <td>85000.0</td>\n",
              "    </tr>\n",
              "    <tr>\n",
              "      <th>1038</th>\n",
              "      <td>NaN</td>\n",
              "      <td>Male</td>\n",
              "      <td>15.000000</td>\n",
              "      <td>Elixir</td>\n",
              "      <td>NaN</td>\n",
              "    </tr>\n",
              "    <tr>\n",
              "      <th>1062</th>\n",
              "      <td>NaN</td>\n",
              "      <td>Male</td>\n",
              "      <td>5.000000</td>\n",
              "      <td>javascript</td>\n",
              "      <td>NaN</td>\n",
              "    </tr>\n",
              "    <tr>\n",
              "      <th>1147</th>\n",
              "      <td>NaN</td>\n",
              "      <td>NaN</td>\n",
              "      <td>10.000000</td>\n",
              "      <td>Python</td>\n",
              "      <td>60000.0</td>\n",
              "    </tr>\n",
              "  </tbody>\n",
              "</table>\n",
              "</div>"
            ],
            "text/plain": [
              "      Age  Gender  TotYrsOfExp    MainTech  AnualSalary\n",
              "11    NaN    Male    25.000000         C++      80000.0\n",
              "12    NaN     NaN     9.057074         PHP          NaN\n",
              "28    NaN    Male    14.000000         NaN      65000.0\n",
              "55    NaN    Male     9.057074         PHP          NaN\n",
              "113   NaN    Male     6.000000  Javascript      45000.0\n",
              "300   NaN    Male     7.500000         SQL      48000.0\n",
              "330   NaN     NaN     2.000000     Python       54000.0\n",
              "340   NaN    Male     9.057074         NaN      60000.0\n",
              "365   NaN    Male     9.000000        Java          NaN\n",
              "374   NaN    Male     8.000000      Python      70400.0\n",
              "418   NaN    Male     4.000000        Java      56000.0\n",
              "528   NaN    Male    15.000000        Java          NaN\n",
              "529   NaN    Male     9.057074  JavaScript          NaN\n",
              "707   NaN    Male    18.000000         NaN          NaN\n",
              "725   NaN    Male    10.000000         NaN      80000.0\n",
              "828   NaN    Male    11.000000      python          NaN\n",
              "831   NaN    Male    12.000000        Java      80000.0\n",
              "847   NaN  Female     1.000000      Python          NaN\n",
              "903   NaN    Male    10.000000        .net      57000.0\n",
              "960   NaN    Male     4.000000      python      85000.0\n",
              "1038  NaN    Male    15.000000      Elixir          NaN\n",
              "1062  NaN    Male     5.000000  javascript          NaN\n",
              "1147  NaN     NaN    10.000000      Python      60000.0"
            ]
          },
          "metadata": {
            "tags": []
          },
          "execution_count": 43
        }
      ]
    },
    {
      "cell_type": "code",
      "metadata": {
        "id": "OvzBMZAmcv6J",
        "colab": {
          "base_uri": "https://localhost:8080/",
          "height": 483
        },
        "outputId": "9c6b23db-9554-41ff-fd91-cf5065bb7ac2"
      },
      "source": [
        "# Biểu đô tương quan 2 biến\n",
        "plt.figure(figsize=(10, 8))\n",
        "plt.scatter(df['Age'], df['TotYrsOfExp'])\n",
        "plt.show()"
      ],
      "execution_count": 44,
      "outputs": [
        {
          "output_type": "display_data",
          "data": {
            "image/png": "[encoded data removed]",
            "text/plain": [
              "<Figure size 720x576 with 1 Axes>"
            ]
          },
          "metadata": {
            "tags": [],
            "needs_background": "light"
          }
        }
      ]
    },
    {
      "cell_type": "code",
      "metadata": {
        "id": "xd-8HWlHe46A",
        "colab": {
          "base_uri": "https://localhost:8080/"
        },
        "outputId": "fed82935-276c-4aee-fc21-fc3304f0edd1"
      },
      "source": [
        "# Lấy các giá trị cần dự đoán\n",
        "bePre = df[df['Age'].isna()][['TotYrsOfExp']].values\n",
        "bePre, bePre.shape"
      ],
      "execution_count": 45,
      "outputs": [
        {
          "output_type": "execute_result",
          "data": {
            "text/plain": [
              "(array([[25.        ],\n",
              "        [ 9.05707357],\n",
              "        [14.        ],\n",
              "        [ 9.05707357],\n",
              "        [ 6.        ],\n",
              "        [ 7.5       ],\n",
              "        [ 2.        ],\n",
              "        [ 9.05707357],\n",
              "        [ 9.        ],\n",
              "        [ 8.        ],\n",
              "        [ 4.        ],\n",
              "        [15.        ],\n",
              "        [ 9.05707357],\n",
              "        [18.        ],\n",
              "        [10.        ],\n",
              "        [11.        ],\n",
              "        [12.        ],\n",
              "        [ 1.        ],\n",
              "        [10.        ],\n",
              "        [ 4.        ],\n",
              "        [15.        ],\n",
              "        [ 5.        ],\n",
              "        [10.        ]]), (23, 1))"
            ]
          },
          "metadata": {
            "tags": []
          },
          "execution_count": 45
        }
      ]
    },
    {
      "cell_type": "code",
      "metadata": {
        "id": "8Yq5KeNBit5J",
        "colab": {
          "base_uri": "https://localhost:8080/"
        },
        "outputId": "4aa8a632-0b3a-4207-e3af-483560541ad5"
      },
      "source": [
        "# Dữ liệu cho mô hình học (không chưa nan)\n",
        "X = df[~df['Age'].isna()][['TotYrsOfExp']].values\n",
        "y = df[~df['Age'].isna()]['Age'].values\n",
        "X.shape, y.shape"
      ],
      "execution_count": 46,
      "outputs": [
        {
          "output_type": "execute_result",
          "data": {
            "text/plain": [
              "((1226, 1), (1226,))"
            ]
          },
          "metadata": {
            "tags": []
          },
          "execution_count": 46
        }
      ]
    },
    {
      "cell_type": "markdown",
      "metadata": {
        "id": "F_8KuiHkYDCj"
      },
      "source": [
        "**Mô hình linear**: Age = a*SoNamKinhNghiem + b"
      ]
    },
    {
      "cell_type": "code",
      "metadata": {
        "id": "QvTxzEW_erc8",
        "colab": {
          "base_uri": "https://localhost:8080/"
        },
        "outputId": "3925184c-0afa-47f0-b604-4c14c917d183"
      },
      "source": [
        "# Thực thi mô hình \n",
        "model = LinearRegression().fit(X, y)\n",
        "print(model.score(X, y))\n",
        "\n",
        "# Dự đoán cho vị trí nan\n",
        "predict = model.predict(bePre)\n",
        "predict"
      ],
      "execution_count": 47,
      "outputs": [
        {
          "output_type": "stream",
          "text": [
            "0.5053407094395717\n"
          ],
          "name": "stdout"
        },
        {
          "output_type": "execute_result",
          "data": {
            "text/plain": [
              "array([44.97753346, 32.75210427, 36.54246217, 32.75210427, 30.40786487,\n",
              "       31.55810186, 27.34056622, 32.75210427, 32.70833886, 31.94151419,\n",
              "       28.87421554, 37.30928683, 32.75210427, 39.60976082, 33.47516352,\n",
              "       34.24198818, 35.00881284, 26.57374155, 33.47516352, 28.87421554,\n",
              "       37.30928683, 29.6410402 , 33.47516352])"
            ]
          },
          "metadata": {
            "tags": []
          },
          "execution_count": 47
        }
      ]
    },
    {
      "cell_type": "code",
      "metadata": {
        "id": "tOcGmS_-oHKO",
        "colab": {
          "base_uri": "https://localhost:8080/",
          "height": 49
        },
        "outputId": "99316b2a-c9b8-41c8-efe4-6ffbbae4e4cf"
      },
      "source": [
        "# Thay giá trị được dự đoán vào data nan của Age\n",
        "nan_index = df[df['Age'].isna()].index\n",
        "df.loc[nan_index, 'Age'] = predict\n",
        "\n",
        "# Kiểm tra nan trong Age\n",
        "df[df['Age'].isna()]"
      ],
      "execution_count": 48,
      "outputs": [
        {
          "output_type": "execute_result",
          "data": {
            "text/html": [
              "<div>\n",
              "<style scoped>\n",
              "    .dataframe tbody tr th:only-of-type {\n",
              "        vertical-align: middle;\n",
              "    }\n",
              "\n",
              "    .dataframe tbody tr th {\n",
              "        vertical-align: top;\n",
              "    }\n",
              "\n",
              "    .dataframe thead th {\n",
              "        text-align: right;\n",
              "    }\n",
              "</style>\n",
              "<table border=\"1\" class=\"dataframe\">\n",
              "  <thead>\n",
              "    <tr style=\"text-align: right;\">\n",
              "      <th></th>\n",
              "      <th>Age</th>\n",
              "      <th>Gender</th>\n",
              "      <th>TotYrsOfExp</th>\n",
              "      <th>MainTech</th>\n",
              "      <th>AnualSalary</th>\n",
              "    </tr>\n",
              "  </thead>\n",
              "  <tbody>\n",
              "  </tbody>\n",
              "</table>\n",
              "</div>"
            ],
            "text/plain": [
              "Empty DataFrame\n",
              "Columns: [Age, Gender, TotYrsOfExp, MainTech, AnualSalary]\n",
              "Index: []"
            ]
          },
          "metadata": {
            "tags": []
          },
          "execution_count": 48
        }
      ]
    },
    {
      "cell_type": "markdown",
      "metadata": {
        "id": "LuwuwOBkp0Aw"
      },
      "source": [
        "#### Kiểm tra và xử lý outliers của Age:"
      ]
    },
    {
      "cell_type": "code",
      "metadata": {
        "id": "lUDdDriNphOM",
        "colab": {
          "base_uri": "https://localhost:8080/",
          "height": 483
        },
        "outputId": "a58b6107-37a9-484c-ab7f-549e2a5d25ed"
      },
      "source": [
        "# Biểu đồ xem outliers\n",
        "plt.figure(figsize=(8, 8))\n",
        "sns.boxplot(data=df['Age'])\n",
        "plt.show()"
      ],
      "execution_count": 49,
      "outputs": [
        {
          "output_type": "display_data",
          "data": {
            "image/png": "[encoded data removed]",
            "text/plain": [
              "<Figure size 576x576 with 1 Axes>"
            ]
          },
          "metadata": {
            "tags": [],
            "needs_background": "light"
          }
        }
      ]
    },
    {
      "cell_type": "markdown",
      "metadata": {
        "id": "NZB24b-V4mpr"
      },
      "source": [
        "Phần này chọn cách giữ nguyên. Các bạn có thể thử thêm các cách khác và xem thử độ chính xác mô hình có tăng lên không."
      ]
    },
    {
      "cell_type": "code",
      "metadata": {
        "id": "ChOMnN55eBVe",
        "colab": {
          "base_uri": "https://localhost:8080/",
          "height": 1000
        },
        "outputId": "7031a9eb-1930-47fa-e7fa-ddd99f1ef00c"
      },
      "source": [
        "# Xem các giá trị ngoại lệ.\n",
        "upper = bound(df['Age'])[1]\n",
        "df[df['Age'] > upper]"
      ],
      "execution_count": 50,
      "outputs": [
        {
          "output_type": "execute_result",
          "data": {
            "text/html": [
              "<div>\n",
              "<style scoped>\n",
              "    .dataframe tbody tr th:only-of-type {\n",
              "        vertical-align: middle;\n",
              "    }\n",
              "\n",
              "    .dataframe tbody tr th {\n",
              "        vertical-align: top;\n",
              "    }\n",
              "\n",
              "    .dataframe thead th {\n",
              "        text-align: right;\n",
              "    }\n",
              "</style>\n",
              "<table border=\"1\" class=\"dataframe\">\n",
              "  <thead>\n",
              "    <tr style=\"text-align: right;\">\n",
              "      <th></th>\n",
              "      <th>Age</th>\n",
              "      <th>Gender</th>\n",
              "      <th>TotYrsOfExp</th>\n",
              "      <th>MainTech</th>\n",
              "      <th>AnualSalary</th>\n",
              "    </tr>\n",
              "  </thead>\n",
              "  <tbody>\n",
              "    <tr>\n",
              "      <th>11</th>\n",
              "      <td>44.977533</td>\n",
              "      <td>Male</td>\n",
              "      <td>25.000000</td>\n",
              "      <td>C++</td>\n",
              "      <td>80000.0</td>\n",
              "    </tr>\n",
              "    <tr>\n",
              "      <th>23</th>\n",
              "      <td>59.000000</td>\n",
              "      <td>Male</td>\n",
              "      <td>30.000000</td>\n",
              "      <td>Java</td>\n",
              "      <td>69000.0</td>\n",
              "    </tr>\n",
              "    <tr>\n",
              "      <th>41</th>\n",
              "      <td>49.000000</td>\n",
              "      <td>Male</td>\n",
              "      <td>15.000000</td>\n",
              "      <td>Java</td>\n",
              "      <td>66000.0</td>\n",
              "    </tr>\n",
              "    <tr>\n",
              "      <th>45</th>\n",
              "      <td>48.000000</td>\n",
              "      <td>Male</td>\n",
              "      <td>25.000000</td>\n",
              "      <td>Java</td>\n",
              "      <td>75000.0</td>\n",
              "    </tr>\n",
              "    <tr>\n",
              "      <th>59</th>\n",
              "      <td>66.000000</td>\n",
              "      <td>Male</td>\n",
              "      <td>40.000000</td>\n",
              "      <td>ruby on rails</td>\n",
              "      <td>50000.0</td>\n",
              "    </tr>\n",
              "    <tr>\n",
              "      <th>67</th>\n",
              "      <td>45.000000</td>\n",
              "      <td>Male</td>\n",
              "      <td>26.000000</td>\n",
              "      <td>C#</td>\n",
              "      <td>93000.0</td>\n",
              "    </tr>\n",
              "    <tr>\n",
              "      <th>68</th>\n",
              "      <td>48.000000</td>\n",
              "      <td>Male</td>\n",
              "      <td>23.000000</td>\n",
              "      <td>Google Cloud Platform</td>\n",
              "      <td>NaN</td>\n",
              "    </tr>\n",
              "    <tr>\n",
              "      <th>169</th>\n",
              "      <td>46.000000</td>\n",
              "      <td>Male</td>\n",
              "      <td>4.000000</td>\n",
              "      <td>NaN</td>\n",
              "      <td>78000.0</td>\n",
              "    </tr>\n",
              "    <tr>\n",
              "      <th>174</th>\n",
              "      <td>46.000000</td>\n",
              "      <td>Male</td>\n",
              "      <td>13.000000</td>\n",
              "      <td>Java</td>\n",
              "      <td>70000.0</td>\n",
              "    </tr>\n",
              "    <tr>\n",
              "      <th>181</th>\n",
              "      <td>46.000000</td>\n",
              "      <td>Male</td>\n",
              "      <td>14.000000</td>\n",
              "      <td>JavaScript</td>\n",
              "      <td>63000.0</td>\n",
              "    </tr>\n",
              "    <tr>\n",
              "      <th>185</th>\n",
              "      <td>47.000000</td>\n",
              "      <td>Male</td>\n",
              "      <td>20.000000</td>\n",
              "      <td>NaN</td>\n",
              "      <td>NaN</td>\n",
              "    </tr>\n",
              "    <tr>\n",
              "      <th>187</th>\n",
              "      <td>46.000000</td>\n",
              "      <td>Male</td>\n",
              "      <td>12.000000</td>\n",
              "      <td>Agile</td>\n",
              "      <td>88000.0</td>\n",
              "    </tr>\n",
              "    <tr>\n",
              "      <th>218</th>\n",
              "      <td>45.000000</td>\n",
              "      <td>Male</td>\n",
              "      <td>10.000000</td>\n",
              "      <td>SWIFT</td>\n",
              "      <td>66000.0</td>\n",
              "    </tr>\n",
              "    <tr>\n",
              "      <th>232</th>\n",
              "      <td>56.000000</td>\n",
              "      <td>Male</td>\n",
              "      <td>9.000000</td>\n",
              "      <td>R</td>\n",
              "      <td>NaN</td>\n",
              "    </tr>\n",
              "    <tr>\n",
              "      <th>233</th>\n",
              "      <td>53.000000</td>\n",
              "      <td>Male</td>\n",
              "      <td>15.000000</td>\n",
              "      <td>Java, Javascript</td>\n",
              "      <td>NaN</td>\n",
              "    </tr>\n",
              "    <tr>\n",
              "      <th>285</th>\n",
              "      <td>45.000000</td>\n",
              "      <td>Female</td>\n",
              "      <td>6.000000</td>\n",
              "      <td>T-SQL</td>\n",
              "      <td>NaN</td>\n",
              "    </tr>\n",
              "    <tr>\n",
              "      <th>292</th>\n",
              "      <td>45.000000</td>\n",
              "      <td>Male</td>\n",
              "      <td>25.000000</td>\n",
              "      <td>c++</td>\n",
              "      <td>73000.0</td>\n",
              "    </tr>\n",
              "    <tr>\n",
              "      <th>296</th>\n",
              "      <td>65.000000</td>\n",
              "      <td>Male</td>\n",
              "      <td>25.000000</td>\n",
              "      <td>Pascal, VB.NET, C#</td>\n",
              "      <td>50000.0</td>\n",
              "    </tr>\n",
              "    <tr>\n",
              "      <th>319</th>\n",
              "      <td>46.000000</td>\n",
              "      <td>Male</td>\n",
              "      <td>14.000000</td>\n",
              "      <td>JavaScript</td>\n",
              "      <td>63000.0</td>\n",
              "    </tr>\n",
              "    <tr>\n",
              "      <th>337</th>\n",
              "      <td>47.000000</td>\n",
              "      <td>Male</td>\n",
              "      <td>22.000000</td>\n",
              "      <td>C++/C#</td>\n",
              "      <td>46000.0</td>\n",
              "    </tr>\n",
              "    <tr>\n",
              "      <th>343</th>\n",
              "      <td>45.000000</td>\n",
              "      <td>Male</td>\n",
              "      <td>3.000000</td>\n",
              "      <td>Javascript / Typescript</td>\n",
              "      <td>65000.0</td>\n",
              "    </tr>\n",
              "    <tr>\n",
              "      <th>376</th>\n",
              "      <td>46.000000</td>\n",
              "      <td>Male</td>\n",
              "      <td>10.000000</td>\n",
              "      <td>Python</td>\n",
              "      <td>60000.0</td>\n",
              "    </tr>\n",
              "    <tr>\n",
              "      <th>403</th>\n",
              "      <td>50.000000</td>\n",
              "      <td>Male</td>\n",
              "      <td>29.000000</td>\n",
              "      <td>C++</td>\n",
              "      <td>28800.0</td>\n",
              "    </tr>\n",
              "    <tr>\n",
              "      <th>449</th>\n",
              "      <td>46.000000</td>\n",
              "      <td>Male</td>\n",
              "      <td>23.000000</td>\n",
              "      <td>C#</td>\n",
              "      <td>76000.0</td>\n",
              "    </tr>\n",
              "    <tr>\n",
              "      <th>450</th>\n",
              "      <td>48.000000</td>\n",
              "      <td>Male</td>\n",
              "      <td>9.057074</td>\n",
              "      <td>Computer Networking,  Network Security</td>\n",
              "      <td>NaN</td>\n",
              "    </tr>\n",
              "    <tr>\n",
              "      <th>611</th>\n",
              "      <td>45.000000</td>\n",
              "      <td>Male</td>\n",
              "      <td>30.000000</td>\n",
              "      <td>PHP</td>\n",
              "      <td>55000.0</td>\n",
              "    </tr>\n",
              "    <tr>\n",
              "      <th>615</th>\n",
              "      <td>45.000000</td>\n",
              "      <td>Female</td>\n",
              "      <td>15.000000</td>\n",
              "      <td>Java</td>\n",
              "      <td>52000.0</td>\n",
              "    </tr>\n",
              "    <tr>\n",
              "      <th>639</th>\n",
              "      <td>49.000000</td>\n",
              "      <td>Male</td>\n",
              "      <td>27.000000</td>\n",
              "      <td>Java</td>\n",
              "      <td>57000.0</td>\n",
              "    </tr>\n",
              "    <tr>\n",
              "      <th>672</th>\n",
              "      <td>51.000000</td>\n",
              "      <td>Male</td>\n",
              "      <td>30.000000</td>\n",
              "      <td>VB, RPA, Python</td>\n",
              "      <td>50000.0</td>\n",
              "    </tr>\n",
              "    <tr>\n",
              "      <th>717</th>\n",
              "      <td>47.000000</td>\n",
              "      <td>Male</td>\n",
              "      <td>25.000000</td>\n",
              "      <td>java</td>\n",
              "      <td>NaN</td>\n",
              "    </tr>\n",
              "    <tr>\n",
              "      <th>817</th>\n",
              "      <td>46.000000</td>\n",
              "      <td>Male</td>\n",
              "      <td>13.000000</td>\n",
              "      <td>C++</td>\n",
              "      <td>68000.0</td>\n",
              "    </tr>\n",
              "    <tr>\n",
              "      <th>937</th>\n",
              "      <td>45.000000</td>\n",
              "      <td>Male</td>\n",
              "      <td>2.000000</td>\n",
              "      <td>Python</td>\n",
              "      <td>NaN</td>\n",
              "    </tr>\n",
              "    <tr>\n",
              "      <th>954</th>\n",
              "      <td>54.000000</td>\n",
              "      <td>Male</td>\n",
              "      <td>31.000000</td>\n",
              "      <td>Network Automation</td>\n",
              "      <td>110000.0</td>\n",
              "    </tr>\n",
              "    <tr>\n",
              "      <th>978</th>\n",
              "      <td>48.000000</td>\n",
              "      <td>Male</td>\n",
              "      <td>15.000000</td>\n",
              "      <td>Python</td>\n",
              "      <td>NaN</td>\n",
              "    </tr>\n",
              "    <tr>\n",
              "      <th>1081</th>\n",
              "      <td>45.000000</td>\n",
              "      <td>Male</td>\n",
              "      <td>27.000000</td>\n",
              "      <td>NaN</td>\n",
              "      <td>90000.0</td>\n",
              "    </tr>\n",
              "    <tr>\n",
              "      <th>1083</th>\n",
              "      <td>45.000000</td>\n",
              "      <td>Male</td>\n",
              "      <td>19.000000</td>\n",
              "      <td>NaN</td>\n",
              "      <td>88000.0</td>\n",
              "    </tr>\n",
              "    <tr>\n",
              "      <th>1102</th>\n",
              "      <td>69.000000</td>\n",
              "      <td>Male</td>\n",
              "      <td>10.000000</td>\n",
              "      <td>NaN</td>\n",
              "      <td>NaN</td>\n",
              "    </tr>\n",
              "    <tr>\n",
              "      <th>1158</th>\n",
              "      <td>56.000000</td>\n",
              "      <td>Male</td>\n",
              "      <td>30.000000</td>\n",
              "      <td>c++</td>\n",
              "      <td>90000.0</td>\n",
              "    </tr>\n",
              "    <tr>\n",
              "      <th>1179</th>\n",
              "      <td>54.000000</td>\n",
              "      <td>Male</td>\n",
              "      <td>25.000000</td>\n",
              "      <td>Python</td>\n",
              "      <td>80000.0</td>\n",
              "    </tr>\n",
              "    <tr>\n",
              "      <th>1220</th>\n",
              "      <td>45.000000</td>\n",
              "      <td>Male</td>\n",
              "      <td>20.000000</td>\n",
              "      <td>.net, c++, spss, embeddded</td>\n",
              "      <td>200000.0</td>\n",
              "    </tr>\n",
              "    <tr>\n",
              "      <th>1228</th>\n",
              "      <td>52.000000</td>\n",
              "      <td>Male</td>\n",
              "      <td>9.057074</td>\n",
              "      <td>Atlassian JIRA</td>\n",
              "      <td>NaN</td>\n",
              "    </tr>\n",
              "  </tbody>\n",
              "</table>\n",
              "</div>"
            ],
            "text/plain": [
              "            Age  Gender  ...                                 MainTech AnualSalary\n",
              "11    44.977533    Male  ...                                      C++     80000.0\n",
              "23    59.000000    Male  ...                                     Java     69000.0\n",
              "41    49.000000    Male  ...                                     Java     66000.0\n",
              "45    48.000000    Male  ...                                     Java     75000.0\n",
              "59    66.000000    Male  ...                            ruby on rails     50000.0\n",
              "67    45.000000    Male  ...                                       C#     93000.0\n",
              "68    48.000000    Male  ...                    Google Cloud Platform         NaN\n",
              "169   46.000000    Male  ...                                      NaN     78000.0\n",
              "174   46.000000    Male  ...                                     Java     70000.0\n",
              "181   46.000000    Male  ...                               JavaScript     63000.0\n",
              "185   47.000000    Male  ...                                      NaN         NaN\n",
              "187   46.000000    Male  ...                                    Agile     88000.0\n",
              "218   45.000000    Male  ...                                    SWIFT     66000.0\n",
              "232   56.000000    Male  ...                                        R         NaN\n",
              "233   53.000000    Male  ...                         Java, Javascript         NaN\n",
              "285   45.000000  Female  ...                                    T-SQL         NaN\n",
              "292   45.000000    Male  ...                                      c++     73000.0\n",
              "296   65.000000    Male  ...                       Pascal, VB.NET, C#     50000.0\n",
              "319   46.000000    Male  ...                               JavaScript     63000.0\n",
              "337   47.000000    Male  ...                                   C++/C#     46000.0\n",
              "343   45.000000    Male  ...                  Javascript / Typescript     65000.0\n",
              "376   46.000000    Male  ...                                  Python      60000.0\n",
              "403   50.000000    Male  ...                                      C++     28800.0\n",
              "449   46.000000    Male  ...                                       C#     76000.0\n",
              "450   48.000000    Male  ...  Computer Networking,  Network Security          NaN\n",
              "611   45.000000    Male  ...                                      PHP     55000.0\n",
              "615   45.000000  Female  ...                                     Java     52000.0\n",
              "639   49.000000    Male  ...                                     Java     57000.0\n",
              "672   51.000000    Male  ...                          VB, RPA, Python     50000.0\n",
              "717   47.000000    Male  ...                                     java         NaN\n",
              "817   46.000000    Male  ...                                      C++     68000.0\n",
              "937   45.000000    Male  ...                                   Python         NaN\n",
              "954   54.000000    Male  ...                       Network Automation    110000.0\n",
              "978   48.000000    Male  ...                                   Python         NaN\n",
              "1081  45.000000    Male  ...                                      NaN     90000.0\n",
              "1083  45.000000    Male  ...                                      NaN     88000.0\n",
              "1102  69.000000    Male  ...                                      NaN         NaN\n",
              "1158  56.000000    Male  ...                                      c++     90000.0\n",
              "1179  54.000000    Male  ...                                   Python     80000.0\n",
              "1220  45.000000    Male  ...               .net, c++, spss, embeddded    200000.0\n",
              "1228  52.000000    Male  ...                           Atlassian JIRA         NaN\n",
              "\n",
              "[41 rows x 5 columns]"
            ]
          },
          "metadata": {
            "tags": []
          },
          "execution_count": 50
        }
      ]
    },
    {
      "cell_type": "code",
      "metadata": {
        "id": "2FPKrvbKL0eF",
        "colab": {
          "base_uri": "https://localhost:8080/"
        },
        "outputId": "74615be3-9d4e-4b1f-9db0-f4b99974afd1"
      },
      "source": [
        "df[df['Age'] > upper].shape"
      ],
      "execution_count": 51,
      "outputs": [
        {
          "output_type": "execute_result",
          "data": {
            "text/plain": [
              "(41, 5)"
            ]
          },
          "metadata": {
            "tags": []
          },
          "execution_count": 51
        }
      ]
    },
    {
      "cell_type": "markdown",
      "metadata": {
        "id": "29kF4TxdseV6"
      },
      "source": [
        "####Xử lý column MainTech"
      ]
    },
    {
      "cell_type": "code",
      "metadata": {
        "id": "OES4KSeFMelM",
        "colab": {
          "base_uri": "https://localhost:8080/"
        },
        "outputId": "99f5c083-3034-4c41-b1c0-b214a7f39b12"
      },
      "source": [
        "df['MainTech']"
      ],
      "execution_count": 52,
      "outputs": [
        {
          "output_type": "execute_result",
          "data": {
            "text/plain": [
              "0                    TypeScript\n",
              "1                          Ruby\n",
              "2       Javascript / Typescript\n",
              "3                    Javascript\n",
              "4                       C# .NET\n",
              "                 ...           \n",
              "1244                       Java\n",
              "1245          consumer analysis\n",
              "1246                        PHP\n",
              "1247                 JavaScript\n",
              "1248                       yaml\n",
              "Name: MainTech, Length: 1249, dtype: object"
            ]
          },
          "metadata": {
            "tags": []
          },
          "execution_count": 52
        }
      ]
    },
    {
      "cell_type": "code",
      "metadata": {
        "id": "ru2XgHtlsS6-"
      },
      "source": [
        "# dict những tên công nghệ cần thay thế về 1 tên chung. (jS --> javasript, k8s --> kubernetes, ...)\n",
        "dict_apply_duplicate = {\n",
        "    r'js': 'javascript',\n",
        "    r'k8s': 'kubernetes',\n",
        "    r'kubrrnetes': 'kubernetes',\n",
        "    r'gcp': 'google cloud platform',\n",
        "    r'\\.net': '.net',\n",
        "    r'[^\\w](\\.net)': '.net core',\n",
        "    'core core': 'core',\n",
        "    r'frontend:': 'frontend,',\n",
        "    r'react': 'react.js',\n",
        "    r'reactjs': 'react.js',\n",
        "    r'nodejs': 'node.js',\n",
        "    r'node': 'node.js',\n",
        "    r'ts': 'typescript',\n",
        "    r'[\\(\\)]': ''\n",
        "}\n",
        "\n",
        "\n",
        "def doing(data: str):\n",
        "    deprecated = ['none', '-', '--', 'nothing'] # list những cái giá trị bỏ\n",
        "    # dưới đây là if data là nan hoặc data nằm trong list những cái bỏ thì mình trả về no_tech\n",
        "    if (not isinstance(data, str) and math.isnan(data)) or (data in deprecated):\n",
        "        return ['no_tech']\n",
        "    \n",
        "    data = data.lower() # lowercase dữ liệu chuỗi\n",
        "    # gọi cái dict ở trên\n",
        "    # thay thế key bằng value có dấu , hai đầu để tiện split\n",
        "    global dict_apply_duplicate\n",
        "    for regex, sub in dict_apply_duplicate.items(): # Thay thế các chuỗi viết tắt thành tên đầy đủ theo value của dict\n",
        "        sub_data = ',%s,' % (sub)\n",
        "        data = re.compile(regex).sub(sub_data, data)\n",
        "    \n",
        "    data = data.replace('/', ',') # thay dấu / thành ,\n",
        "    data = data.split(',') # split công nghệ theo ,\n",
        "    data = [datum.strip() for datum in data] # loại bỏ space hai đầu của từng công nghệ\n",
        "    data = [datum for datum in data if datum != ''] # nếu loại bỏ xong là rỗng thì không lấy \n",
        "    data = ['_'.join(datum.split()) for datum in data] # ghép lại theo _\n",
        "    \n",
        "    if data == ['aws_hadoop_postgre_typescript']: # đối với trường hợp cụ thể như thế này thì thay thế riêng\n",
        "        data = data[0].split('_')\n",
        "        \n",
        "    return data"
      ],
      "execution_count": 53,
      "outputs": []
    },
    {
      "cell_type": "markdown",
      "metadata": {
        "id": "FZ8CF59FMi59"
      },
      "source": [
        "**Hàm doing:** Input là các giá trị của cột MainTech thông qua phương thức apply. Xử lý rồi trả về giá trị ngay tại điểm dữ liệu đó.\n",
        "\n",
        "1. Kiểm tra nếu trong list deprecated hoặc là nan gán \"no_tech\".\n",
        "2. Lower case cả chuỗi về chữ thường.\n",
        "3. Thay thế các chuỗi viết tắt thành tên đầy đủ theo value của dict_apply_duplicate.\n",
        "4. Thay dấu \"/\" thành \",\".\n",
        "5. Tách chuỗi theo dấu \",\"\n",
        "6. Loại bỏ khoảng trằng \" \" có ở 2 đầu (vd : \" python  \").\n",
        "7. Loại bỏ các giá trị \"\".\n",
        "8. Ghép tên các công nghệ trên 2 từ bởi \"_\".\n",
        "9. Trường hợp chuỗi \"aws_hadoop_postgre_typescript\" phải tách ra thành các công nghệ riêng biệt.\n",
        "10. Trả về data đã xử lý.\n"
      ]
    },
    {
      "cell_type": "code",
      "metadata": {
        "id": "ijA8aq9MswGQ"
      },
      "source": [
        "# Apply trên các điểm dữ liệu\n",
        "df['MainTech'] = df['MainTech'].apply(doing)"
      ],
      "execution_count": 54,
      "outputs": []
    },
    {
      "cell_type": "code",
      "metadata": {
        "id": "1lWhoBggntA0",
        "colab": {
          "base_uri": "https://localhost:8080/"
        },
        "outputId": "a18f2107-194a-46a0-d8e3-62ced5380e2e"
      },
      "source": [
        "# Show kết quả\n",
        "df['MainTech']"
      ],
      "execution_count": 55,
      "outputs": [
        {
          "output_type": "execute_result",
          "data": {
            "text/plain": [
              "0                   [typescript]\n",
              "1                         [ruby]\n",
              "2       [javascript, typescript]\n",
              "3                   [javascript]\n",
              "4                [c#, .net_core]\n",
              "                  ...           \n",
              "1244                      [java]\n",
              "1245         [consumer_analysis]\n",
              "1246                       [php]\n",
              "1247                [javascript]\n",
              "1248                      [yaml]\n",
              "Name: MainTech, Length: 1249, dtype: object"
            ]
          },
          "metadata": {
            "tags": []
          },
          "execution_count": 55
        }
      ]
    },
    {
      "cell_type": "markdown",
      "metadata": {
        "id": "BlVphgttmJLd"
      },
      "source": [
        "####Xử lý column AnualSalary"
      ]
    },
    {
      "cell_type": "code",
      "metadata": {
        "id": "YH1WI06CnxM6",
        "colab": {
          "base_uri": "https://localhost:8080/"
        },
        "outputId": "c565bd95-03ea-4ece-d007-628fd3a94b3b"
      },
      "source": [
        "# Kiểm tra dữ liệu lỗi\n",
        "print(type(df['AnualSalary']))\n",
        "df['AnualSalary'].unique()"
      ],
      "execution_count": 56,
      "outputs": [
        {
          "output_type": "stream",
          "text": [
            "<class 'pandas.core.series.Series'>\n"
          ],
          "name": "stdout"
        },
        {
          "output_type": "execute_result",
          "data": {
            "text/plain": [
              "array([7.5000e+04, 8.2000e+04, 1.0000e+05,        nan, 6.2000e+04,\n",
              "       7.6000e+04, 6.5000e+04, 5.5000e+04, 9.0000e+04, 5.2500e+04,\n",
              "       8.0000e+04, 6.6000e+04, 5.8000e+04, 9.2000e+04, 6.9000e+04,\n",
              "       6.3000e+04, 4.4000e+04, 7.8000e+04, 8.1000e+04, 3.7000e+04,\n",
              "       7.2000e+04, 9.6000e+04, 5.4000e+04, 5.2000e+04, 6.0000e+04,\n",
              "       6.8000e+04, 5.0000e+04, 5.6000e+04, 7.0000e+04, 8.5000e+04,\n",
              "       9.3000e+04, 4.2000e+04, 5.3000e+04, 7.9000e+04, 6.2400e+04,\n",
              "       7.3000e+04, 4.5000e+04, 6.1000e+04, 7.2500e+04, 7.7000e+04,\n",
              "       1.1000e+05, 3.6000e+04, 6.7000e+04, 6.8500e+04, 6.7500e+04,\n",
              "       5.7000e+04, 1.1500e+05, 8.8000e+04, 1.3200e+05, 1.0500e+05,\n",
              "       5.7600e+04, 5.6500e+04, 4.8000e+04, 4.7000e+04, 9.7000e+04,\n",
              "       9.8000e+04, 5.3300e+04, 2.1800e+04, 1.0800e+05, 7.4000e+04,\n",
              "       8.0600e+04, 1.2000e+05, 6.4000e+04, 8.2240e+04, 4.3000e+04,\n",
              "       5.6400e+04, 1.7000e+04, 4.6000e+04, 4.3200e+04, 5.9000e+04,\n",
              "       5.4500e+04, 7.8500e+04, 6.1500e+04, 7.0400e+04, 2.0000e+04,\n",
              "       9.4000e+04, 1.2500e+05, 1.4712e+04, 2.8800e+04, 2.7000e+04,\n",
              "       8.9000e+04, 2.6000e+04, 4.0000e+04, 8.6000e+04, 1.6000e+04,\n",
              "       1.6560e+04, 6.1400e+04, 4.1000e+04, 3.9000e+04, 1.8000e+04,\n",
              "       3.0000e+04, 8.4000e+04, 1.5600e+05, 6.9300e+04, 1.3000e+05,\n",
              "       1.0400e+05, 1.1800e+05, 6.7100e+04, 1.6000e+05, 3.5000e+04,\n",
              "       2.8000e+04, 3.1000e+04, 6.1200e+04, 5.0400e+04, 7.3500e+04,\n",
              "       7.8600e+04, 2.3000e+05, 7.6000e+05, 8.2600e+04, 1.2000e+04,\n",
              "       9.5000e+04, 7.1000e+04, 1.1000e+04, 3.2000e+04, 2.3000e+04,\n",
              "       3.3000e+04, 1.9000e+05, 4.7500e+04, 5.0000e+08, 3.8000e+04,\n",
              "       6.3500e+04, 9.1000e+04, 1.0200e+05, 8.3200e+04, 2.5000e+04,\n",
              "       4.5600e+04, 4.4500e+04, 1.9000e+04, 2.5300e+04, 1.6900e+05,\n",
              "       5.8040e+04, 2.0000e+05, 1.4000e+05, 8.7000e+04, 5.8800e+04,\n",
              "       5.1000e+04, 6.2500e+04, 4.7745e+04, 3.4000e+04, 1.5000e+04,\n",
              "       9.9000e+04, 3.7500e+04, 5.9500e+04, 7.0200e+04, 5.1200e+04,\n",
              "       8.3000e+04, 4.9000e+04, 3.3800e+04])"
            ]
          },
          "metadata": {
            "tags": []
          },
          "execution_count": 56
        }
      ]
    },
    {
      "cell_type": "code",
      "metadata": {
        "id": "BknSgQeathMX",
        "colab": {
          "base_uri": "https://localhost:8080/"
        },
        "outputId": "2cde24ce-fb95-4058-bff7-db71c82f3c6c"
      },
      "source": [
        "df['AnualSalary'].dtype"
      ],
      "execution_count": 57,
      "outputs": [
        {
          "output_type": "execute_result",
          "data": {
            "text/plain": [
              "dtype('float64')"
            ]
          },
          "metadata": {
            "tags": []
          },
          "execution_count": 57
        }
      ]
    },
    {
      "cell_type": "code",
      "metadata": {
        "id": "FpzcpBpIHzJl",
        "colab": {
          "base_uri": "https://localhost:8080/",
          "height": 0
        },
        "outputId": "87db7539-e991-44e8-f801-1ea8f66e2ff5"
      },
      "source": [
        "# Xem outliers\n",
        "sns.boxplot(data=df['AnualSalary'])"
      ],
      "execution_count": 58,
      "outputs": [
        {
          "output_type": "execute_result",
          "data": {
            "text/plain": [
              "<matplotlib.axes._subplots.AxesSubplot at 0x7f1692598210>"
            ]
          },
          "metadata": {
            "tags": []
          },
          "execution_count": 58
        },
        {
          "output_type": "display_data",
          "data": {
            "image/png": "[encoded data removed]",
            "text/plain": [
              "<Figure size 432x288 with 1 Axes>"
            ]
          },
          "metadata": {
            "tags": [],
            "needs_background": "light"
          }
        }
      ]
    },
    {
      "cell_type": "code",
      "metadata": {
        "id": "FqcswW2FKba7",
        "colab": {
          "base_uri": "https://localhost:8080/",
          "height": 0
        },
        "outputId": "f40ee236-0d6a-4f74-cb38-9b314fe8de54"
      },
      "source": [
        "# Xem các outliers\n",
        "l = df[df['AnualSalary'].notna()]['AnualSalary']\n",
        "upper = bound(l)[1]\n",
        "df[df['AnualSalary'] > upper]"
      ],
      "execution_count": 59,
      "outputs": [
        {
          "output_type": "execute_result",
          "data": {
            "text/html": [
              "<div>\n",
              "<style scoped>\n",
              "    .dataframe tbody tr th:only-of-type {\n",
              "        vertical-align: middle;\n",
              "    }\n",
              "\n",
              "    .dataframe tbody tr th {\n",
              "        vertical-align: top;\n",
              "    }\n",
              "\n",
              "    .dataframe thead th {\n",
              "        text-align: right;\n",
              "    }\n",
              "</style>\n",
              "<table border=\"1\" class=\"dataframe\">\n",
              "  <thead>\n",
              "    <tr style=\"text-align: right;\">\n",
              "      <th></th>\n",
              "      <th>Age</th>\n",
              "      <th>Gender</th>\n",
              "      <th>TotYrsOfExp</th>\n",
              "      <th>MainTech</th>\n",
              "      <th>AnualSalary</th>\n",
              "    </tr>\n",
              "  </thead>\n",
              "  <tbody>\n",
              "    <tr>\n",
              "      <th>131</th>\n",
              "      <td>34.0</td>\n",
              "      <td>Male</td>\n",
              "      <td>17.0</td>\n",
              "      <td>[java]</td>\n",
              "      <td>110000.0</td>\n",
              "    </tr>\n",
              "    <tr>\n",
              "      <th>186</th>\n",
              "      <td>31.0</td>\n",
              "      <td>Male</td>\n",
              "      <td>10.0</td>\n",
              "      <td>[python]</td>\n",
              "      <td>115000.0</td>\n",
              "    </tr>\n",
              "    <tr>\n",
              "      <th>192</th>\n",
              "      <td>35.0</td>\n",
              "      <td>Male</td>\n",
              "      <td>13.0</td>\n",
              "      <td>[pegasystems_platform]</td>\n",
              "      <td>132000.0</td>\n",
              "    </tr>\n",
              "    <tr>\n",
              "      <th>255</th>\n",
              "      <td>39.0</td>\n",
              "      <td>Male</td>\n",
              "      <td>12.0</td>\n",
              "      <td>[php]</td>\n",
              "      <td>108000.0</td>\n",
              "    </tr>\n",
              "    <tr>\n",
              "      <th>272</th>\n",
              "      <td>41.0</td>\n",
              "      <td>Male</td>\n",
              "      <td>19.0</td>\n",
              "      <td>[autonomous_driving]</td>\n",
              "      <td>120000.0</td>\n",
              "    </tr>\n",
              "    <tr>\n",
              "      <th>279</th>\n",
              "      <td>39.0</td>\n",
              "      <td>Male</td>\n",
              "      <td>10.0</td>\n",
              "      <td>[no_tech]</td>\n",
              "      <td>120000.0</td>\n",
              "    </tr>\n",
              "    <tr>\n",
              "      <th>392</th>\n",
              "      <td>37.0</td>\n",
              "      <td>Male</td>\n",
              "      <td>20.0</td>\n",
              "      <td>[no_tech]</td>\n",
              "      <td>125000.0</td>\n",
              "    </tr>\n",
              "    <tr>\n",
              "      <th>490</th>\n",
              "      <td>37.0</td>\n",
              "      <td>Male</td>\n",
              "      <td>18.0</td>\n",
              "      <td>[go]</td>\n",
              "      <td>156000.0</td>\n",
              "    </tr>\n",
              "    <tr>\n",
              "      <th>493</th>\n",
              "      <td>39.0</td>\n",
              "      <td>Male</td>\n",
              "      <td>11.0</td>\n",
              "      <td>[python]</td>\n",
              "      <td>130000.0</td>\n",
              "    </tr>\n",
              "    <tr>\n",
              "      <th>527</th>\n",
              "      <td>39.0</td>\n",
              "      <td>Male</td>\n",
              "      <td>20.0</td>\n",
              "      <td>[embedded]</td>\n",
              "      <td>118000.0</td>\n",
              "    </tr>\n",
              "    <tr>\n",
              "      <th>542</th>\n",
              "      <td>40.0</td>\n",
              "      <td>Male</td>\n",
              "      <td>18.0</td>\n",
              "      <td>[java]</td>\n",
              "      <td>160000.0</td>\n",
              "    </tr>\n",
              "    <tr>\n",
              "      <th>572</th>\n",
              "      <td>33.0</td>\n",
              "      <td>Male</td>\n",
              "      <td>11.0</td>\n",
              "      <td>[scala]</td>\n",
              "      <td>110000.0</td>\n",
              "    </tr>\n",
              "    <tr>\n",
              "      <th>629</th>\n",
              "      <td>40.0</td>\n",
              "      <td>Male</td>\n",
              "      <td>20.0</td>\n",
              "      <td>[swift]</td>\n",
              "      <td>230000.0</td>\n",
              "    </tr>\n",
              "    <tr>\n",
              "      <th>657</th>\n",
              "      <td>31.0</td>\n",
              "      <td>Male</td>\n",
              "      <td>5.0</td>\n",
              "      <td>[no_tech]</td>\n",
              "      <td>760000.0</td>\n",
              "    </tr>\n",
              "    <tr>\n",
              "      <th>690</th>\n",
              "      <td>38.0</td>\n",
              "      <td>Male</td>\n",
              "      <td>20.0</td>\n",
              "      <td>[java]</td>\n",
              "      <td>130000.0</td>\n",
              "    </tr>\n",
              "    <tr>\n",
              "      <th>795</th>\n",
              "      <td>33.0</td>\n",
              "      <td>Male</td>\n",
              "      <td>10.0</td>\n",
              "      <td>[golang]</td>\n",
              "      <td>110000.0</td>\n",
              "    </tr>\n",
              "    <tr>\n",
              "      <th>832</th>\n",
              "      <td>39.0</td>\n",
              "      <td>Male</td>\n",
              "      <td>8.0</td>\n",
              "      <td>[python]</td>\n",
              "      <td>125000.0</td>\n",
              "    </tr>\n",
              "    <tr>\n",
              "      <th>836</th>\n",
              "      <td>26.0</td>\n",
              "      <td>Male</td>\n",
              "      <td>5.0</td>\n",
              "      <td>[spark]</td>\n",
              "      <td>190000.0</td>\n",
              "    </tr>\n",
              "    <tr>\n",
              "      <th>852</th>\n",
              "      <td>29.0</td>\n",
              "      <td>Female</td>\n",
              "      <td>1.0</td>\n",
              "      <td>[julia]</td>\n",
              "      <td>500000000.0</td>\n",
              "    </tr>\n",
              "    <tr>\n",
              "      <th>854</th>\n",
              "      <td>36.0</td>\n",
              "      <td>Male</td>\n",
              "      <td>15.0</td>\n",
              "      <td>[java_&amp;_php]</td>\n",
              "      <td>120000.0</td>\n",
              "    </tr>\n",
              "    <tr>\n",
              "      <th>954</th>\n",
              "      <td>54.0</td>\n",
              "      <td>Male</td>\n",
              "      <td>31.0</td>\n",
              "      <td>[network_automation]</td>\n",
              "      <td>110000.0</td>\n",
              "    </tr>\n",
              "    <tr>\n",
              "      <th>957</th>\n",
              "      <td>36.0</td>\n",
              "      <td>Male</td>\n",
              "      <td>15.0</td>\n",
              "      <td>[c++]</td>\n",
              "      <td>169000.0</td>\n",
              "    </tr>\n",
              "    <tr>\n",
              "      <th>965</th>\n",
              "      <td>35.0</td>\n",
              "      <td>Male</td>\n",
              "      <td>6.0</td>\n",
              "      <td>[java]</td>\n",
              "      <td>200000.0</td>\n",
              "    </tr>\n",
              "    <tr>\n",
              "      <th>970</th>\n",
              "      <td>29.0</td>\n",
              "      <td>Male</td>\n",
              "      <td>11.0</td>\n",
              "      <td>[typescript]</td>\n",
              "      <td>140000.0</td>\n",
              "    </tr>\n",
              "    <tr>\n",
              "      <th>1036</th>\n",
              "      <td>28.0</td>\n",
              "      <td>Male</td>\n",
              "      <td>6.0</td>\n",
              "      <td>[c++]</td>\n",
              "      <td>140000.0</td>\n",
              "    </tr>\n",
              "    <tr>\n",
              "      <th>1050</th>\n",
              "      <td>36.0</td>\n",
              "      <td>Male</td>\n",
              "      <td>16.0</td>\n",
              "      <td>[scala]</td>\n",
              "      <td>120000.0</td>\n",
              "    </tr>\n",
              "    <tr>\n",
              "      <th>1084</th>\n",
              "      <td>37.0</td>\n",
              "      <td>NaN</td>\n",
              "      <td>15.0</td>\n",
              "      <td>[c]</td>\n",
              "      <td>120000.0</td>\n",
              "    </tr>\n",
              "    <tr>\n",
              "      <th>1141</th>\n",
              "      <td>43.0</td>\n",
              "      <td>Male</td>\n",
              "      <td>18.0</td>\n",
              "      <td>[.net_core]</td>\n",
              "      <td>115000.0</td>\n",
              "    </tr>\n",
              "    <tr>\n",
              "      <th>1183</th>\n",
              "      <td>38.0</td>\n",
              "      <td>Male</td>\n",
              "      <td>6.0</td>\n",
              "      <td>[python]</td>\n",
              "      <td>110000.0</td>\n",
              "    </tr>\n",
              "    <tr>\n",
              "      <th>1220</th>\n",
              "      <td>45.0</td>\n",
              "      <td>Male</td>\n",
              "      <td>20.0</td>\n",
              "      <td>[.net_core, c++, spss, embeddded]</td>\n",
              "      <td>200000.0</td>\n",
              "    </tr>\n",
              "    <tr>\n",
              "      <th>1238</th>\n",
              "      <td>32.0</td>\n",
              "      <td>Male</td>\n",
              "      <td>10.0</td>\n",
              "      <td>[sap]</td>\n",
              "      <td>125000.0</td>\n",
              "    </tr>\n",
              "  </tbody>\n",
              "</table>\n",
              "</div>"
            ],
            "text/plain": [
              "       Age  Gender  TotYrsOfExp                           MainTech  AnualSalary\n",
              "131   34.0    Male         17.0                             [java]     110000.0\n",
              "186   31.0    Male         10.0                           [python]     115000.0\n",
              "192   35.0    Male         13.0             [pegasystems_platform]     132000.0\n",
              "255   39.0    Male         12.0                              [php]     108000.0\n",
              "272   41.0    Male         19.0               [autonomous_driving]     120000.0\n",
              "279   39.0    Male         10.0                          [no_tech]     120000.0\n",
              "392   37.0    Male         20.0                          [no_tech]     125000.0\n",
              "490   37.0    Male         18.0                               [go]     156000.0\n",
              "493   39.0    Male         11.0                           [python]     130000.0\n",
              "527   39.0    Male         20.0                         [embedded]     118000.0\n",
              "542   40.0    Male         18.0                             [java]     160000.0\n",
              "572   33.0    Male         11.0                            [scala]     110000.0\n",
              "629   40.0    Male         20.0                            [swift]     230000.0\n",
              "657   31.0    Male          5.0                          [no_tech]     760000.0\n",
              "690   38.0    Male         20.0                             [java]     130000.0\n",
              "795   33.0    Male         10.0                           [golang]     110000.0\n",
              "832   39.0    Male          8.0                           [python]     125000.0\n",
              "836   26.0    Male          5.0                            [spark]     190000.0\n",
              "852   29.0  Female          1.0                            [julia]  500000000.0\n",
              "854   36.0    Male         15.0                       [java_&_php]     120000.0\n",
              "954   54.0    Male         31.0               [network_automation]     110000.0\n",
              "957   36.0    Male         15.0                              [c++]     169000.0\n",
              "965   35.0    Male          6.0                             [java]     200000.0\n",
              "970   29.0    Male         11.0                       [typescript]     140000.0\n",
              "1036  28.0    Male          6.0                              [c++]     140000.0\n",
              "1050  36.0    Male         16.0                            [scala]     120000.0\n",
              "1084  37.0     NaN         15.0                                [c]     120000.0\n",
              "1141  43.0    Male         18.0                        [.net_core]     115000.0\n",
              "1183  38.0    Male          6.0                           [python]     110000.0\n",
              "1220  45.0    Male         20.0  [.net_core, c++, spss, embeddded]     200000.0\n",
              "1238  32.0    Male         10.0                              [sap]     125000.0"
            ]
          },
          "metadata": {
            "tags": []
          },
          "execution_count": 59
        }
      ]
    },
    {
      "cell_type": "code",
      "metadata": {
        "id": "hmGcvGVPJ6YE",
        "colab": {
          "base_uri": "https://localhost:8080/",
          "height": 0
        },
        "outputId": "2a5be99f-3e88-40de-f8c9-71169331486d"
      },
      "source": [
        "# Khám phá một tí về mức lương\n",
        "df[df['AnualSalary'] > 163500]"
      ],
      "execution_count": 60,
      "outputs": [
        {
          "output_type": "execute_result",
          "data": {
            "text/html": [
              "<div>\n",
              "<style scoped>\n",
              "    .dataframe tbody tr th:only-of-type {\n",
              "        vertical-align: middle;\n",
              "    }\n",
              "\n",
              "    .dataframe tbody tr th {\n",
              "        vertical-align: top;\n",
              "    }\n",
              "\n",
              "    .dataframe thead th {\n",
              "        text-align: right;\n",
              "    }\n",
              "</style>\n",
              "<table border=\"1\" class=\"dataframe\">\n",
              "  <thead>\n",
              "    <tr style=\"text-align: right;\">\n",
              "      <th></th>\n",
              "      <th>Age</th>\n",
              "      <th>Gender</th>\n",
              "      <th>TotYrsOfExp</th>\n",
              "      <th>MainTech</th>\n",
              "      <th>AnualSalary</th>\n",
              "    </tr>\n",
              "  </thead>\n",
              "  <tbody>\n",
              "    <tr>\n",
              "      <th>629</th>\n",
              "      <td>40.0</td>\n",
              "      <td>Male</td>\n",
              "      <td>20.0</td>\n",
              "      <td>[swift]</td>\n",
              "      <td>230000.0</td>\n",
              "    </tr>\n",
              "    <tr>\n",
              "      <th>657</th>\n",
              "      <td>31.0</td>\n",
              "      <td>Male</td>\n",
              "      <td>5.0</td>\n",
              "      <td>[no_tech]</td>\n",
              "      <td>760000.0</td>\n",
              "    </tr>\n",
              "    <tr>\n",
              "      <th>836</th>\n",
              "      <td>26.0</td>\n",
              "      <td>Male</td>\n",
              "      <td>5.0</td>\n",
              "      <td>[spark]</td>\n",
              "      <td>190000.0</td>\n",
              "    </tr>\n",
              "    <tr>\n",
              "      <th>852</th>\n",
              "      <td>29.0</td>\n",
              "      <td>Female</td>\n",
              "      <td>1.0</td>\n",
              "      <td>[julia]</td>\n",
              "      <td>500000000.0</td>\n",
              "    </tr>\n",
              "    <tr>\n",
              "      <th>957</th>\n",
              "      <td>36.0</td>\n",
              "      <td>Male</td>\n",
              "      <td>15.0</td>\n",
              "      <td>[c++]</td>\n",
              "      <td>169000.0</td>\n",
              "    </tr>\n",
              "    <tr>\n",
              "      <th>965</th>\n",
              "      <td>35.0</td>\n",
              "      <td>Male</td>\n",
              "      <td>6.0</td>\n",
              "      <td>[java]</td>\n",
              "      <td>200000.0</td>\n",
              "    </tr>\n",
              "    <tr>\n",
              "      <th>1220</th>\n",
              "      <td>45.0</td>\n",
              "      <td>Male</td>\n",
              "      <td>20.0</td>\n",
              "      <td>[.net_core, c++, spss, embeddded]</td>\n",
              "      <td>200000.0</td>\n",
              "    </tr>\n",
              "  </tbody>\n",
              "</table>\n",
              "</div>"
            ],
            "text/plain": [
              "       Age  Gender  TotYrsOfExp                           MainTech  AnualSalary\n",
              "629   40.0    Male         20.0                            [swift]     230000.0\n",
              "657   31.0    Male          5.0                          [no_tech]     760000.0\n",
              "836   26.0    Male          5.0                            [spark]     190000.0\n",
              "852   29.0  Female          1.0                            [julia]  500000000.0\n",
              "957   36.0    Male         15.0                              [c++]     169000.0\n",
              "965   35.0    Male          6.0                             [java]     200000.0\n",
              "1220  45.0    Male         20.0  [.net_core, c++, spss, embeddded]     200000.0"
            ]
          },
          "metadata": {
            "tags": []
          },
          "execution_count": 60
        }
      ]
    },
    {
      "cell_type": "code",
      "metadata": {
        "id": "236XD8HJoCCI",
        "colab": {
          "base_uri": "https://localhost:8080/"
        },
        "outputId": "8db28e40-d72b-4128-a0e4-526750d40406"
      },
      "source": [
        "# Thể các giá trị ngoài lệ phía trên bằng trung bình\n",
        "df = df[df['AnualSalary'] != df['AnualSalary'].max()]\n",
        "df['AnualSalary'].max()"
      ],
      "execution_count": 61,
      "outputs": [
        {
          "output_type": "execute_result",
          "data": {
            "text/plain": [
              "760000.0"
            ]
          },
          "metadata": {
            "tags": []
          },
          "execution_count": 61
        }
      ]
    },
    {
      "cell_type": "code",
      "metadata": {
        "id": "mc2_n2tPnfI8",
        "colab": {
          "base_uri": "https://localhost:8080/",
          "height": 0
        },
        "outputId": "7845adcc-5b94-43f2-ca26-d1b009b1c0ab"
      },
      "source": [
        "# Xem dữ liệu nan\n",
        "df[df['AnualSalary'].isna()]"
      ],
      "execution_count": 62,
      "outputs": [
        {
          "output_type": "execute_result",
          "data": {
            "text/html": [
              "<div>\n",
              "<style scoped>\n",
              "    .dataframe tbody tr th:only-of-type {\n",
              "        vertical-align: middle;\n",
              "    }\n",
              "\n",
              "    .dataframe tbody tr th {\n",
              "        vertical-align: top;\n",
              "    }\n",
              "\n",
              "    .dataframe thead th {\n",
              "        text-align: right;\n",
              "    }\n",
              "</style>\n",
              "<table border=\"1\" class=\"dataframe\">\n",
              "  <thead>\n",
              "    <tr style=\"text-align: right;\">\n",
              "      <th></th>\n",
              "      <th>Age</th>\n",
              "      <th>Gender</th>\n",
              "      <th>TotYrsOfExp</th>\n",
              "      <th>MainTech</th>\n",
              "      <th>AnualSalary</th>\n",
              "    </tr>\n",
              "  </thead>\n",
              "  <tbody>\n",
              "    <tr>\n",
              "      <th>3</th>\n",
              "      <td>28.000000</td>\n",
              "      <td>Male</td>\n",
              "      <td>4.000000</td>\n",
              "      <td>[javascript]</td>\n",
              "      <td>NaN</td>\n",
              "    </tr>\n",
              "    <tr>\n",
              "      <th>6</th>\n",
              "      <td>37.000000</td>\n",
              "      <td>Male</td>\n",
              "      <td>6.000000</td>\n",
              "      <td>[javascript]</td>\n",
              "      <td>NaN</td>\n",
              "    </tr>\n",
              "    <tr>\n",
              "      <th>12</th>\n",
              "      <td>32.752104</td>\n",
              "      <td>NaN</td>\n",
              "      <td>9.057074</td>\n",
              "      <td>[php]</td>\n",
              "      <td>NaN</td>\n",
              "    </tr>\n",
              "    <tr>\n",
              "      <th>13</th>\n",
              "      <td>34.000000</td>\n",
              "      <td>Male</td>\n",
              "      <td>14.000000</td>\n",
              "      <td>[typescript]</td>\n",
              "      <td>NaN</td>\n",
              "    </tr>\n",
              "    <tr>\n",
              "      <th>22</th>\n",
              "      <td>25.000000</td>\n",
              "      <td>Male</td>\n",
              "      <td>5.000000</td>\n",
              "      <td>[javascript]</td>\n",
              "      <td>NaN</td>\n",
              "    </tr>\n",
              "    <tr>\n",
              "      <th>...</th>\n",
              "      <td>...</td>\n",
              "      <td>...</td>\n",
              "      <td>...</td>\n",
              "      <td>...</td>\n",
              "      <td>...</td>\n",
              "    </tr>\n",
              "    <tr>\n",
              "      <th>1228</th>\n",
              "      <td>52.000000</td>\n",
              "      <td>Male</td>\n",
              "      <td>9.057074</td>\n",
              "      <td>[atlassian_jira]</td>\n",
              "      <td>NaN</td>\n",
              "    </tr>\n",
              "    <tr>\n",
              "      <th>1230</th>\n",
              "      <td>26.000000</td>\n",
              "      <td>Male</td>\n",
              "      <td>5.000000</td>\n",
              "      <td>[python]</td>\n",
              "      <td>NaN</td>\n",
              "    </tr>\n",
              "    <tr>\n",
              "      <th>1231</th>\n",
              "      <td>26.000000</td>\n",
              "      <td>Male</td>\n",
              "      <td>5.000000</td>\n",
              "      <td>[python]</td>\n",
              "      <td>NaN</td>\n",
              "    </tr>\n",
              "    <tr>\n",
              "      <th>1234</th>\n",
              "      <td>27.000000</td>\n",
              "      <td>Male</td>\n",
              "      <td>3.000000</td>\n",
              "      <td>[qlik]</td>\n",
              "      <td>NaN</td>\n",
              "    </tr>\n",
              "    <tr>\n",
              "      <th>1239</th>\n",
              "      <td>32.000000</td>\n",
              "      <td>Female</td>\n",
              "      <td>8.000000</td>\n",
              "      <td>[java]</td>\n",
              "      <td>NaN</td>\n",
              "    </tr>\n",
              "  </tbody>\n",
              "</table>\n",
              "<p>364 rows × 5 columns</p>\n",
              "</div>"
            ],
            "text/plain": [
              "            Age  Gender  TotYrsOfExp          MainTech  AnualSalary\n",
              "3     28.000000    Male     4.000000      [javascript]          NaN\n",
              "6     37.000000    Male     6.000000      [javascript]          NaN\n",
              "12    32.752104     NaN     9.057074             [php]          NaN\n",
              "13    34.000000    Male    14.000000      [typescript]          NaN\n",
              "22    25.000000    Male     5.000000      [javascript]          NaN\n",
              "...         ...     ...          ...               ...          ...\n",
              "1228  52.000000    Male     9.057074  [atlassian_jira]          NaN\n",
              "1230  26.000000    Male     5.000000          [python]          NaN\n",
              "1231  26.000000    Male     5.000000          [python]          NaN\n",
              "1234  27.000000    Male     3.000000            [qlik]          NaN\n",
              "1239  32.000000  Female     8.000000            [java]          NaN\n",
              "\n",
              "[364 rows x 5 columns]"
            ]
          },
          "metadata": {
            "tags": []
          },
          "execution_count": 62
        }
      ]
    },
    {
      "cell_type": "code",
      "metadata": {
        "id": "YjX9PFttnkOf"
      },
      "source": [
        "# Điền nan bằng trung bình\n",
        "mean = df['AnualSalary'].mean()\n",
        "df['AnualSalary'].fillna(mean, inplace=True)"
      ],
      "execution_count": 63,
      "outputs": []
    },
    {
      "cell_type": "code",
      "metadata": {
        "id": "vG9muv4uuS73",
        "colab": {
          "base_uri": "https://localhost:8080/",
          "height": 0
        },
        "outputId": "7183bedc-00cd-4645-ec6d-e9bee018eead"
      },
      "source": [
        "df[df['AnualSalary'].isna()]"
      ],
      "execution_count": 64,
      "outputs": [
        {
          "output_type": "execute_result",
          "data": {
            "text/html": [
              "<div>\n",
              "<style scoped>\n",
              "    .dataframe tbody tr th:only-of-type {\n",
              "        vertical-align: middle;\n",
              "    }\n",
              "\n",
              "    .dataframe tbody tr th {\n",
              "        vertical-align: top;\n",
              "    }\n",
              "\n",
              "    .dataframe thead th {\n",
              "        text-align: right;\n",
              "    }\n",
              "</style>\n",
              "<table border=\"1\" class=\"dataframe\">\n",
              "  <thead>\n",
              "    <tr style=\"text-align: right;\">\n",
              "      <th></th>\n",
              "      <th>Age</th>\n",
              "      <th>Gender</th>\n",
              "      <th>TotYrsOfExp</th>\n",
              "      <th>MainTech</th>\n",
              "      <th>AnualSalary</th>\n",
              "    </tr>\n",
              "  </thead>\n",
              "  <tbody>\n",
              "  </tbody>\n",
              "</table>\n",
              "</div>"
            ],
            "text/plain": [
              "Empty DataFrame\n",
              "Columns: [Age, Gender, TotYrsOfExp, MainTech, AnualSalary]\n",
              "Index: []"
            ]
          },
          "metadata": {
            "tags": []
          },
          "execution_count": 64
        }
      ]
    },
    {
      "cell_type": "code",
      "metadata": {
        "id": "H1SfVjm6lK6v",
        "colab": {
          "base_uri": "https://localhost:8080/",
          "height": 0
        },
        "outputId": "033f9bab-8e46-45b1-cc64-31371bc84f9c"
      },
      "source": [
        "sns.boxplot(data=df['AnualSalary'])"
      ],
      "execution_count": 65,
      "outputs": [
        {
          "output_type": "execute_result",
          "data": {
            "text/plain": [
              "<matplotlib.axes._subplots.AxesSubplot at 0x7f16924bf650>"
            ]
          },
          "metadata": {
            "tags": []
          },
          "execution_count": 65
        },
        {
          "output_type": "display_data",
          "data": {
            "image/png": "[encoded data removed]",
            "text/plain": [
              "<Figure size 432x288 with 1 Axes>"
            ]
          },
          "metadata": {
            "tags": [],
            "needs_background": "light"
          }
        }
      ]
    },
    {
      "cell_type": "code",
      "metadata": {
        "id": "jURDdjX0Wjir",
        "colab": {
          "base_uri": "https://localhost:8080/",
          "height": 0
        },
        "outputId": "9720c8a2-4b1d-4416-a15c-a4feaa15df9a"
      },
      "source": [
        "df = df[df['AnualSalary'] != df['AnualSalary'].max()]\n",
        "sns.boxplot(df['AnualSalary'])"
      ],
      "execution_count": 66,
      "outputs": [
        {
          "output_type": "stream",
          "text": [
            "/usr/local/lib/python3.7/dist-packages/seaborn/_decorators.py:43: FutureWarning: Pass the following variable as a keyword arg: x. From version 0.12, the only valid positional argument will be `data`, and passing other arguments without an explicit keyword will result in an error or misinterpretation.\n",
            "  FutureWarning\n"
          ],
          "name": "stderr"
        },
        {
          "output_type": "execute_result",
          "data": {
            "text/plain": [
              "<matplotlib.axes._subplots.AxesSubplot at 0x7f16924afd90>"
            ]
          },
          "metadata": {
            "tags": []
          },
          "execution_count": 66
        },
        {
          "output_type": "display_data",
          "data": {
            "image/png": "[encoded data removed]",
            "text/plain": [
              "<Figure size 432x288 with 1 Axes>"
            ]
          },
          "metadata": {
            "tags": [],
            "needs_background": "light"
          }
        }
      ]
    },
    {
      "cell_type": "markdown",
      "metadata": {
        "id": "bBqz2-kmET0g"
      },
      "source": [
        "Ngoài các cách xử lý trên còn có : forward fill, back fill dùng cho timeseries data. --> [Document](https://www.oreilly.com/library/view/learning-pandas/9781787123137/82b10237-8e03-414f-a9aa-b52316f78976.xhtml)"
      ]
    },
    {
      "cell_type": "markdown",
      "metadata": {
        "id": "hhZOW3z2nSkJ"
      },
      "source": [
        "##Binning\n",
        "Tạo thêm data phục vụ cho việc phân tích dữ liệu.\n",
        "\n",
        "**Bạn có thể tham khảo thêm: -->** [Doc](https://towardsdatascience.com/data-preprocessing-with-python-pandas-part-5-binning-c5bd5fd1b950)"
      ]
    },
    {
      "cell_type": "markdown",
      "metadata": {
        "id": "8TEdgoL0AlGG"
      },
      "source": [
        "Binning và explore cho column Age"
      ]
    },
    {
      "cell_type": "code",
      "metadata": {
        "id": "zmbxNmdMtLF1",
        "colab": {
          "base_uri": "https://localhost:8080/"
        },
        "outputId": "99c5e7c5-71b4-4e4d-e7dc-f5cd7a87a25a"
      },
      "source": [
        "# #Tạo nhãn và khoảng bins\n",
        "labels_age = ['Nguoi tre', 'Trung nien', 'Gia']\n",
        "bins_age = [0, 30, 45, 70]\n",
        "\n",
        "# #Tạo column bins\n",
        "df['Age_bins'] = pd.cut(df['Age'], bins=bins_age, labels=labels_age)\n",
        "df['Age_bins']"
      ],
      "execution_count": 67,
      "outputs": [
        {
          "output_type": "execute_result",
          "data": {
            "text/plain": [
              "0        Nguoi tre\n",
              "1        Nguoi tre\n",
              "2        Nguoi tre\n",
              "3        Nguoi tre\n",
              "4       Trung nien\n",
              "           ...    \n",
              "1244    Trung nien\n",
              "1245    Trung nien\n",
              "1246    Trung nien\n",
              "1247     Nguoi tre\n",
              "1248     Nguoi tre\n",
              "Name: Age_bins, Length: 1247, dtype: category\n",
              "Categories (3, object): ['Nguoi tre' < 'Trung nien' < 'Gia']"
            ]
          },
          "metadata": {
            "tags": []
          },
          "execution_count": 67
        }
      ]
    },
    {
      "cell_type": "code",
      "metadata": {
        "id": "31UGkNpMASvC",
        "colab": {
          "base_uri": "https://localhost:8080/",
          "height": 466
        },
        "outputId": "aad5eefc-537e-403c-bf91-26a71d3dd776"
      },
      "source": [
        "# # Khám phá thông tin\n",
        "stat = df[['Age_bins']].value_counts()[:]\n",
        "explode = (0, 0.1, 0.24)\n",
        "\n",
        "plt.figure(figsize=(10, 8))\n",
        "plt.pie(stat, explode=explode, labels=labels_age, autopct='%1.1f%%', shadow=True)\n",
        "plt.legend()\n",
        "plt.show()"
      ],
      "execution_count": 68,
      "outputs": [
        {
          "output_type": "display_data",
          "data": {
            "image/png": "[encoded data removed]",
            "text/plain": [
              "<Figure size 720x576 with 1 Axes>"
            ]
          },
          "metadata": {
            "tags": []
          }
        }
      ]
    },
    {
      "cell_type": "markdown",
      "metadata": {
        "id": "4F57lFAZAqSJ"
      },
      "source": [
        "Binning và explore cho column AnualSalary"
      ]
    },
    {
      "cell_type": "code",
      "metadata": {
        "id": "skHQBRGkA6JV",
        "colab": {
          "base_uri": "https://localhost:8080/"
        },
        "outputId": "d8b7b102-3e75-4612-a95b-dca419b03bc4"
      },
      "source": [
        "#Tạo khoảng và nhãn bins\n",
        "labels_salary = ['0 - 20.000', '20.000 - 40.000', '40.000 - 80.000', '80.000 ++']\n",
        "range_salary = [0, 20000, 40000, 80000, df['AnualSalary'].max()]\n",
        "\n",
        "#Tạo columns bins\n",
        "df['Salary_bins'] = pd.cut(df['AnualSalary'], bins=range_salary, labels=labels_salary)\n",
        "df['Salary_bins']"
      ],
      "execution_count": 69,
      "outputs": [
        {
          "output_type": "execute_result",
          "data": {
            "text/plain": [
              "0       40.000 - 80.000\n",
              "1             80.000 ++\n",
              "2             80.000 ++\n",
              "3       40.000 - 80.000\n",
              "4       40.000 - 80.000\n",
              "             ...       \n",
              "1244    40.000 - 80.000\n",
              "1245    40.000 - 80.000\n",
              "1246          80.000 ++\n",
              "1247    20.000 - 40.000\n",
              "1248    20.000 - 40.000\n",
              "Name: Salary_bins, Length: 1247, dtype: category\n",
              "Categories (4, object): ['0 - 20.000' < '20.000 - 40.000' < '40.000 - 80.000' < '80.000 ++']"
            ]
          },
          "metadata": {
            "tags": []
          },
          "execution_count": 69
        }
      ]
    },
    {
      "cell_type": "code",
      "metadata": {
        "id": "JlqagzkHCMO4",
        "colab": {
          "base_uri": "https://localhost:8080/",
          "height": 466
        },
        "outputId": "4740fa20-a51a-42f6-df0b-f789395b6884"
      },
      "source": [
        "# #Khám phá thông tin\n",
        "stat = df[['Salary_bins']].value_counts()[:]\n",
        "explode = (0.05, 0.05, 0, 0.05)\n",
        "\n",
        "plt.figure(figsize=(10, 8))\n",
        "plt.pie(stat, explode=explode, labels=labels_salary, autopct='%1.1f%%', shadow=True)\n",
        "plt.legend()\n",
        "plt.show()"
      ],
      "execution_count": 70,
      "outputs": [
        {
          "output_type": "display_data",
          "data": {
            "image/png": "[encoded data removed]",
            "text/plain": [
              "<Figure size 720x576 with 1 Axes>"
            ]
          },
          "metadata": {
            "tags": []
          }
        }
      ]
    },
    {
      "cell_type": "code",
      "metadata": {
        "id": "tOi1gVnbFGa6",
        "colab": {
          "base_uri": "https://localhost:8080/"
        },
        "outputId": "86e9102b-5ce2-415b-820c-8093decd6c7d"
      },
      "source": [
        "#Tạo khoảng và nhãn bins\n",
        "labels_exp = ['Gà Mờ', 'Gà Gà', 'Gà Trống', 'Gà Đầu Đàn', 'Gà Già Đầu']\n",
        "range_exp = [0, 3, 7, 15, 30, df['TotYrsOfExp'].max()]\n",
        "\n",
        "#Tạo columns bins\n",
        "df['exp_bins'] = pd.cut(df['TotYrsOfExp'], bins=range_exp, labels=labels_exp)\n",
        "df['exp_bins']"
      ],
      "execution_count": 71,
      "outputs": [
        {
          "output_type": "execute_result",
          "data": {
            "text/plain": [
              "0            Gà Gà\n",
              "1            Gà Gà\n",
              "2         Gà Trống\n",
              "3            Gà Gà\n",
              "4       Gà Đầu Đàn\n",
              "           ...    \n",
              "1244      Gà Trống\n",
              "1245      Gà Trống\n",
              "1246      Gà Trống\n",
              "1247         Gà Gà\n",
              "1248         Gà Mờ\n",
              "Name: exp_bins, Length: 1247, dtype: category\n",
              "Categories (5, object): ['Gà Mờ' < 'Gà Gà' < 'Gà Trống' < 'Gà Đầu Đàn' < 'Gà Già Đầu']"
            ]
          },
          "metadata": {
            "tags": []
          },
          "execution_count": 71
        }
      ]
    },
    {
      "cell_type": "code",
      "metadata": {
        "id": "MaCXZtBmGKEW",
        "colab": {
          "base_uri": "https://localhost:8080/",
          "height": 466
        },
        "outputId": "63e56cf7-5958-4b3f-e041-32724b2f1b9b"
      },
      "source": [
        "#Khám phá thông tin\n",
        "stat = df[['exp_bins']].value_counts()[:]\n",
        "explode = (0.05, 0.02, 0, 0.02, 0.02)\n",
        "\n",
        "plt.figure(figsize=(10, 8))\n",
        "plt.pie(stat, explode=explode, labels=labels_exp, autopct='%1.1f%%', shadow=True)\n",
        "plt.legend()\n",
        "plt.show()"
      ],
      "execution_count": 72,
      "outputs": [
        {
          "output_type": "display_data",
          "data": {
            "image/png": "[encoded data removed]",
            "text/plain": [
              "<Figure size 720x576 with 1 Axes>"
            ]
          },
          "metadata": {
            "tags": []
          }
        }
      ]
    },
    {
      "cell_type": "code",
      "metadata": {
        "id": "JX3xR2YVLp0b",
        "colab": {
          "base_uri": "https://localhost:8080/",
          "height": 419
        },
        "outputId": "a1495cc5-501d-48cf-ab8d-8cddd0e901f8"
      },
      "source": [
        "# Drop những cột tạo từ bước Binning\n",
        "df = df.drop(columns=['exp_bins', 'Salary_bins', 'Age_bins'])\n",
        "df"
      ],
      "execution_count": 73,
      "outputs": [
        {
          "output_type": "execute_result",
          "data": {
            "text/html": [
              "<div>\n",
              "<style scoped>\n",
              "    .dataframe tbody tr th:only-of-type {\n",
              "        vertical-align: middle;\n",
              "    }\n",
              "\n",
              "    .dataframe tbody tr th {\n",
              "        vertical-align: top;\n",
              "    }\n",
              "\n",
              "    .dataframe thead th {\n",
              "        text-align: right;\n",
              "    }\n",
              "</style>\n",
              "<table border=\"1\" class=\"dataframe\">\n",
              "  <thead>\n",
              "    <tr style=\"text-align: right;\">\n",
              "      <th></th>\n",
              "      <th>Age</th>\n",
              "      <th>Gender</th>\n",
              "      <th>TotYrsOfExp</th>\n",
              "      <th>MainTech</th>\n",
              "      <th>AnualSalary</th>\n",
              "    </tr>\n",
              "  </thead>\n",
              "  <tbody>\n",
              "    <tr>\n",
              "      <th>0</th>\n",
              "      <td>26.0</td>\n",
              "      <td>Male</td>\n",
              "      <td>5.0</td>\n",
              "      <td>[typescript]</td>\n",
              "      <td>75000.000000</td>\n",
              "    </tr>\n",
              "    <tr>\n",
              "      <th>1</th>\n",
              "      <td>26.0</td>\n",
              "      <td>Male</td>\n",
              "      <td>7.0</td>\n",
              "      <td>[ruby]</td>\n",
              "      <td>82000.000000</td>\n",
              "    </tr>\n",
              "    <tr>\n",
              "      <th>2</th>\n",
              "      <td>29.0</td>\n",
              "      <td>Male</td>\n",
              "      <td>12.0</td>\n",
              "      <td>[javascript, typescript]</td>\n",
              "      <td>100000.000000</td>\n",
              "    </tr>\n",
              "    <tr>\n",
              "      <th>3</th>\n",
              "      <td>28.0</td>\n",
              "      <td>Male</td>\n",
              "      <td>4.0</td>\n",
              "      <td>[javascript]</td>\n",
              "      <td>67350.222851</td>\n",
              "    </tr>\n",
              "    <tr>\n",
              "      <th>4</th>\n",
              "      <td>37.0</td>\n",
              "      <td>Male</td>\n",
              "      <td>17.0</td>\n",
              "      <td>[c#, .net_core]</td>\n",
              "      <td>62000.000000</td>\n",
              "    </tr>\n",
              "    <tr>\n",
              "      <th>...</th>\n",
              "      <td>...</td>\n",
              "      <td>...</td>\n",
              "      <td>...</td>\n",
              "      <td>...</td>\n",
              "      <td>...</td>\n",
              "    </tr>\n",
              "    <tr>\n",
              "      <th>1244</th>\n",
              "      <td>31.0</td>\n",
              "      <td>Male</td>\n",
              "      <td>9.0</td>\n",
              "      <td>[java]</td>\n",
              "      <td>70000.000000</td>\n",
              "    </tr>\n",
              "    <tr>\n",
              "      <th>1245</th>\n",
              "      <td>33.0</td>\n",
              "      <td>Male</td>\n",
              "      <td>10.0</td>\n",
              "      <td>[consumer_analysis]</td>\n",
              "      <td>48000.000000</td>\n",
              "    </tr>\n",
              "    <tr>\n",
              "      <th>1246</th>\n",
              "      <td>39.0</td>\n",
              "      <td>Male</td>\n",
              "      <td>15.0</td>\n",
              "      <td>[php]</td>\n",
              "      <td>90000.000000</td>\n",
              "    </tr>\n",
              "    <tr>\n",
              "      <th>1247</th>\n",
              "      <td>26.0</td>\n",
              "      <td>Male</td>\n",
              "      <td>7.0</td>\n",
              "      <td>[javascript]</td>\n",
              "      <td>33800.000000</td>\n",
              "    </tr>\n",
              "    <tr>\n",
              "      <th>1248</th>\n",
              "      <td>26.0</td>\n",
              "      <td>Male</td>\n",
              "      <td>2.0</td>\n",
              "      <td>[yaml]</td>\n",
              "      <td>40000.000000</td>\n",
              "    </tr>\n",
              "  </tbody>\n",
              "</table>\n",
              "<p>1247 rows × 5 columns</p>\n",
              "</div>"
            ],
            "text/plain": [
              "       Age Gender  TotYrsOfExp                  MainTech    AnualSalary\n",
              "0     26.0   Male          5.0              [typescript]   75000.000000\n",
              "1     26.0   Male          7.0                    [ruby]   82000.000000\n",
              "2     29.0   Male         12.0  [javascript, typescript]  100000.000000\n",
              "3     28.0   Male          4.0              [javascript]   67350.222851\n",
              "4     37.0   Male         17.0           [c#, .net_core]   62000.000000\n",
              "...    ...    ...          ...                       ...            ...\n",
              "1244  31.0   Male          9.0                    [java]   70000.000000\n",
              "1245  33.0   Male         10.0       [consumer_analysis]   48000.000000\n",
              "1246  39.0   Male         15.0                     [php]   90000.000000\n",
              "1247  26.0   Male          7.0              [javascript]   33800.000000\n",
              "1248  26.0   Male          2.0                    [yaml]   40000.000000\n",
              "\n",
              "[1247 rows x 5 columns]"
            ]
          },
          "metadata": {
            "tags": []
          },
          "execution_count": 73
        }
      ]
    },
    {
      "cell_type": "markdown",
      "metadata": {
        "id": "zVmfUwYjxQjl"
      },
      "source": [
        "##Data Normalization\n",
        "Chuẩn hóa dữ liệu làm cho các thuộc tính có cùng một đơn vị. Việc này giúp cho các thuộc tính có cùng một trọng số khi đưa vào mô hình. Để làm feature input cho một thuật toán thì nên áp dụng cùng một phương pháp normalization cho tất cả các feature. "
      ]
    },
    {
      "cell_type": "code",
      "metadata": {
        "id": "oeF1z_t248t4",
        "colab": {
          "base_uri": "https://localhost:8080/",
          "height": 0
        },
        "outputId": "f486642e-da6f-4c91-a439-fa09c5027a01"
      },
      "source": [
        "# Normalization column định lượng: (Simple feature scaling)\n",
        "df['Age'] = df['Age']/df['Age'].max()\n",
        "df['TotYrsOfExp'] = df['TotYrsOfExp']/df['TotYrsOfExp'].max()\n",
        "df['AnualSalary'] = df['AnualSalary']/df['AnualSalary'].max()\n",
        "df[['Age', 'TotYrsOfExp', 'AnualSalary']]"
      ],
      "execution_count": 74,
      "outputs": [
        {
          "output_type": "execute_result",
          "data": {
            "text/html": [
              "<div>\n",
              "<style scoped>\n",
              "    .dataframe tbody tr th:only-of-type {\n",
              "        vertical-align: middle;\n",
              "    }\n",
              "\n",
              "    .dataframe tbody tr th {\n",
              "        vertical-align: top;\n",
              "    }\n",
              "\n",
              "    .dataframe thead th {\n",
              "        text-align: right;\n",
              "    }\n",
              "</style>\n",
              "<table border=\"1\" class=\"dataframe\">\n",
              "  <thead>\n",
              "    <tr style=\"text-align: right;\">\n",
              "      <th></th>\n",
              "      <th>Age</th>\n",
              "      <th>TotYrsOfExp</th>\n",
              "      <th>AnualSalary</th>\n",
              "    </tr>\n",
              "  </thead>\n",
              "  <tbody>\n",
              "    <tr>\n",
              "      <th>0</th>\n",
              "      <td>0.376812</td>\n",
              "      <td>0.125</td>\n",
              "      <td>0.326087</td>\n",
              "    </tr>\n",
              "    <tr>\n",
              "      <th>1</th>\n",
              "      <td>0.376812</td>\n",
              "      <td>0.175</td>\n",
              "      <td>0.356522</td>\n",
              "    </tr>\n",
              "    <tr>\n",
              "      <th>2</th>\n",
              "      <td>0.420290</td>\n",
              "      <td>0.300</td>\n",
              "      <td>0.434783</td>\n",
              "    </tr>\n",
              "    <tr>\n",
              "      <th>3</th>\n",
              "      <td>0.405797</td>\n",
              "      <td>0.100</td>\n",
              "      <td>0.292827</td>\n",
              "    </tr>\n",
              "    <tr>\n",
              "      <th>4</th>\n",
              "      <td>0.536232</td>\n",
              "      <td>0.425</td>\n",
              "      <td>0.269565</td>\n",
              "    </tr>\n",
              "    <tr>\n",
              "      <th>...</th>\n",
              "      <td>...</td>\n",
              "      <td>...</td>\n",
              "      <td>...</td>\n",
              "    </tr>\n",
              "    <tr>\n",
              "      <th>1244</th>\n",
              "      <td>0.449275</td>\n",
              "      <td>0.225</td>\n",
              "      <td>0.304348</td>\n",
              "    </tr>\n",
              "    <tr>\n",
              "      <th>1245</th>\n",
              "      <td>0.478261</td>\n",
              "      <td>0.250</td>\n",
              "      <td>0.208696</td>\n",
              "    </tr>\n",
              "    <tr>\n",
              "      <th>1246</th>\n",
              "      <td>0.565217</td>\n",
              "      <td>0.375</td>\n",
              "      <td>0.391304</td>\n",
              "    </tr>\n",
              "    <tr>\n",
              "      <th>1247</th>\n",
              "      <td>0.376812</td>\n",
              "      <td>0.175</td>\n",
              "      <td>0.146957</td>\n",
              "    </tr>\n",
              "    <tr>\n",
              "      <th>1248</th>\n",
              "      <td>0.376812</td>\n",
              "      <td>0.050</td>\n",
              "      <td>0.173913</td>\n",
              "    </tr>\n",
              "  </tbody>\n",
              "</table>\n",
              "<p>1247 rows × 3 columns</p>\n",
              "</div>"
            ],
            "text/plain": [
              "           Age  TotYrsOfExp  AnualSalary\n",
              "0     0.376812        0.125     0.326087\n",
              "1     0.376812        0.175     0.356522\n",
              "2     0.420290        0.300     0.434783\n",
              "3     0.405797        0.100     0.292827\n",
              "4     0.536232        0.425     0.269565\n",
              "...        ...          ...          ...\n",
              "1244  0.449275        0.225     0.304348\n",
              "1245  0.478261        0.250     0.208696\n",
              "1246  0.565217        0.375     0.391304\n",
              "1247  0.376812        0.175     0.146957\n",
              "1248  0.376812        0.050     0.173913\n",
              "\n",
              "[1247 rows x 3 columns]"
            ]
          },
          "metadata": {
            "tags": []
          },
          "execution_count": 74
        }
      ]
    },
    {
      "cell_type": "markdown",
      "metadata": {
        "id": "hwBe7HO_CBTb"
      },
      "source": [
        "**Bạn có thể tham khảo thêm các cách khác ở đây: -->** [Document](https://www.geeksforgeeks.org/data-normalization-with-pandas/)"
      ]
    },
    {
      "cell_type": "markdown",
      "metadata": {
        "id": "SemLz2INmfQO"
      },
      "source": [
        "##Label encoder\n",
        "Bước này chuyển dữ liệu định tính --> dữ liệu dạng số để model có thể học được."
      ]
    },
    {
      "cell_type": "markdown",
      "metadata": {
        "id": "kcilaPZDs16R"
      },
      "source": [
        "####Label encode column Gender\n",
        "**Chuyển Male --> 1, Female --> 0, Diverser --> 2. Đây là phương pháp label encode.** \n"
      ]
    },
    {
      "cell_type": "code",
      "metadata": {
        "id": "StfEEgkBo7he"
      },
      "source": [
        "def encode(datum):\n",
        "  if (datum == 'Male') | (not isinstance(datum, str) and math.isnan(datum)) | (datum == 'nan'):\n",
        "    return 1\n",
        "  if (datum == 'Diverse'):\n",
        "    return 2\n",
        "  return 0"
      ],
      "execution_count": 75,
      "outputs": []
    },
    {
      "cell_type": "code",
      "metadata": {
        "id": "zuynOY6_n5i8",
        "colab": {
          "base_uri": "https://localhost:8080/"
        },
        "outputId": "e0f2a454-ef2c-452e-d3f8-048038d2f00a"
      },
      "source": [
        "# Apply trên các giá trị cột\n",
        "df['Gender'] = df['Gender'].apply(encode)\n",
        "\n",
        "# Kiểm tra lại\n",
        "df['Gender'].unique()"
      ],
      "execution_count": 76,
      "outputs": [
        {
          "output_type": "execute_result",
          "data": {
            "text/plain": [
              "array([1, 0, 2])"
            ]
          },
          "metadata": {
            "tags": []
          },
          "execution_count": 76
        }
      ]
    },
    {
      "cell_type": "markdown",
      "metadata": {
        "id": "JatUYr-Is9lT"
      },
      "source": [
        "####One-hot encode column MainTech\n",
        "Tạo các cột với tên là công nghệ được sử dụng. Nếu một ngừoi có sử dụng thì mang giá trị 1 và ngược lại là 0. Đây là phương pháp One-hot encode bạn có thể search gg để hiểu thêm."
      ]
    },
    {
      "cell_type": "code",
      "metadata": {
        "id": "Tr1w-RRNwWs0",
        "colab": {
          "base_uri": "https://localhost:8080/"
        },
        "outputId": "41b13061-6f8c-4dd8-85ec-d92eb48af6fa"
      },
      "source": [
        "df['MainTech']"
      ],
      "execution_count": 77,
      "outputs": [
        {
          "output_type": "execute_result",
          "data": {
            "text/plain": [
              "0                   [typescript]\n",
              "1                         [ruby]\n",
              "2       [javascript, typescript]\n",
              "3                   [javascript]\n",
              "4                [c#, .net_core]\n",
              "                  ...           \n",
              "1244                      [java]\n",
              "1245         [consumer_analysis]\n",
              "1246                       [php]\n",
              "1247                [javascript]\n",
              "1248                      [yaml]\n",
              "Name: MainTech, Length: 1247, dtype: object"
            ]
          },
          "metadata": {
            "tags": []
          },
          "execution_count": 77
        }
      ]
    },
    {
      "cell_type": "code",
      "metadata": {
        "id": "UKK6KKc-tD9S",
        "colab": {
          "base_uri": "https://localhost:8080/",
          "height": 0
        },
        "outputId": "7db9e968-e20d-41d4-9b9e-102481d89408"
      },
      "source": [
        "threshold = 7\n",
        "list_tech = list()\n",
        "for i in df['MainTech']:\n",
        "    for j in i:\n",
        "        if j: # tránh những trường hợp ''\n",
        "            list_tech.append(j)\n",
        "\n",
        "counter = pd.DataFrame(Counter(list_tech).items(), columns=['name', 'count']).sort_values(by='count', ascending=False)\n",
        "counter"
      ],
      "execution_count": 78,
      "outputs": [
        {
          "output_type": "execute_result",
          "data": {
            "text/html": [
              "<div>\n",
              "<style scoped>\n",
              "    .dataframe tbody tr th:only-of-type {\n",
              "        vertical-align: middle;\n",
              "    }\n",
              "\n",
              "    .dataframe tbody tr th {\n",
              "        vertical-align: top;\n",
              "    }\n",
              "\n",
              "    .dataframe thead th {\n",
              "        text-align: right;\n",
              "    }\n",
              "</style>\n",
              "<table border=\"1\" class=\"dataframe\">\n",
              "  <thead>\n",
              "    <tr style=\"text-align: right;\">\n",
              "      <th></th>\n",
              "      <th>name</th>\n",
              "      <th>count</th>\n",
              "    </tr>\n",
              "  </thead>\n",
              "  <tbody>\n",
              "    <tr>\n",
              "      <th>7</th>\n",
              "      <td>python</td>\n",
              "      <td>232</td>\n",
              "    </tr>\n",
              "    <tr>\n",
              "      <th>10</th>\n",
              "      <td>java</td>\n",
              "      <td>213</td>\n",
              "    </tr>\n",
              "    <tr>\n",
              "      <th>2</th>\n",
              "      <td>javascript</td>\n",
              "      <td>136</td>\n",
              "    </tr>\n",
              "    <tr>\n",
              "      <th>14</th>\n",
              "      <td>no_tech</td>\n",
              "      <td>126</td>\n",
              "    </tr>\n",
              "    <tr>\n",
              "      <th>9</th>\n",
              "      <td>php</td>\n",
              "      <td>75</td>\n",
              "    </tr>\n",
              "    <tr>\n",
              "      <th>...</th>\n",
              "      <td>...</td>\n",
              "      <td>...</td>\n",
              "    </tr>\n",
              "    <tr>\n",
              "      <th>77</th>\n",
              "      <td>web_apps</td>\n",
              "      <td>1</td>\n",
              "    </tr>\n",
              "    <tr>\n",
              "      <th>76</th>\n",
              "      <td>python_+_sql</td>\n",
              "      <td>1</td>\n",
              "    </tr>\n",
              "    <tr>\n",
              "      <th>73</th>\n",
              "      <td>several</td>\n",
              "      <td>1</td>\n",
              "    </tr>\n",
              "    <tr>\n",
              "      <th>72</th>\n",
              "      <td>linux_kernel</td>\n",
              "      <td>1</td>\n",
              "    </tr>\n",
              "    <tr>\n",
              "      <th>155</th>\n",
              "      <td>consumer_analysis</td>\n",
              "      <td>1</td>\n",
              "    </tr>\n",
              "  </tbody>\n",
              "</table>\n",
              "<p>156 rows × 2 columns</p>\n",
              "</div>"
            ],
            "text/plain": [
              "                  name  count\n",
              "7               python    232\n",
              "10                java    213\n",
              "2           javascript    136\n",
              "14             no_tech    126\n",
              "9                  php     75\n",
              "..                 ...    ...\n",
              "77            web_apps      1\n",
              "76        python_+_sql      1\n",
              "73             several      1\n",
              "72        linux_kernel      1\n",
              "155  consumer_analysis      1\n",
              "\n",
              "[156 rows x 2 columns]"
            ]
          },
          "metadata": {
            "tags": []
          },
          "execution_count": 78
        }
      ]
    },
    {
      "cell_type": "code",
      "metadata": {
        "id": "2aULlJhfSfrh",
        "colab": {
          "base_uri": "https://localhost:8080/",
          "height": 0
        },
        "outputId": "7afc16de-ba0b-4d95-82b7-ffb8b17cb52f"
      },
      "source": [
        "counter[counter['count'] >= threshold] "
      ],
      "execution_count": 79,
      "outputs": [
        {
          "output_type": "execute_result",
          "data": {
            "text/html": [
              "<div>\n",
              "<style scoped>\n",
              "    .dataframe tbody tr th:only-of-type {\n",
              "        vertical-align: middle;\n",
              "    }\n",
              "\n",
              "    .dataframe tbody tr th {\n",
              "        vertical-align: top;\n",
              "    }\n",
              "\n",
              "    .dataframe thead th {\n",
              "        text-align: right;\n",
              "    }\n",
              "</style>\n",
              "<table border=\"1\" class=\"dataframe\">\n",
              "  <thead>\n",
              "    <tr style=\"text-align: right;\">\n",
              "      <th></th>\n",
              "      <th>name</th>\n",
              "      <th>count</th>\n",
              "    </tr>\n",
              "  </thead>\n",
              "  <tbody>\n",
              "    <tr>\n",
              "      <th>7</th>\n",
              "      <td>python</td>\n",
              "      <td>232</td>\n",
              "    </tr>\n",
              "    <tr>\n",
              "      <th>10</th>\n",
              "      <td>java</td>\n",
              "      <td>213</td>\n",
              "    </tr>\n",
              "    <tr>\n",
              "      <th>2</th>\n",
              "      <td>javascript</td>\n",
              "      <td>136</td>\n",
              "    </tr>\n",
              "    <tr>\n",
              "      <th>14</th>\n",
              "      <td>no_tech</td>\n",
              "      <td>126</td>\n",
              "    </tr>\n",
              "    <tr>\n",
              "      <th>9</th>\n",
              "      <td>php</td>\n",
              "      <td>75</td>\n",
              "    </tr>\n",
              "    <tr>\n",
              "      <th>0</th>\n",
              "      <td>typescript</td>\n",
              "      <td>54</td>\n",
              "    </tr>\n",
              "    <tr>\n",
              "      <th>13</th>\n",
              "      <td>c++</td>\n",
              "      <td>52</td>\n",
              "    </tr>\n",
              "    <tr>\n",
              "      <th>3</th>\n",
              "      <td>c#</td>\n",
              "      <td>38</td>\n",
              "    </tr>\n",
              "    <tr>\n",
              "      <th>15</th>\n",
              "      <td>kotlin</td>\n",
              "      <td>33</td>\n",
              "    </tr>\n",
              "    <tr>\n",
              "      <th>28</th>\n",
              "      <td>scala</td>\n",
              "      <td>32</td>\n",
              "    </tr>\n",
              "    <tr>\n",
              "      <th>4</th>\n",
              "      <td>.net_core</td>\n",
              "      <td>31</td>\n",
              "    </tr>\n",
              "    <tr>\n",
              "      <th>32</th>\n",
              "      <td>swift</td>\n",
              "      <td>30</td>\n",
              "    </tr>\n",
              "    <tr>\n",
              "      <th>20</th>\n",
              "      <td>go</td>\n",
              "      <td>28</td>\n",
              "    </tr>\n",
              "    <tr>\n",
              "      <th>19</th>\n",
              "      <td>sql</td>\n",
              "      <td>27</td>\n",
              "    </tr>\n",
              "    <tr>\n",
              "      <th>1</th>\n",
              "      <td>ruby</td>\n",
              "      <td>19</td>\n",
              "    </tr>\n",
              "    <tr>\n",
              "      <th>40</th>\n",
              "      <td>c</td>\n",
              "      <td>17</td>\n",
              "    </tr>\n",
              "    <tr>\n",
              "      <th>22</th>\n",
              "      <td>react.js</td>\n",
              "      <td>15</td>\n",
              "    </tr>\n",
              "    <tr>\n",
              "      <th>8</th>\n",
              "      <td>kubernetes</td>\n",
              "      <td>12</td>\n",
              "    </tr>\n",
              "    <tr>\n",
              "      <th>45</th>\n",
              "      <td>angular</td>\n",
              "      <td>11</td>\n",
              "    </tr>\n",
              "    <tr>\n",
              "      <th>17</th>\n",
              "      <td>ios</td>\n",
              "      <td>11</td>\n",
              "    </tr>\n",
              "    <tr>\n",
              "      <th>27</th>\n",
              "      <td>android</td>\n",
              "      <td>10</td>\n",
              "    </tr>\n",
              "    <tr>\n",
              "      <th>16</th>\n",
              "      <td>node.js</td>\n",
              "      <td>10</td>\n",
              "    </tr>\n",
              "    <tr>\n",
              "      <th>5</th>\n",
              "      <td>aws</td>\n",
              "      <td>10</td>\n",
              "    </tr>\n",
              "    <tr>\n",
              "      <th>49</th>\n",
              "      <td>r</td>\n",
              "      <td>9</td>\n",
              "    </tr>\n",
              "    <tr>\n",
              "      <th>63</th>\n",
              "      <td>abap</td>\n",
              "      <td>7</td>\n",
              "    </tr>\n",
              "  </tbody>\n",
              "</table>\n",
              "</div>"
            ],
            "text/plain": [
              "          name  count\n",
              "7       python    232\n",
              "10        java    213\n",
              "2   javascript    136\n",
              "14     no_tech    126\n",
              "9          php     75\n",
              "0   typescript     54\n",
              "13         c++     52\n",
              "3           c#     38\n",
              "15      kotlin     33\n",
              "28       scala     32\n",
              "4    .net_core     31\n",
              "32       swift     30\n",
              "20          go     28\n",
              "19         sql     27\n",
              "1         ruby     19\n",
              "40           c     17\n",
              "22    react.js     15\n",
              "8   kubernetes     12\n",
              "45     angular     11\n",
              "17         ios     11\n",
              "27     android     10\n",
              "16     node.js     10\n",
              "5          aws     10\n",
              "49           r      9\n",
              "63        abap      7"
            ]
          },
          "metadata": {
            "tags": []
          },
          "execution_count": 79
        }
      ]
    },
    {
      "cell_type": "code",
      "metadata": {
        "id": "Bf_xHEquqyti",
        "colab": {
          "base_uri": "https://localhost:8080/",
          "height": 0
        },
        "outputId": "af6a1b52-3759-4811-ce35-1ddefc40855c"
      },
      "source": [
        "one_hot_column = counter[counter['count'] >= threshold]['name'].values\n",
        "foo = [] \n",
        "one_hot_list = []\n",
        "for idx, row in enumerate(df['MainTech']):\n",
        "    flag = True\n",
        "    one_row = {'MainTech.{}'.format(tech): 1 if tech in row else 0 for tech in one_hot_column}\n",
        "    for key, val in one_row.items():\n",
        "      flag &= val == 0\n",
        "    if flag:\n",
        "      foo.append(idx)\n",
        "    one_hot_list.append(one_row)\n",
        "    \n",
        "main_tech_one_hot_df = pd.DataFrame(one_hot_list)\n",
        "main_tech_one_hot_df"
      ],
      "execution_count": 80,
      "outputs": [
        {
          "output_type": "execute_result",
          "data": {
            "text/html": [
              "<div>\n",
              "<style scoped>\n",
              "    .dataframe tbody tr th:only-of-type {\n",
              "        vertical-align: middle;\n",
              "    }\n",
              "\n",
              "    .dataframe tbody tr th {\n",
              "        vertical-align: top;\n",
              "    }\n",
              "\n",
              "    .dataframe thead th {\n",
              "        text-align: right;\n",
              "    }\n",
              "</style>\n",
              "<table border=\"1\" class=\"dataframe\">\n",
              "  <thead>\n",
              "    <tr style=\"text-align: right;\">\n",
              "      <th></th>\n",
              "      <th>MainTech.python</th>\n",
              "      <th>MainTech.java</th>\n",
              "      <th>MainTech.javascript</th>\n",
              "      <th>MainTech.no_tech</th>\n",
              "      <th>MainTech.php</th>\n",
              "      <th>MainTech.typescript</th>\n",
              "      <th>MainTech.c++</th>\n",
              "      <th>MainTech.c#</th>\n",
              "      <th>MainTech.kotlin</th>\n",
              "      <th>MainTech.scala</th>\n",
              "      <th>MainTech..net_core</th>\n",
              "      <th>MainTech.swift</th>\n",
              "      <th>MainTech.go</th>\n",
              "      <th>MainTech.sql</th>\n",
              "      <th>MainTech.ruby</th>\n",
              "      <th>MainTech.c</th>\n",
              "      <th>MainTech.react.js</th>\n",
              "      <th>MainTech.kubernetes</th>\n",
              "      <th>MainTech.angular</th>\n",
              "      <th>MainTech.ios</th>\n",
              "      <th>MainTech.android</th>\n",
              "      <th>MainTech.node.js</th>\n",
              "      <th>MainTech.aws</th>\n",
              "      <th>MainTech.r</th>\n",
              "      <th>MainTech.abap</th>\n",
              "    </tr>\n",
              "  </thead>\n",
              "  <tbody>\n",
              "    <tr>\n",
              "      <th>0</th>\n",
              "      <td>0</td>\n",
              "      <td>0</td>\n",
              "      <td>0</td>\n",
              "      <td>0</td>\n",
              "      <td>0</td>\n",
              "      <td>1</td>\n",
              "      <td>0</td>\n",
              "      <td>0</td>\n",
              "      <td>0</td>\n",
              "      <td>0</td>\n",
              "      <td>0</td>\n",
              "      <td>0</td>\n",
              "      <td>0</td>\n",
              "      <td>0</td>\n",
              "      <td>0</td>\n",
              "      <td>0</td>\n",
              "      <td>0</td>\n",
              "      <td>0</td>\n",
              "      <td>0</td>\n",
              "      <td>0</td>\n",
              "      <td>0</td>\n",
              "      <td>0</td>\n",
              "      <td>0</td>\n",
              "      <td>0</td>\n",
              "      <td>0</td>\n",
              "    </tr>\n",
              "    <tr>\n",
              "      <th>1</th>\n",
              "      <td>0</td>\n",
              "      <td>0</td>\n",
              "      <td>0</td>\n",
              "      <td>0</td>\n",
              "      <td>0</td>\n",
              "      <td>0</td>\n",
              "      <td>0</td>\n",
              "      <td>0</td>\n",
              "      <td>0</td>\n",
              "      <td>0</td>\n",
              "      <td>0</td>\n",
              "      <td>0</td>\n",
              "      <td>0</td>\n",
              "      <td>0</td>\n",
              "      <td>1</td>\n",
              "      <td>0</td>\n",
              "      <td>0</td>\n",
              "      <td>0</td>\n",
              "      <td>0</td>\n",
              "      <td>0</td>\n",
              "      <td>0</td>\n",
              "      <td>0</td>\n",
              "      <td>0</td>\n",
              "      <td>0</td>\n",
              "      <td>0</td>\n",
              "    </tr>\n",
              "    <tr>\n",
              "      <th>2</th>\n",
              "      <td>0</td>\n",
              "      <td>0</td>\n",
              "      <td>1</td>\n",
              "      <td>0</td>\n",
              "      <td>0</td>\n",
              "      <td>1</td>\n",
              "      <td>0</td>\n",
              "      <td>0</td>\n",
              "      <td>0</td>\n",
              "      <td>0</td>\n",
              "      <td>0</td>\n",
              "      <td>0</td>\n",
              "      <td>0</td>\n",
              "      <td>0</td>\n",
              "      <td>0</td>\n",
              "      <td>0</td>\n",
              "      <td>0</td>\n",
              "      <td>0</td>\n",
              "      <td>0</td>\n",
              "      <td>0</td>\n",
              "      <td>0</td>\n",
              "      <td>0</td>\n",
              "      <td>0</td>\n",
              "      <td>0</td>\n",
              "      <td>0</td>\n",
              "    </tr>\n",
              "    <tr>\n",
              "      <th>3</th>\n",
              "      <td>0</td>\n",
              "      <td>0</td>\n",
              "      <td>1</td>\n",
              "      <td>0</td>\n",
              "      <td>0</td>\n",
              "      <td>0</td>\n",
              "      <td>0</td>\n",
              "      <td>0</td>\n",
              "      <td>0</td>\n",
              "      <td>0</td>\n",
              "      <td>0</td>\n",
              "      <td>0</td>\n",
              "      <td>0</td>\n",
              "      <td>0</td>\n",
              "      <td>0</td>\n",
              "      <td>0</td>\n",
              "      <td>0</td>\n",
              "      <td>0</td>\n",
              "      <td>0</td>\n",
              "      <td>0</td>\n",
              "      <td>0</td>\n",
              "      <td>0</td>\n",
              "      <td>0</td>\n",
              "      <td>0</td>\n",
              "      <td>0</td>\n",
              "    </tr>\n",
              "    <tr>\n",
              "      <th>4</th>\n",
              "      <td>0</td>\n",
              "      <td>0</td>\n",
              "      <td>0</td>\n",
              "      <td>0</td>\n",
              "      <td>0</td>\n",
              "      <td>0</td>\n",
              "      <td>0</td>\n",
              "      <td>1</td>\n",
              "      <td>0</td>\n",
              "      <td>0</td>\n",
              "      <td>1</td>\n",
              "      <td>0</td>\n",
              "      <td>0</td>\n",
              "      <td>0</td>\n",
              "      <td>0</td>\n",
              "      <td>0</td>\n",
              "      <td>0</td>\n",
              "      <td>0</td>\n",
              "      <td>0</td>\n",
              "      <td>0</td>\n",
              "      <td>0</td>\n",
              "      <td>0</td>\n",
              "      <td>0</td>\n",
              "      <td>0</td>\n",
              "      <td>0</td>\n",
              "    </tr>\n",
              "    <tr>\n",
              "      <th>...</th>\n",
              "      <td>...</td>\n",
              "      <td>...</td>\n",
              "      <td>...</td>\n",
              "      <td>...</td>\n",
              "      <td>...</td>\n",
              "      <td>...</td>\n",
              "      <td>...</td>\n",
              "      <td>...</td>\n",
              "      <td>...</td>\n",
              "      <td>...</td>\n",
              "      <td>...</td>\n",
              "      <td>...</td>\n",
              "      <td>...</td>\n",
              "      <td>...</td>\n",
              "      <td>...</td>\n",
              "      <td>...</td>\n",
              "      <td>...</td>\n",
              "      <td>...</td>\n",
              "      <td>...</td>\n",
              "      <td>...</td>\n",
              "      <td>...</td>\n",
              "      <td>...</td>\n",
              "      <td>...</td>\n",
              "      <td>...</td>\n",
              "      <td>...</td>\n",
              "    </tr>\n",
              "    <tr>\n",
              "      <th>1242</th>\n",
              "      <td>0</td>\n",
              "      <td>1</td>\n",
              "      <td>0</td>\n",
              "      <td>0</td>\n",
              "      <td>0</td>\n",
              "      <td>0</td>\n",
              "      <td>0</td>\n",
              "      <td>0</td>\n",
              "      <td>0</td>\n",
              "      <td>0</td>\n",
              "      <td>0</td>\n",
              "      <td>0</td>\n",
              "      <td>0</td>\n",
              "      <td>0</td>\n",
              "      <td>0</td>\n",
              "      <td>0</td>\n",
              "      <td>0</td>\n",
              "      <td>0</td>\n",
              "      <td>0</td>\n",
              "      <td>0</td>\n",
              "      <td>0</td>\n",
              "      <td>0</td>\n",
              "      <td>0</td>\n",
              "      <td>0</td>\n",
              "      <td>0</td>\n",
              "    </tr>\n",
              "    <tr>\n",
              "      <th>1243</th>\n",
              "      <td>0</td>\n",
              "      <td>0</td>\n",
              "      <td>0</td>\n",
              "      <td>0</td>\n",
              "      <td>0</td>\n",
              "      <td>0</td>\n",
              "      <td>0</td>\n",
              "      <td>0</td>\n",
              "      <td>0</td>\n",
              "      <td>0</td>\n",
              "      <td>0</td>\n",
              "      <td>0</td>\n",
              "      <td>0</td>\n",
              "      <td>0</td>\n",
              "      <td>0</td>\n",
              "      <td>0</td>\n",
              "      <td>0</td>\n",
              "      <td>0</td>\n",
              "      <td>0</td>\n",
              "      <td>0</td>\n",
              "      <td>0</td>\n",
              "      <td>0</td>\n",
              "      <td>0</td>\n",
              "      <td>0</td>\n",
              "      <td>0</td>\n",
              "    </tr>\n",
              "    <tr>\n",
              "      <th>1244</th>\n",
              "      <td>0</td>\n",
              "      <td>0</td>\n",
              "      <td>0</td>\n",
              "      <td>0</td>\n",
              "      <td>1</td>\n",
              "      <td>0</td>\n",
              "      <td>0</td>\n",
              "      <td>0</td>\n",
              "      <td>0</td>\n",
              "      <td>0</td>\n",
              "      <td>0</td>\n",
              "      <td>0</td>\n",
              "      <td>0</td>\n",
              "      <td>0</td>\n",
              "      <td>0</td>\n",
              "      <td>0</td>\n",
              "      <td>0</td>\n",
              "      <td>0</td>\n",
              "      <td>0</td>\n",
              "      <td>0</td>\n",
              "      <td>0</td>\n",
              "      <td>0</td>\n",
              "      <td>0</td>\n",
              "      <td>0</td>\n",
              "      <td>0</td>\n",
              "    </tr>\n",
              "    <tr>\n",
              "      <th>1245</th>\n",
              "      <td>0</td>\n",
              "      <td>0</td>\n",
              "      <td>1</td>\n",
              "      <td>0</td>\n",
              "      <td>0</td>\n",
              "      <td>0</td>\n",
              "      <td>0</td>\n",
              "      <td>0</td>\n",
              "      <td>0</td>\n",
              "      <td>0</td>\n",
              "      <td>0</td>\n",
              "      <td>0</td>\n",
              "      <td>0</td>\n",
              "      <td>0</td>\n",
              "      <td>0</td>\n",
              "      <td>0</td>\n",
              "      <td>0</td>\n",
              "      <td>0</td>\n",
              "      <td>0</td>\n",
              "      <td>0</td>\n",
              "      <td>0</td>\n",
              "      <td>0</td>\n",
              "      <td>0</td>\n",
              "      <td>0</td>\n",
              "      <td>0</td>\n",
              "    </tr>\n",
              "    <tr>\n",
              "      <th>1246</th>\n",
              "      <td>0</td>\n",
              "      <td>0</td>\n",
              "      <td>0</td>\n",
              "      <td>0</td>\n",
              "      <td>0</td>\n",
              "      <td>0</td>\n",
              "      <td>0</td>\n",
              "      <td>0</td>\n",
              "      <td>0</td>\n",
              "      <td>0</td>\n",
              "      <td>0</td>\n",
              "      <td>0</td>\n",
              "      <td>0</td>\n",
              "      <td>0</td>\n",
              "      <td>0</td>\n",
              "      <td>0</td>\n",
              "      <td>0</td>\n",
              "      <td>0</td>\n",
              "      <td>0</td>\n",
              "      <td>0</td>\n",
              "      <td>0</td>\n",
              "      <td>0</td>\n",
              "      <td>0</td>\n",
              "      <td>0</td>\n",
              "      <td>0</td>\n",
              "    </tr>\n",
              "  </tbody>\n",
              "</table>\n",
              "<p>1247 rows × 25 columns</p>\n",
              "</div>"
            ],
            "text/plain": [
              "      MainTech.python  MainTech.java  ...  MainTech.r  MainTech.abap\n",
              "0                   0              0  ...           0              0\n",
              "1                   0              0  ...           0              0\n",
              "2                   0              0  ...           0              0\n",
              "3                   0              0  ...           0              0\n",
              "4                   0              0  ...           0              0\n",
              "...               ...            ...  ...         ...            ...\n",
              "1242                0              1  ...           0              0\n",
              "1243                0              0  ...           0              0\n",
              "1244                0              0  ...           0              0\n",
              "1245                0              0  ...           0              0\n",
              "1246                0              0  ...           0              0\n",
              "\n",
              "[1247 rows x 25 columns]"
            ]
          },
          "metadata": {
            "tags": []
          },
          "execution_count": 80
        }
      ]
    },
    {
      "cell_type": "code",
      "metadata": {
        "id": "jU567CZmahI7",
        "colab": {
          "base_uri": "https://localhost:8080/"
        },
        "outputId": "601f5680-c44a-44fb-fc50-75dce867bf1f"
      },
      "source": [
        "main_tech_one_hot_df.shape"
      ],
      "execution_count": 81,
      "outputs": [
        {
          "output_type": "execute_result",
          "data": {
            "text/plain": [
              "(1247, 25)"
            ]
          },
          "metadata": {
            "tags": []
          },
          "execution_count": 81
        }
      ]
    },
    {
      "cell_type": "code",
      "metadata": {
        "id": "RzKCGErUtLjN"
      },
      "source": [
        "# Datafrane cuối cùng, đầu vào của mô hình \n",
        "input = pd.concat([df.drop('MainTech', axis=1), main_tech_one_hot_df], axis=1)\n",
        "input = input.drop(foo).reset_index(drop=True)"
      ],
      "execution_count": 82,
      "outputs": []
    },
    {
      "cell_type": "code",
      "metadata": {
        "id": "Xr6uBVCR70n6",
        "colab": {
          "base_uri": "https://localhost:8080/",
          "height": 0
        },
        "outputId": "5845d948-db3f-44a9-da55-8473ad8f40bf"
      },
      "source": [
        "input"
      ],
      "execution_count": 83,
      "outputs": [
        {
          "output_type": "execute_result",
          "data": {
            "text/html": [
              "<div>\n",
              "<style scoped>\n",
              "    .dataframe tbody tr th:only-of-type {\n",
              "        vertical-align: middle;\n",
              "    }\n",
              "\n",
              "    .dataframe tbody tr th {\n",
              "        vertical-align: top;\n",
              "    }\n",
              "\n",
              "    .dataframe thead th {\n",
              "        text-align: right;\n",
              "    }\n",
              "</style>\n",
              "<table border=\"1\" class=\"dataframe\">\n",
              "  <thead>\n",
              "    <tr style=\"text-align: right;\">\n",
              "      <th></th>\n",
              "      <th>Age</th>\n",
              "      <th>Gender</th>\n",
              "      <th>TotYrsOfExp</th>\n",
              "      <th>AnualSalary</th>\n",
              "      <th>MainTech.python</th>\n",
              "      <th>MainTech.java</th>\n",
              "      <th>MainTech.javascript</th>\n",
              "      <th>MainTech.no_tech</th>\n",
              "      <th>MainTech.php</th>\n",
              "      <th>MainTech.typescript</th>\n",
              "      <th>MainTech.c++</th>\n",
              "      <th>MainTech.c#</th>\n",
              "      <th>MainTech.kotlin</th>\n",
              "      <th>MainTech.scala</th>\n",
              "      <th>MainTech..net_core</th>\n",
              "      <th>MainTech.swift</th>\n",
              "      <th>MainTech.go</th>\n",
              "      <th>MainTech.sql</th>\n",
              "      <th>MainTech.ruby</th>\n",
              "      <th>MainTech.c</th>\n",
              "      <th>MainTech.react.js</th>\n",
              "      <th>MainTech.kubernetes</th>\n",
              "      <th>MainTech.angular</th>\n",
              "      <th>MainTech.ios</th>\n",
              "      <th>MainTech.android</th>\n",
              "      <th>MainTech.node.js</th>\n",
              "      <th>MainTech.aws</th>\n",
              "      <th>MainTech.r</th>\n",
              "      <th>MainTech.abap</th>\n",
              "    </tr>\n",
              "  </thead>\n",
              "  <tbody>\n",
              "    <tr>\n",
              "      <th>0</th>\n",
              "      <td>0.376812</td>\n",
              "      <td>1.0</td>\n",
              "      <td>0.125</td>\n",
              "      <td>0.326087</td>\n",
              "      <td>0.0</td>\n",
              "      <td>0.0</td>\n",
              "      <td>0.0</td>\n",
              "      <td>0.0</td>\n",
              "      <td>0.0</td>\n",
              "      <td>1.0</td>\n",
              "      <td>0.0</td>\n",
              "      <td>0.0</td>\n",
              "      <td>0.0</td>\n",
              "      <td>0.0</td>\n",
              "      <td>0.0</td>\n",
              "      <td>0.0</td>\n",
              "      <td>0.0</td>\n",
              "      <td>0.0</td>\n",
              "      <td>0.0</td>\n",
              "      <td>0.0</td>\n",
              "      <td>0.0</td>\n",
              "      <td>0.0</td>\n",
              "      <td>0.0</td>\n",
              "      <td>0.0</td>\n",
              "      <td>0.0</td>\n",
              "      <td>0.0</td>\n",
              "      <td>0.0</td>\n",
              "      <td>0.0</td>\n",
              "      <td>0.0</td>\n",
              "    </tr>\n",
              "    <tr>\n",
              "      <th>1</th>\n",
              "      <td>0.376812</td>\n",
              "      <td>1.0</td>\n",
              "      <td>0.175</td>\n",
              "      <td>0.356522</td>\n",
              "      <td>0.0</td>\n",
              "      <td>0.0</td>\n",
              "      <td>0.0</td>\n",
              "      <td>0.0</td>\n",
              "      <td>0.0</td>\n",
              "      <td>0.0</td>\n",
              "      <td>0.0</td>\n",
              "      <td>0.0</td>\n",
              "      <td>0.0</td>\n",
              "      <td>0.0</td>\n",
              "      <td>0.0</td>\n",
              "      <td>0.0</td>\n",
              "      <td>0.0</td>\n",
              "      <td>0.0</td>\n",
              "      <td>1.0</td>\n",
              "      <td>0.0</td>\n",
              "      <td>0.0</td>\n",
              "      <td>0.0</td>\n",
              "      <td>0.0</td>\n",
              "      <td>0.0</td>\n",
              "      <td>0.0</td>\n",
              "      <td>0.0</td>\n",
              "      <td>0.0</td>\n",
              "      <td>0.0</td>\n",
              "      <td>0.0</td>\n",
              "    </tr>\n",
              "    <tr>\n",
              "      <th>2</th>\n",
              "      <td>0.420290</td>\n",
              "      <td>1.0</td>\n",
              "      <td>0.300</td>\n",
              "      <td>0.434783</td>\n",
              "      <td>0.0</td>\n",
              "      <td>0.0</td>\n",
              "      <td>1.0</td>\n",
              "      <td>0.0</td>\n",
              "      <td>0.0</td>\n",
              "      <td>1.0</td>\n",
              "      <td>0.0</td>\n",
              "      <td>0.0</td>\n",
              "      <td>0.0</td>\n",
              "      <td>0.0</td>\n",
              "      <td>0.0</td>\n",
              "      <td>0.0</td>\n",
              "      <td>0.0</td>\n",
              "      <td>0.0</td>\n",
              "      <td>0.0</td>\n",
              "      <td>0.0</td>\n",
              "      <td>0.0</td>\n",
              "      <td>0.0</td>\n",
              "      <td>0.0</td>\n",
              "      <td>0.0</td>\n",
              "      <td>0.0</td>\n",
              "      <td>0.0</td>\n",
              "      <td>0.0</td>\n",
              "      <td>0.0</td>\n",
              "      <td>0.0</td>\n",
              "    </tr>\n",
              "    <tr>\n",
              "      <th>3</th>\n",
              "      <td>0.405797</td>\n",
              "      <td>1.0</td>\n",
              "      <td>0.100</td>\n",
              "      <td>0.292827</td>\n",
              "      <td>0.0</td>\n",
              "      <td>0.0</td>\n",
              "      <td>1.0</td>\n",
              "      <td>0.0</td>\n",
              "      <td>0.0</td>\n",
              "      <td>0.0</td>\n",
              "      <td>0.0</td>\n",
              "      <td>0.0</td>\n",
              "      <td>0.0</td>\n",
              "      <td>0.0</td>\n",
              "      <td>0.0</td>\n",
              "      <td>0.0</td>\n",
              "      <td>0.0</td>\n",
              "      <td>0.0</td>\n",
              "      <td>0.0</td>\n",
              "      <td>0.0</td>\n",
              "      <td>0.0</td>\n",
              "      <td>0.0</td>\n",
              "      <td>0.0</td>\n",
              "      <td>0.0</td>\n",
              "      <td>0.0</td>\n",
              "      <td>0.0</td>\n",
              "      <td>0.0</td>\n",
              "      <td>0.0</td>\n",
              "      <td>0.0</td>\n",
              "    </tr>\n",
              "    <tr>\n",
              "      <th>4</th>\n",
              "      <td>0.536232</td>\n",
              "      <td>1.0</td>\n",
              "      <td>0.425</td>\n",
              "      <td>0.269565</td>\n",
              "      <td>0.0</td>\n",
              "      <td>0.0</td>\n",
              "      <td>0.0</td>\n",
              "      <td>0.0</td>\n",
              "      <td>0.0</td>\n",
              "      <td>0.0</td>\n",
              "      <td>0.0</td>\n",
              "      <td>1.0</td>\n",
              "      <td>0.0</td>\n",
              "      <td>0.0</td>\n",
              "      <td>1.0</td>\n",
              "      <td>0.0</td>\n",
              "      <td>0.0</td>\n",
              "      <td>0.0</td>\n",
              "      <td>0.0</td>\n",
              "      <td>0.0</td>\n",
              "      <td>0.0</td>\n",
              "      <td>0.0</td>\n",
              "      <td>0.0</td>\n",
              "      <td>0.0</td>\n",
              "      <td>0.0</td>\n",
              "      <td>0.0</td>\n",
              "      <td>0.0</td>\n",
              "      <td>0.0</td>\n",
              "      <td>0.0</td>\n",
              "    </tr>\n",
              "    <tr>\n",
              "      <th>...</th>\n",
              "      <td>...</td>\n",
              "      <td>...</td>\n",
              "      <td>...</td>\n",
              "      <td>...</td>\n",
              "      <td>...</td>\n",
              "      <td>...</td>\n",
              "      <td>...</td>\n",
              "      <td>...</td>\n",
              "      <td>...</td>\n",
              "      <td>...</td>\n",
              "      <td>...</td>\n",
              "      <td>...</td>\n",
              "      <td>...</td>\n",
              "      <td>...</td>\n",
              "      <td>...</td>\n",
              "      <td>...</td>\n",
              "      <td>...</td>\n",
              "      <td>...</td>\n",
              "      <td>...</td>\n",
              "      <td>...</td>\n",
              "      <td>...</td>\n",
              "      <td>...</td>\n",
              "      <td>...</td>\n",
              "      <td>...</td>\n",
              "      <td>...</td>\n",
              "      <td>...</td>\n",
              "      <td>...</td>\n",
              "      <td>...</td>\n",
              "      <td>...</td>\n",
              "    </tr>\n",
              "    <tr>\n",
              "      <th>1133</th>\n",
              "      <td>0.550725</td>\n",
              "      <td>1.0</td>\n",
              "      <td>0.450</td>\n",
              "      <td>0.391304</td>\n",
              "      <td>0.0</td>\n",
              "      <td>1.0</td>\n",
              "      <td>0.0</td>\n",
              "      <td>0.0</td>\n",
              "      <td>0.0</td>\n",
              "      <td>0.0</td>\n",
              "      <td>0.0</td>\n",
              "      <td>0.0</td>\n",
              "      <td>0.0</td>\n",
              "      <td>0.0</td>\n",
              "      <td>0.0</td>\n",
              "      <td>0.0</td>\n",
              "      <td>0.0</td>\n",
              "      <td>0.0</td>\n",
              "      <td>0.0</td>\n",
              "      <td>0.0</td>\n",
              "      <td>0.0</td>\n",
              "      <td>0.0</td>\n",
              "      <td>0.0</td>\n",
              "      <td>0.0</td>\n",
              "      <td>0.0</td>\n",
              "      <td>0.0</td>\n",
              "      <td>0.0</td>\n",
              "      <td>0.0</td>\n",
              "      <td>0.0</td>\n",
              "    </tr>\n",
              "    <tr>\n",
              "      <th>1134</th>\n",
              "      <td>0.449275</td>\n",
              "      <td>1.0</td>\n",
              "      <td>0.225</td>\n",
              "      <td>0.304348</td>\n",
              "      <td>0.0</td>\n",
              "      <td>0.0</td>\n",
              "      <td>0.0</td>\n",
              "      <td>0.0</td>\n",
              "      <td>1.0</td>\n",
              "      <td>0.0</td>\n",
              "      <td>0.0</td>\n",
              "      <td>0.0</td>\n",
              "      <td>0.0</td>\n",
              "      <td>0.0</td>\n",
              "      <td>0.0</td>\n",
              "      <td>0.0</td>\n",
              "      <td>0.0</td>\n",
              "      <td>0.0</td>\n",
              "      <td>0.0</td>\n",
              "      <td>0.0</td>\n",
              "      <td>0.0</td>\n",
              "      <td>0.0</td>\n",
              "      <td>0.0</td>\n",
              "      <td>0.0</td>\n",
              "      <td>0.0</td>\n",
              "      <td>0.0</td>\n",
              "      <td>0.0</td>\n",
              "      <td>0.0</td>\n",
              "      <td>0.0</td>\n",
              "    </tr>\n",
              "    <tr>\n",
              "      <th>1135</th>\n",
              "      <td>0.478261</td>\n",
              "      <td>1.0</td>\n",
              "      <td>0.250</td>\n",
              "      <td>0.208696</td>\n",
              "      <td>0.0</td>\n",
              "      <td>0.0</td>\n",
              "      <td>1.0</td>\n",
              "      <td>0.0</td>\n",
              "      <td>0.0</td>\n",
              "      <td>0.0</td>\n",
              "      <td>0.0</td>\n",
              "      <td>0.0</td>\n",
              "      <td>0.0</td>\n",
              "      <td>0.0</td>\n",
              "      <td>0.0</td>\n",
              "      <td>0.0</td>\n",
              "      <td>0.0</td>\n",
              "      <td>0.0</td>\n",
              "      <td>0.0</td>\n",
              "      <td>0.0</td>\n",
              "      <td>0.0</td>\n",
              "      <td>0.0</td>\n",
              "      <td>0.0</td>\n",
              "      <td>0.0</td>\n",
              "      <td>0.0</td>\n",
              "      <td>0.0</td>\n",
              "      <td>0.0</td>\n",
              "      <td>0.0</td>\n",
              "      <td>0.0</td>\n",
              "    </tr>\n",
              "    <tr>\n",
              "      <th>1136</th>\n",
              "      <td>0.376812</td>\n",
              "      <td>1.0</td>\n",
              "      <td>0.175</td>\n",
              "      <td>0.146957</td>\n",
              "      <td>NaN</td>\n",
              "      <td>NaN</td>\n",
              "      <td>NaN</td>\n",
              "      <td>NaN</td>\n",
              "      <td>NaN</td>\n",
              "      <td>NaN</td>\n",
              "      <td>NaN</td>\n",
              "      <td>NaN</td>\n",
              "      <td>NaN</td>\n",
              "      <td>NaN</td>\n",
              "      <td>NaN</td>\n",
              "      <td>NaN</td>\n",
              "      <td>NaN</td>\n",
              "      <td>NaN</td>\n",
              "      <td>NaN</td>\n",
              "      <td>NaN</td>\n",
              "      <td>NaN</td>\n",
              "      <td>NaN</td>\n",
              "      <td>NaN</td>\n",
              "      <td>NaN</td>\n",
              "      <td>NaN</td>\n",
              "      <td>NaN</td>\n",
              "      <td>NaN</td>\n",
              "      <td>NaN</td>\n",
              "      <td>NaN</td>\n",
              "    </tr>\n",
              "    <tr>\n",
              "      <th>1137</th>\n",
              "      <td>0.376812</td>\n",
              "      <td>1.0</td>\n",
              "      <td>0.050</td>\n",
              "      <td>0.173913</td>\n",
              "      <td>NaN</td>\n",
              "      <td>NaN</td>\n",
              "      <td>NaN</td>\n",
              "      <td>NaN</td>\n",
              "      <td>NaN</td>\n",
              "      <td>NaN</td>\n",
              "      <td>NaN</td>\n",
              "      <td>NaN</td>\n",
              "      <td>NaN</td>\n",
              "      <td>NaN</td>\n",
              "      <td>NaN</td>\n",
              "      <td>NaN</td>\n",
              "      <td>NaN</td>\n",
              "      <td>NaN</td>\n",
              "      <td>NaN</td>\n",
              "      <td>NaN</td>\n",
              "      <td>NaN</td>\n",
              "      <td>NaN</td>\n",
              "      <td>NaN</td>\n",
              "      <td>NaN</td>\n",
              "      <td>NaN</td>\n",
              "      <td>NaN</td>\n",
              "      <td>NaN</td>\n",
              "      <td>NaN</td>\n",
              "      <td>NaN</td>\n",
              "    </tr>\n",
              "  </tbody>\n",
              "</table>\n",
              "<p>1138 rows × 29 columns</p>\n",
              "</div>"
            ],
            "text/plain": [
              "           Age  Gender  TotYrsOfExp  ...  MainTech.aws  MainTech.r  MainTech.abap\n",
              "0     0.376812     1.0        0.125  ...           0.0         0.0            0.0\n",
              "1     0.376812     1.0        0.175  ...           0.0         0.0            0.0\n",
              "2     0.420290     1.0        0.300  ...           0.0         0.0            0.0\n",
              "3     0.405797     1.0        0.100  ...           0.0         0.0            0.0\n",
              "4     0.536232     1.0        0.425  ...           0.0         0.0            0.0\n",
              "...        ...     ...          ...  ...           ...         ...            ...\n",
              "1133  0.550725     1.0        0.450  ...           0.0         0.0            0.0\n",
              "1134  0.449275     1.0        0.225  ...           0.0         0.0            0.0\n",
              "1135  0.478261     1.0        0.250  ...           0.0         0.0            0.0\n",
              "1136  0.376812     1.0        0.175  ...           NaN         NaN            NaN\n",
              "1137  0.376812     1.0        0.050  ...           NaN         NaN            NaN\n",
              "\n",
              "[1138 rows x 29 columns]"
            ]
          },
          "metadata": {
            "tags": []
          },
          "execution_count": 83
        }
      ]
    },
    {
      "cell_type": "markdown",
      "metadata": {
        "id": "rgAD2zyOACh-"
      },
      "source": [
        "**2 phương pháp encode phía trên sẽ có ưu nhược điểm khác nhau khi đưa vào model. -->** [Document tham khảo](https://www.analyticsvidhya.com/blog/2020/03/one-hot-encoding-vs-label-encoding-using-scikit-learn/)"
      ]
    },
    {
      "cell_type": "markdown",
      "metadata": {
        "id": "XkS0EKDAtWPu"
      },
      "source": [
        "#**Modeling**\n",
        "+ Mô hình hồi quy ***y = ax + b*** . --> [Document](https://machinelearningcoban.com/2016/12/28/linearregression/)\n",
        "\n",
        "+ Bước này mình sử dụng thuật toán randomforest dành cho hồi quy. --> [Document](https://gdcoder.com/random-forest-regressor-explained-in-depth/)"
      ]
    },
    {
      "cell_type": "code",
      "metadata": {
        "id": "4PeoIZNrBx-5",
        "colab": {
          "base_uri": "https://localhost:8080/",
          "height": 439
        },
        "outputId": "9b11f8d2-ef94-452f-98f3-3f11bd9bae3c"
      },
      "source": [
        "# Drop các dòng nan do label encode xong\n",
        "input = input.dropna().reset_index(drop=True)\n",
        "input"
      ],
      "execution_count": 84,
      "outputs": [
        {
          "output_type": "execute_result",
          "data": {
            "text/html": [
              "<div>\n",
              "<style scoped>\n",
              "    .dataframe tbody tr th:only-of-type {\n",
              "        vertical-align: middle;\n",
              "    }\n",
              "\n",
              "    .dataframe tbody tr th {\n",
              "        vertical-align: top;\n",
              "    }\n",
              "\n",
              "    .dataframe thead th {\n",
              "        text-align: right;\n",
              "    }\n",
              "</style>\n",
              "<table border=\"1\" class=\"dataframe\">\n",
              "  <thead>\n",
              "    <tr style=\"text-align: right;\">\n",
              "      <th></th>\n",
              "      <th>Age</th>\n",
              "      <th>Gender</th>\n",
              "      <th>TotYrsOfExp</th>\n",
              "      <th>AnualSalary</th>\n",
              "      <th>MainTech.python</th>\n",
              "      <th>MainTech.java</th>\n",
              "      <th>MainTech.javascript</th>\n",
              "      <th>MainTech.no_tech</th>\n",
              "      <th>MainTech.php</th>\n",
              "      <th>MainTech.typescript</th>\n",
              "      <th>MainTech.c++</th>\n",
              "      <th>MainTech.c#</th>\n",
              "      <th>MainTech.kotlin</th>\n",
              "      <th>MainTech.scala</th>\n",
              "      <th>MainTech..net_core</th>\n",
              "      <th>MainTech.swift</th>\n",
              "      <th>MainTech.go</th>\n",
              "      <th>MainTech.sql</th>\n",
              "      <th>MainTech.ruby</th>\n",
              "      <th>MainTech.c</th>\n",
              "      <th>MainTech.react.js</th>\n",
              "      <th>MainTech.kubernetes</th>\n",
              "      <th>MainTech.angular</th>\n",
              "      <th>MainTech.ios</th>\n",
              "      <th>MainTech.android</th>\n",
              "      <th>MainTech.node.js</th>\n",
              "      <th>MainTech.aws</th>\n",
              "      <th>MainTech.r</th>\n",
              "      <th>MainTech.abap</th>\n",
              "    </tr>\n",
              "  </thead>\n",
              "  <tbody>\n",
              "    <tr>\n",
              "      <th>0</th>\n",
              "      <td>0.376812</td>\n",
              "      <td>1.0</td>\n",
              "      <td>0.125</td>\n",
              "      <td>0.326087</td>\n",
              "      <td>0.0</td>\n",
              "      <td>0.0</td>\n",
              "      <td>0.0</td>\n",
              "      <td>0.0</td>\n",
              "      <td>0.0</td>\n",
              "      <td>1.0</td>\n",
              "      <td>0.0</td>\n",
              "      <td>0.0</td>\n",
              "      <td>0.0</td>\n",
              "      <td>0.0</td>\n",
              "      <td>0.0</td>\n",
              "      <td>0.0</td>\n",
              "      <td>0.0</td>\n",
              "      <td>0.0</td>\n",
              "      <td>0.0</td>\n",
              "      <td>0.0</td>\n",
              "      <td>0.0</td>\n",
              "      <td>0.0</td>\n",
              "      <td>0.0</td>\n",
              "      <td>0.0</td>\n",
              "      <td>0.0</td>\n",
              "      <td>0.0</td>\n",
              "      <td>0.0</td>\n",
              "      <td>0.0</td>\n",
              "      <td>0.0</td>\n",
              "    </tr>\n",
              "    <tr>\n",
              "      <th>1</th>\n",
              "      <td>0.376812</td>\n",
              "      <td>1.0</td>\n",
              "      <td>0.175</td>\n",
              "      <td>0.356522</td>\n",
              "      <td>0.0</td>\n",
              "      <td>0.0</td>\n",
              "      <td>0.0</td>\n",
              "      <td>0.0</td>\n",
              "      <td>0.0</td>\n",
              "      <td>0.0</td>\n",
              "      <td>0.0</td>\n",
              "      <td>0.0</td>\n",
              "      <td>0.0</td>\n",
              "      <td>0.0</td>\n",
              "      <td>0.0</td>\n",
              "      <td>0.0</td>\n",
              "      <td>0.0</td>\n",
              "      <td>0.0</td>\n",
              "      <td>1.0</td>\n",
              "      <td>0.0</td>\n",
              "      <td>0.0</td>\n",
              "      <td>0.0</td>\n",
              "      <td>0.0</td>\n",
              "      <td>0.0</td>\n",
              "      <td>0.0</td>\n",
              "      <td>0.0</td>\n",
              "      <td>0.0</td>\n",
              "      <td>0.0</td>\n",
              "      <td>0.0</td>\n",
              "    </tr>\n",
              "    <tr>\n",
              "      <th>2</th>\n",
              "      <td>0.420290</td>\n",
              "      <td>1.0</td>\n",
              "      <td>0.300</td>\n",
              "      <td>0.434783</td>\n",
              "      <td>0.0</td>\n",
              "      <td>0.0</td>\n",
              "      <td>1.0</td>\n",
              "      <td>0.0</td>\n",
              "      <td>0.0</td>\n",
              "      <td>1.0</td>\n",
              "      <td>0.0</td>\n",
              "      <td>0.0</td>\n",
              "      <td>0.0</td>\n",
              "      <td>0.0</td>\n",
              "      <td>0.0</td>\n",
              "      <td>0.0</td>\n",
              "      <td>0.0</td>\n",
              "      <td>0.0</td>\n",
              "      <td>0.0</td>\n",
              "      <td>0.0</td>\n",
              "      <td>0.0</td>\n",
              "      <td>0.0</td>\n",
              "      <td>0.0</td>\n",
              "      <td>0.0</td>\n",
              "      <td>0.0</td>\n",
              "      <td>0.0</td>\n",
              "      <td>0.0</td>\n",
              "      <td>0.0</td>\n",
              "      <td>0.0</td>\n",
              "    </tr>\n",
              "    <tr>\n",
              "      <th>3</th>\n",
              "      <td>0.405797</td>\n",
              "      <td>1.0</td>\n",
              "      <td>0.100</td>\n",
              "      <td>0.292827</td>\n",
              "      <td>0.0</td>\n",
              "      <td>0.0</td>\n",
              "      <td>1.0</td>\n",
              "      <td>0.0</td>\n",
              "      <td>0.0</td>\n",
              "      <td>0.0</td>\n",
              "      <td>0.0</td>\n",
              "      <td>0.0</td>\n",
              "      <td>0.0</td>\n",
              "      <td>0.0</td>\n",
              "      <td>0.0</td>\n",
              "      <td>0.0</td>\n",
              "      <td>0.0</td>\n",
              "      <td>0.0</td>\n",
              "      <td>0.0</td>\n",
              "      <td>0.0</td>\n",
              "      <td>0.0</td>\n",
              "      <td>0.0</td>\n",
              "      <td>0.0</td>\n",
              "      <td>0.0</td>\n",
              "      <td>0.0</td>\n",
              "      <td>0.0</td>\n",
              "      <td>0.0</td>\n",
              "      <td>0.0</td>\n",
              "      <td>0.0</td>\n",
              "    </tr>\n",
              "    <tr>\n",
              "      <th>4</th>\n",
              "      <td>0.536232</td>\n",
              "      <td>1.0</td>\n",
              "      <td>0.425</td>\n",
              "      <td>0.269565</td>\n",
              "      <td>0.0</td>\n",
              "      <td>0.0</td>\n",
              "      <td>0.0</td>\n",
              "      <td>0.0</td>\n",
              "      <td>0.0</td>\n",
              "      <td>0.0</td>\n",
              "      <td>0.0</td>\n",
              "      <td>1.0</td>\n",
              "      <td>0.0</td>\n",
              "      <td>0.0</td>\n",
              "      <td>1.0</td>\n",
              "      <td>0.0</td>\n",
              "      <td>0.0</td>\n",
              "      <td>0.0</td>\n",
              "      <td>0.0</td>\n",
              "      <td>0.0</td>\n",
              "      <td>0.0</td>\n",
              "      <td>0.0</td>\n",
              "      <td>0.0</td>\n",
              "      <td>0.0</td>\n",
              "      <td>0.0</td>\n",
              "      <td>0.0</td>\n",
              "      <td>0.0</td>\n",
              "      <td>0.0</td>\n",
              "      <td>0.0</td>\n",
              "    </tr>\n",
              "    <tr>\n",
              "      <th>...</th>\n",
              "      <td>...</td>\n",
              "      <td>...</td>\n",
              "      <td>...</td>\n",
              "      <td>...</td>\n",
              "      <td>...</td>\n",
              "      <td>...</td>\n",
              "      <td>...</td>\n",
              "      <td>...</td>\n",
              "      <td>...</td>\n",
              "      <td>...</td>\n",
              "      <td>...</td>\n",
              "      <td>...</td>\n",
              "      <td>...</td>\n",
              "      <td>...</td>\n",
              "      <td>...</td>\n",
              "      <td>...</td>\n",
              "      <td>...</td>\n",
              "      <td>...</td>\n",
              "      <td>...</td>\n",
              "      <td>...</td>\n",
              "      <td>...</td>\n",
              "      <td>...</td>\n",
              "      <td>...</td>\n",
              "      <td>...</td>\n",
              "      <td>...</td>\n",
              "      <td>...</td>\n",
              "      <td>...</td>\n",
              "      <td>...</td>\n",
              "      <td>...</td>\n",
              "    </tr>\n",
              "    <tr>\n",
              "      <th>1130</th>\n",
              "      <td>0.463768</td>\n",
              "      <td>1.0</td>\n",
              "      <td>0.250</td>\n",
              "      <td>0.347826</td>\n",
              "      <td>0.0</td>\n",
              "      <td>0.0</td>\n",
              "      <td>0.0</td>\n",
              "      <td>1.0</td>\n",
              "      <td>0.0</td>\n",
              "      <td>0.0</td>\n",
              "      <td>0.0</td>\n",
              "      <td>0.0</td>\n",
              "      <td>0.0</td>\n",
              "      <td>0.0</td>\n",
              "      <td>0.0</td>\n",
              "      <td>0.0</td>\n",
              "      <td>0.0</td>\n",
              "      <td>0.0</td>\n",
              "      <td>0.0</td>\n",
              "      <td>0.0</td>\n",
              "      <td>0.0</td>\n",
              "      <td>0.0</td>\n",
              "      <td>0.0</td>\n",
              "      <td>0.0</td>\n",
              "      <td>0.0</td>\n",
              "      <td>0.0</td>\n",
              "      <td>0.0</td>\n",
              "      <td>0.0</td>\n",
              "      <td>0.0</td>\n",
              "    </tr>\n",
              "    <tr>\n",
              "      <th>1131</th>\n",
              "      <td>0.405797</td>\n",
              "      <td>1.0</td>\n",
              "      <td>0.125</td>\n",
              "      <td>0.239130</td>\n",
              "      <td>0.0</td>\n",
              "      <td>0.0</td>\n",
              "      <td>0.0</td>\n",
              "      <td>0.0</td>\n",
              "      <td>1.0</td>\n",
              "      <td>0.0</td>\n",
              "      <td>0.0</td>\n",
              "      <td>0.0</td>\n",
              "      <td>0.0</td>\n",
              "      <td>0.0</td>\n",
              "      <td>0.0</td>\n",
              "      <td>0.0</td>\n",
              "      <td>0.0</td>\n",
              "      <td>0.0</td>\n",
              "      <td>0.0</td>\n",
              "      <td>0.0</td>\n",
              "      <td>0.0</td>\n",
              "      <td>0.0</td>\n",
              "      <td>0.0</td>\n",
              "      <td>0.0</td>\n",
              "      <td>0.0</td>\n",
              "      <td>0.0</td>\n",
              "      <td>0.0</td>\n",
              "      <td>0.0</td>\n",
              "      <td>0.0</td>\n",
              "    </tr>\n",
              "    <tr>\n",
              "      <th>1132</th>\n",
              "      <td>0.550725</td>\n",
              "      <td>1.0</td>\n",
              "      <td>0.450</td>\n",
              "      <td>0.391304</td>\n",
              "      <td>0.0</td>\n",
              "      <td>1.0</td>\n",
              "      <td>0.0</td>\n",
              "      <td>0.0</td>\n",
              "      <td>0.0</td>\n",
              "      <td>0.0</td>\n",
              "      <td>0.0</td>\n",
              "      <td>0.0</td>\n",
              "      <td>0.0</td>\n",
              "      <td>0.0</td>\n",
              "      <td>0.0</td>\n",
              "      <td>0.0</td>\n",
              "      <td>0.0</td>\n",
              "      <td>0.0</td>\n",
              "      <td>0.0</td>\n",
              "      <td>0.0</td>\n",
              "      <td>0.0</td>\n",
              "      <td>0.0</td>\n",
              "      <td>0.0</td>\n",
              "      <td>0.0</td>\n",
              "      <td>0.0</td>\n",
              "      <td>0.0</td>\n",
              "      <td>0.0</td>\n",
              "      <td>0.0</td>\n",
              "      <td>0.0</td>\n",
              "    </tr>\n",
              "    <tr>\n",
              "      <th>1133</th>\n",
              "      <td>0.449275</td>\n",
              "      <td>1.0</td>\n",
              "      <td>0.225</td>\n",
              "      <td>0.304348</td>\n",
              "      <td>0.0</td>\n",
              "      <td>0.0</td>\n",
              "      <td>0.0</td>\n",
              "      <td>0.0</td>\n",
              "      <td>1.0</td>\n",
              "      <td>0.0</td>\n",
              "      <td>0.0</td>\n",
              "      <td>0.0</td>\n",
              "      <td>0.0</td>\n",
              "      <td>0.0</td>\n",
              "      <td>0.0</td>\n",
              "      <td>0.0</td>\n",
              "      <td>0.0</td>\n",
              "      <td>0.0</td>\n",
              "      <td>0.0</td>\n",
              "      <td>0.0</td>\n",
              "      <td>0.0</td>\n",
              "      <td>0.0</td>\n",
              "      <td>0.0</td>\n",
              "      <td>0.0</td>\n",
              "      <td>0.0</td>\n",
              "      <td>0.0</td>\n",
              "      <td>0.0</td>\n",
              "      <td>0.0</td>\n",
              "      <td>0.0</td>\n",
              "    </tr>\n",
              "    <tr>\n",
              "      <th>1134</th>\n",
              "      <td>0.478261</td>\n",
              "      <td>1.0</td>\n",
              "      <td>0.250</td>\n",
              "      <td>0.208696</td>\n",
              "      <td>0.0</td>\n",
              "      <td>0.0</td>\n",
              "      <td>1.0</td>\n",
              "      <td>0.0</td>\n",
              "      <td>0.0</td>\n",
              "      <td>0.0</td>\n",
              "      <td>0.0</td>\n",
              "      <td>0.0</td>\n",
              "      <td>0.0</td>\n",
              "      <td>0.0</td>\n",
              "      <td>0.0</td>\n",
              "      <td>0.0</td>\n",
              "      <td>0.0</td>\n",
              "      <td>0.0</td>\n",
              "      <td>0.0</td>\n",
              "      <td>0.0</td>\n",
              "      <td>0.0</td>\n",
              "      <td>0.0</td>\n",
              "      <td>0.0</td>\n",
              "      <td>0.0</td>\n",
              "      <td>0.0</td>\n",
              "      <td>0.0</td>\n",
              "      <td>0.0</td>\n",
              "      <td>0.0</td>\n",
              "      <td>0.0</td>\n",
              "    </tr>\n",
              "  </tbody>\n",
              "</table>\n",
              "<p>1135 rows × 29 columns</p>\n",
              "</div>"
            ],
            "text/plain": [
              "           Age  Gender  TotYrsOfExp  ...  MainTech.aws  MainTech.r  MainTech.abap\n",
              "0     0.376812     1.0        0.125  ...           0.0         0.0            0.0\n",
              "1     0.376812     1.0        0.175  ...           0.0         0.0            0.0\n",
              "2     0.420290     1.0        0.300  ...           0.0         0.0            0.0\n",
              "3     0.405797     1.0        0.100  ...           0.0         0.0            0.0\n",
              "4     0.536232     1.0        0.425  ...           0.0         0.0            0.0\n",
              "...        ...     ...          ...  ...           ...         ...            ...\n",
              "1130  0.463768     1.0        0.250  ...           0.0         0.0            0.0\n",
              "1131  0.405797     1.0        0.125  ...           0.0         0.0            0.0\n",
              "1132  0.550725     1.0        0.450  ...           0.0         0.0            0.0\n",
              "1133  0.449275     1.0        0.225  ...           0.0         0.0            0.0\n",
              "1134  0.478261     1.0        0.250  ...           0.0         0.0            0.0\n",
              "\n",
              "[1135 rows x 29 columns]"
            ]
          },
          "metadata": {
            "tags": []
          },
          "execution_count": 84
        }
      ]
    },
    {
      "cell_type": "code",
      "metadata": {
        "id": "3EcDhOawtYIr",
        "colab": {
          "base_uri": "https://localhost:8080/"
        },
        "outputId": "b0c400b4-3d01-4500-df92-e043839d35de"
      },
      "source": [
        "# Lấy tập X, y đầu vào mô hình\n",
        "y = input['AnualSalary']\n",
        "input = input.drop(columns='AnualSalary')\n",
        "names = input.columns.to_list()\n",
        "X = input[names]\n",
        "\n",
        "# Kiểm tra các cột đầu vào\n",
        "print(names)"
      ],
      "execution_count": 85,
      "outputs": [
        {
          "output_type": "stream",
          "text": [
            "['Age', 'Gender', 'TotYrsOfExp', 'MainTech.python', 'MainTech.java', 'MainTech.javascript', 'MainTech.no_tech', 'MainTech.php', 'MainTech.typescript', 'MainTech.c++', 'MainTech.c#', 'MainTech.kotlin', 'MainTech.scala', 'MainTech..net_core', 'MainTech.swift', 'MainTech.go', 'MainTech.sql', 'MainTech.ruby', 'MainTech.c', 'MainTech.react.js', 'MainTech.kubernetes', 'MainTech.angular', 'MainTech.ios', 'MainTech.android', 'MainTech.node.js', 'MainTech.aws', 'MainTech.r', 'MainTech.abap']\n"
          ],
          "name": "stdout"
        }
      ]
    },
    {
      "cell_type": "code",
      "metadata": {
        "id": "Wt_QiAffNup0",
        "colab": {
          "base_uri": "https://localhost:8080/"
        },
        "outputId": "76b11417-d91e-4dc5-e154-65b8241a39c8"
      },
      "source": [
        "# Dạng input mô hình\n",
        "X.shape, y.shape"
      ],
      "execution_count": 86,
      "outputs": [
        {
          "output_type": "execute_result",
          "data": {
            "text/plain": [
              "((1135, 28), (1135,))"
            ]
          },
          "metadata": {
            "tags": []
          },
          "execution_count": 86
        }
      ]
    },
    {
      "cell_type": "code",
      "metadata": {
        "id": "JfUnQqbr1Chr",
        "colab": {
          "base_uri": "https://localhost:8080/"
        },
        "outputId": "d10990c9-bd18-42ee-9aa5-df303d3657ee"
      },
      "source": [
        "# Chia dữ liệu thành train test\n",
        "Xtrain, Xtest, ytrain, ytest = train_test_split(X, y, test_size=0.2, random_state=3)\n",
        "\n",
        "Xtrain.shape, Xtest.shape, ytrain.shape, ytest.shape"
      ],
      "execution_count": 87,
      "outputs": [
        {
          "output_type": "execute_result",
          "data": {
            "text/plain": [
              "((908, 28), (227, 28), (908,), (227,))"
            ]
          },
          "metadata": {
            "tags": []
          },
          "execution_count": 87
        }
      ]
    },
    {
      "cell_type": "code",
      "metadata": {
        "id": "OG3a3VcC1Wkl",
        "colab": {
          "base_uri": "https://localhost:8080/"
        },
        "outputId": "d13973c7-ce1a-4bc0-b26f-56f5c7cf0e0b"
      },
      "source": [
        "# Sử dụng mô hình hồi quy tuyến tính của thuật toán randomforest\n",
        "model = RandomForestRegressor(random_state=3).fit(Xtrain, ytrain)\n",
        "predict = model.predict(Xtest)\n",
        "\n",
        "print('Điểm trên tập train : ', model.score(Xtrain, ytrain))\n",
        "print('Điểm trên tập test :', model.score(Xtest, ytest))"
      ],
      "execution_count": 88,
      "outputs": [
        {
          "output_type": "stream",
          "text": [
            "Điểm trên tập train :  0.781511717134368\n",
            "Điểm trên tập test : 0.0866384473159687\n"
          ],
          "name": "stdout"
        }
      ]
    }
  ]
}