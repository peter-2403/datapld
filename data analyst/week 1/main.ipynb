{
 "cells": [
  {
   "cell_type": "markdown",
   "id": "c6376ec3",
   "metadata": {},
   "source": [
    "## Import những thư viện cần thiết"
   ]
  },
  {
   "cell_type": "code",
   "execution_count": 1,
   "id": "99d5dc31",
   "metadata": {},
   "outputs": [],
   "source": [
    "import pandas as pd # thư viện làm việc với dữ liệu dạng bảng\n",
    "import numpy as np # thư viện tối ưu hóa tính toán trên mảng \n",
    "import matplotlib.pyplot as plt # thư viện vẽ biểu đồ\n",
    "import seaborn as sns # thư viện vẽ biểu đồ\n",
    "import math # thư viện toán có sẵn\n",
    "from sklearn.model_selection import train_test_split # hàm chia dữ liệu\n",
    "from sklearn.linear_model import LinearRegression # mô hình hồi quy tuyến tính\n",
    "from sklearn.metrics import r2_score # hệ số R² để đánh giá mô hình"
   ]
  },
  {
   "cell_type": "markdown",
   "id": "b11d46a6",
   "metadata": {},
   "source": [
    "## Load dữ liệu lên để sử dụng"
   ]
  },
  {
   "cell_type": "code",
   "execution_count": 2,
   "id": "2183fea9",
   "metadata": {},
   "outputs": [
    {
     "data": {
      "text/html": [
       "<div>\n",
       "<style scoped>\n",
       "    .dataframe tbody tr th:only-of-type {\n",
       "        vertical-align: middle;\n",
       "    }\n",
       "\n",
       "    .dataframe tbody tr th {\n",
       "        vertical-align: top;\n",
       "    }\n",
       "\n",
       "    .dataframe thead th {\n",
       "        text-align: right;\n",
       "    }\n",
       "</style>\n",
       "<table border=\"1\" class=\"dataframe\">\n",
       "  <thead>\n",
       "    <tr style=\"text-align: right;\">\n",
       "      <th></th>\n",
       "      <th>Age</th>\n",
       "      <th>Gender</th>\n",
       "      <th>TotYrsOfExp</th>\n",
       "      <th>MainTech</th>\n",
       "      <th>AnualSalary</th>\n",
       "    </tr>\n",
       "  </thead>\n",
       "  <tbody>\n",
       "    <tr>\n",
       "      <th>0</th>\n",
       "      <td>26.0</td>\n",
       "      <td>Male</td>\n",
       "      <td>5</td>\n",
       "      <td>TypeScript</td>\n",
       "      <td>75000.0</td>\n",
       "    </tr>\n",
       "    <tr>\n",
       "      <th>1</th>\n",
       "      <td>26.0</td>\n",
       "      <td>Male</td>\n",
       "      <td>7</td>\n",
       "      <td>Ruby</td>\n",
       "      <td>82000.0</td>\n",
       "    </tr>\n",
       "    <tr>\n",
       "      <th>2</th>\n",
       "      <td>29.0</td>\n",
       "      <td>Male</td>\n",
       "      <td>12</td>\n",
       "      <td>Javascript / Typescript</td>\n",
       "      <td>100000.0</td>\n",
       "    </tr>\n",
       "    <tr>\n",
       "      <th>3</th>\n",
       "      <td>28.0</td>\n",
       "      <td>Male</td>\n",
       "      <td>4</td>\n",
       "      <td>Javascript</td>\n",
       "      <td>NaN</td>\n",
       "    </tr>\n",
       "    <tr>\n",
       "      <th>4</th>\n",
       "      <td>37.0</td>\n",
       "      <td>Male</td>\n",
       "      <td>17</td>\n",
       "      <td>C# .NET</td>\n",
       "      <td>62000.0</td>\n",
       "    </tr>\n",
       "    <tr>\n",
       "      <th>...</th>\n",
       "      <td>...</td>\n",
       "      <td>...</td>\n",
       "      <td>...</td>\n",
       "      <td>...</td>\n",
       "      <td>...</td>\n",
       "    </tr>\n",
       "    <tr>\n",
       "      <th>1248</th>\n",
       "      <td>31.0</td>\n",
       "      <td>Male</td>\n",
       "      <td>9</td>\n",
       "      <td>Java</td>\n",
       "      <td>70000.0</td>\n",
       "    </tr>\n",
       "    <tr>\n",
       "      <th>1249</th>\n",
       "      <td>33.0</td>\n",
       "      <td>Male</td>\n",
       "      <td>10</td>\n",
       "      <td>consumer analysis</td>\n",
       "      <td>48000.0</td>\n",
       "    </tr>\n",
       "    <tr>\n",
       "      <th>1250</th>\n",
       "      <td>39.0</td>\n",
       "      <td>Male</td>\n",
       "      <td>15</td>\n",
       "      <td>PHP</td>\n",
       "      <td>90000.0</td>\n",
       "    </tr>\n",
       "    <tr>\n",
       "      <th>1251</th>\n",
       "      <td>26.0</td>\n",
       "      <td>Male</td>\n",
       "      <td>7</td>\n",
       "      <td>JavaScript</td>\n",
       "      <td>33800.0</td>\n",
       "    </tr>\n",
       "    <tr>\n",
       "      <th>1252</th>\n",
       "      <td>26.0</td>\n",
       "      <td>Male</td>\n",
       "      <td>2</td>\n",
       "      <td>yaml</td>\n",
       "      <td>40000.0</td>\n",
       "    </tr>\n",
       "  </tbody>\n",
       "</table>\n",
       "<p>1253 rows × 5 columns</p>\n",
       "</div>"
      ],
      "text/plain": [
       "       Age Gender TotYrsOfExp                 MainTech  AnualSalary\n",
       "0     26.0   Male           5               TypeScript      75000.0\n",
       "1     26.0   Male           7                     Ruby      82000.0\n",
       "2     29.0   Male          12  Javascript / Typescript     100000.0\n",
       "3     28.0   Male           4               Javascript          NaN\n",
       "4     37.0   Male          17                  C# .NET      62000.0\n",
       "...    ...    ...         ...                      ...          ...\n",
       "1248  31.0   Male           9                     Java      70000.0\n",
       "1249  33.0   Male          10        consumer analysis      48000.0\n",
       "1250  39.0   Male          15                      PHP      90000.0\n",
       "1251  26.0   Male           7               JavaScript      33800.0\n",
       "1252  26.0   Male           2                     yaml      40000.0\n",
       "\n",
       "[1253 rows x 5 columns]"
      ]
     },
     "execution_count": 2,
     "metadata": {},
     "output_type": "execute_result"
    }
   ],
   "source": [
    "df = pd.read_csv('euro_it_salary_2020.csv', index_col=0)\n",
    "df"
   ]
  },
  {
   "cell_type": "markdown",
   "id": "f791d80e",
   "metadata": {},
   "source": [
    "## Vấn đề: Đưa cho bộ data như trên, hỏi thử trích được thông tin gì từ bộ dữ liệu này"
   ]
  },
  {
   "cell_type": "markdown",
   "id": "0dec29ae",
   "metadata": {},
   "source": [
    "## Câu hỏi từ các bạn:\n",
    "Toàn: cho mình hỏi nam và nữ lương ai cao hơn? (lương trung bình)\n",
    "\n",
    "Long: số năm kinh nghiệm có tỉ lệ với mức lương không \n",
    "\n",
    "Trung: Biết nhiều công nghệ có nhiều tiền không? (số lượng công nghệ có tỉ lệ thuận với lương không)\n",
    "\n",
    "Bảo: liệu mình có thể dự đoán lương của dân DA từ dữ liệu trên ko?  (chưa đủ data để trả lời)\n",
    "dựa trên maintech suy ra da rồi dự đoán được hông ( vd như để làm DA thì bạn cần biết như sql, python, thống kê...)?\n",
    "\n",
    "Ly: Tuổi nào lương cao nhất (lương trung bình của độ tuổi)\n",
    "Ly: công nghệ nào nhiều tiền nhất? (lương trung bình của công nghệ)\n",
    "\n",
    "Tuấn: người có nhiều kinh nghiệm thường dùng công nghệ gì? (nhiều?)\n",
    "\n",
    "Trường: Anh chai ơi anh chaii, tuổi nghề IT kéo dài bao năm anh chaii (tuổi nghề IT)\n",
    "\n",
    "Lâm: sử dụng công nghệ nào lương cao nhất ? (giống bạn Ly)\n",
    "\n",
    "Tiến: độ tuổi có quyết định công nghệ sử dụng không? \n",
    "\n",
    "Tân: mối quan hệ giữa lương và năm kinh nghiệm? "
   ]
  },
  {
   "cell_type": "markdown",
   "id": "05a31ce9",
   "metadata": {},
   "source": [
    "### Xóa giá trị bị mất "
   ]
  },
  {
   "cell_type": "code",
   "execution_count": 3,
   "id": "88727eaf",
   "metadata": {},
   "outputs": [],
   "source": [
    "df.dropna(inplace=True)"
   ]
  },
  {
   "cell_type": "code",
   "execution_count": 4,
   "id": "807806f5",
   "metadata": {},
   "outputs": [
    {
     "data": {
      "text/plain": [
       "(795, 5)"
      ]
     },
     "execution_count": 4,
     "metadata": {},
     "output_type": "execute_result"
    }
   ],
   "source": [
    "df.shape"
   ]
  },
  {
   "cell_type": "markdown",
   "id": "ff79f6dd",
   "metadata": {},
   "source": [
    "# Khám phá"
   ]
  },
  {
   "cell_type": "markdown",
   "id": "1110c0cb",
   "metadata": {},
   "source": [
    "### Các cột có ý nghĩa gì?"
   ]
  },
  {
   "cell_type": "markdown",
   "id": "a3d79bac",
   "metadata": {},
   "source": [
    "### Age: Tuổi"
   ]
  },
  {
   "cell_type": "markdown",
   "id": "ba66667c",
   "metadata": {},
   "source": [
    "**Câu hỏi:**\n",
    "- Liệu các ITer >= 30 tuổi có chiếm đa số trong bộ dữ liệu hay không?\n",
    "- Tuổi đời của các ITer tập trung vào những tuổi nào?"
   ]
  },
  {
   "cell_type": "markdown",
   "id": "e3249122",
   "metadata": {},
   "source": [
    "**Trả lời**"
   ]
  },
  {
   "cell_type": "code",
   "execution_count": 5,
   "id": "736ed711",
   "metadata": {},
   "outputs": [
    {
     "data": {
      "text/plain": [
       "True"
      ]
     },
     "execution_count": 5,
     "metadata": {},
     "output_type": "execute_result"
    }
   ],
   "source": [
    "num_of_less_than_30_years_old = df[df['Age'] < 30].count()['Age']\n",
    "num_of_greater_equal_30_years_old = df[df['Age'] >= 30].count()['Age']\n",
    "\n",
    "num_of_greater_equal_30_years_old > num_of_less_than_30_years_old"
   ]
  },
  {
   "cell_type": "code",
   "execution_count": 6,
   "id": "15a6bf08",
   "metadata": {},
   "outputs": [
    {
     "data": {
      "text/plain": [
       "(577, 218)"
      ]
     },
     "execution_count": 6,
     "metadata": {},
     "output_type": "execute_result"
    }
   ],
   "source": [
    "num_of_greater_equal_30_years_old, num_of_less_than_30_years_old"
   ]
  },
  {
   "cell_type": "code",
   "execution_count": 7,
   "id": "6064e84b",
   "metadata": {},
   "outputs": [
    {
     "data": {
      "image/png": "[encoded data removed]",
      "text/plain": [
       "<Figure size 864x576 with 1 Axes>"
      ]
     },
     "metadata": {
      "needs_background": "light"
     },
     "output_type": "display_data"
    }
   ],
   "source": [
    "fig, ax = plt.subplots(figsize=(12, 8))\n",
    "sns.histplot(data=df, x='Age', ax=ax)\n",
    "# ax.set_xlim(20, 70)\n",
    "plt.show()"
   ]
  },
  {
   "cell_type": "markdown",
   "id": "72efcc3a",
   "metadata": {},
   "source": [
    "Tập trung trong khoảng $[25, 40]$"
   ]
  },
  {
   "cell_type": "markdown",
   "id": "0de7f6ae",
   "metadata": {},
   "source": [
    "#### Gender"
   ]
  },
  {
   "cell_type": "markdown",
   "id": "82de2ff6",
   "metadata": {},
   "source": [
    "**Câu hỏi:**\n",
    "- Số lượng nam nữ trong ngành IT ở Châu Âu chênh lệch như thế nào?\n",
    "- Có giới tính thứ 3 trong bộ dữ liệu được thu thập không?"
   ]
  },
  {
   "cell_type": "markdown",
   "id": "9ade58e1",
   "metadata": {},
   "source": [
    "**Trả lời**"
   ]
  },
  {
   "cell_type": "code",
   "execution_count": 8,
   "id": "bcae8f5a",
   "metadata": {},
   "outputs": [
    {
     "data": {
      "text/html": [
       "<div>\n",
       "<style scoped>\n",
       "    .dataframe tbody tr th:only-of-type {\n",
       "        vertical-align: middle;\n",
       "    }\n",
       "\n",
       "    .dataframe tbody tr th {\n",
       "        vertical-align: top;\n",
       "    }\n",
       "\n",
       "    .dataframe thead th {\n",
       "        text-align: right;\n",
       "    }\n",
       "</style>\n",
       "<table border=\"1\" class=\"dataframe\">\n",
       "  <thead>\n",
       "    <tr style=\"text-align: right;\">\n",
       "      <th></th>\n",
       "      <th>Gender</th>\n",
       "      <th>Count</th>\n",
       "    </tr>\n",
       "  </thead>\n",
       "  <tbody>\n",
       "    <tr>\n",
       "      <th>0</th>\n",
       "      <td>Diverse</td>\n",
       "      <td>1</td>\n",
       "    </tr>\n",
       "    <tr>\n",
       "      <th>1</th>\n",
       "      <td>Female</td>\n",
       "      <td>115</td>\n",
       "    </tr>\n",
       "    <tr>\n",
       "      <th>2</th>\n",
       "      <td>Male</td>\n",
       "      <td>679</td>\n",
       "    </tr>\n",
       "  </tbody>\n",
       "</table>\n",
       "</div>"
      ],
      "text/plain": [
       "    Gender  Count\n",
       "0  Diverse      1\n",
       "1   Female    115\n",
       "2     Male    679"
      ]
     },
     "execution_count": 8,
     "metadata": {},
     "output_type": "execute_result"
    }
   ],
   "source": [
    "data = df.groupby('Gender')['Age'].count().reset_index().rename(columns={'Age': 'Count'})\n",
    "data"
   ]
  },
  {
   "cell_type": "code",
   "execution_count": 9,
   "id": "1f38c0bc",
   "metadata": {},
   "outputs": [
    {
     "data": {
      "text/plain": [
       "5.904347826086957"
      ]
     },
     "execution_count": 9,
     "metadata": {},
     "output_type": "execute_result"
    }
   ],
   "source": [
    "679 / 115"
   ]
  },
  {
   "cell_type": "markdown",
   "id": "67a88774",
   "metadata": {},
   "source": [
    "Cứ 6 nam sẽ có 1 nữ xuất hiện trong bộ dữ liệu. Cứ 679 nam sẽ có 1 `giới tính thứ 3` xuất hiện."
   ]
  },
  {
   "cell_type": "code",
   "execution_count": 10,
   "id": "8b3d41bc",
   "metadata": {},
   "outputs": [
    {
     "data": {
      "image/png": "[encoded data removed]",
      "text/plain": [
       "<Figure size 576x432 with 1 Axes>"
      ]
     },
     "metadata": {
      "needs_background": "light"
     },
     "output_type": "display_data"
    }
   ],
   "source": [
    "fig, ax = plt.subplots(figsize=(8, 6))\n",
    "sns.barplot(data=data, x='Gender', y='Count', ax=ax)\n",
    "plt.show()"
   ]
  },
  {
   "cell_type": "markdown",
   "id": "fa7c78e3",
   "metadata": {},
   "source": [
    "#### TotYrsOfExp"
   ]
  },
  {
   "cell_type": "markdown",
   "id": "f2c493d2",
   "metadata": {},
   "source": [
    "**Câu hỏi:**\n",
    "- Người gắn bó với nghề lâu nhất là 30 năm, có đúng vậy không?\n",
    "- Số năm kinh nghiệm ít nhất?\n",
    "- Số người có nhiều năm kinh nghiệm trong nghề lớn hơn số lượng còn lại có đúng không?"
   ]
  },
  {
   "cell_type": "markdown",
   "id": "1462e254",
   "metadata": {},
   "source": [
    "**Trả lời:**"
   ]
  },
  {
   "cell_type": "code",
   "execution_count": 11,
   "id": "7642c422",
   "metadata": {},
   "outputs": [
    {
     "data": {
      "text/plain": [
       "('9', '0')"
      ]
     },
     "execution_count": 11,
     "metadata": {},
     "output_type": "execute_result"
    }
   ],
   "source": [
    "df['TotYrsOfExp'].max(), df['TotYrsOfExp'].min()"
   ]
  },
  {
   "cell_type": "code",
   "execution_count": 12,
   "id": "996d5485",
   "metadata": {},
   "outputs": [
    {
     "data": {
      "text/plain": [
       "dtype('O')"
      ]
     },
     "execution_count": 12,
     "metadata": {},
     "output_type": "execute_result"
    }
   ],
   "source": [
    "df['TotYrsOfExp'].dtypes"
   ]
  },
  {
   "cell_type": "code",
   "execution_count": 13,
   "id": "a4906c93",
   "metadata": {},
   "outputs": [
    {
     "data": {
      "text/plain": [
       "array(['5', '7', '12', '17', '8', '15', '2', '11', '30', '18', '6', '10',\n",
       "       '25', '3', '40', '13', '26', '4', '14', '19', '20', '9', '16',\n",
       "       '0.8', '1.5', '21', '22', '2.5', '28', '29', '23', '1,5', '1',\n",
       "       '27', '0', '1 (as QA Engineer) / 11 in total', '2,5',\n",
       "       '15, thereof 8 as CTO', '31', '4.5', '3.5'], dtype=object)"
      ]
     },
     "execution_count": 13,
     "metadata": {},
     "output_type": "execute_result"
    }
   ],
   "source": [
    "df['TotYrsOfExp'].unique()"
   ]
  },
  {
   "cell_type": "code",
   "execution_count": 14,
   "id": "f02fc751",
   "metadata": {},
   "outputs": [],
   "source": [
    "data = []\n",
    "for i in df['TotYrsOfExp'].values:\n",
    "    try:\n",
    "        datum = float(i)\n",
    "        data.append(datum)\n",
    "    except:\n",
    "        continue\n",
    "data = np.array(data)"
   ]
  },
  {
   "cell_type": "code",
   "execution_count": 15,
   "id": "6a8b1d04",
   "metadata": {},
   "outputs": [
    {
     "data": {
      "text/plain": [
       "(40.0, 0.0)"
      ]
     },
     "execution_count": 15,
     "metadata": {},
     "output_type": "execute_result"
    }
   ],
   "source": [
    "data.max(), data.min()"
   ]
  },
  {
   "cell_type": "code",
   "execution_count": 16,
   "id": "a7e5649c",
   "metadata": {},
   "outputs": [
    {
     "data": {
      "text/plain": [
       "9.214032869785083"
      ]
     },
     "execution_count": 16,
     "metadata": {},
     "output_type": "execute_result"
    }
   ],
   "source": [
    "mean = data.mean()\n",
    "mean"
   ]
  },
  {
   "cell_type": "code",
   "execution_count": 17,
   "id": "00870e15",
   "metadata": {},
   "outputs": [
    {
     "data": {
      "image/png": "[encoded data removed]",
      "text/plain": [
       "<Figure size 576x432 with 1 Axes>"
      ]
     },
     "metadata": {
      "needs_background": "light"
     },
     "output_type": "display_data"
    }
   ],
   "source": [
    "fig, ax = plt.subplots(figsize=(8, 6))\n",
    "sns.histplot(data=pd.DataFrame(data), x=0)\n",
    "plt.show()"
   ]
  },
  {
   "cell_type": "code",
   "execution_count": 18,
   "id": "abc9901f",
   "metadata": {},
   "outputs": [
    {
     "data": {
      "text/plain": [
       "(352, 439)"
      ]
     },
     "execution_count": 18,
     "metadata": {},
     "output_type": "execute_result"
    }
   ],
   "source": [
    "len(data[data > mean]), len(data[data <= mean])"
   ]
  },
  {
   "cell_type": "markdown",
   "id": "77fac35e",
   "metadata": {},
   "source": [
    "#### MainTech"
   ]
  },
  {
   "cell_type": "markdown",
   "id": "b4111e57",
   "metadata": {},
   "source": [
    "**Câu hỏi:**\n",
    "- Ngôn ngữ Python có phổ biến nhất trong số những người được khảo sát hay không?\n",
    "- Ngôn ngữ nào được sử dụng nhiều nhất bởi các lập trình viên?\n",
    "- Cột này chứa chỉ ngôn ngữ lập trình hay còn cái khác?"
   ]
  },
  {
   "cell_type": "markdown",
   "id": "1f05382e",
   "metadata": {},
   "source": [
    "**Trả lời**"
   ]
  },
  {
   "cell_type": "code",
   "execution_count": 19,
   "id": "94f37c07",
   "metadata": {},
   "outputs": [],
   "source": [
    "df['MainTech'] = df['MainTech'].str.lower()"
   ]
  },
  {
   "cell_type": "code",
   "execution_count": 20,
   "id": "4e33cb82",
   "metadata": {},
   "outputs": [
    {
     "data": {
      "text/plain": [
       "0                    typescript\n",
       "1                          ruby\n",
       "2       javascript / typescript\n",
       "4                       c# .net\n",
       "5          aws, gcp, python,k8s\n",
       "                 ...           \n",
       "1248                       java\n",
       "1249          consumer analysis\n",
       "1250                        php\n",
       "1251                 javascript\n",
       "1252                       yaml\n",
       "Name: MainTech, Length: 795, dtype: object"
      ]
     },
     "execution_count": 20,
     "metadata": {},
     "output_type": "execute_result"
    }
   ],
   "source": [
    "df['MainTech']"
   ]
  },
  {
   "cell_type": "code",
   "execution_count": 21,
   "id": "085ae6a5",
   "metadata": {},
   "outputs": [
    {
     "data": {
      "text/html": [
       "<div>\n",
       "<style scoped>\n",
       "    .dataframe tbody tr th:only-of-type {\n",
       "        vertical-align: middle;\n",
       "    }\n",
       "\n",
       "    .dataframe tbody tr th {\n",
       "        vertical-align: top;\n",
       "    }\n",
       "\n",
       "    .dataframe thead th {\n",
       "        text-align: right;\n",
       "    }\n",
       "</style>\n",
       "<table border=\"1\" class=\"dataframe\">\n",
       "  <thead>\n",
       "    <tr style=\"text-align: right;\">\n",
       "      <th></th>\n",
       "      <th>index</th>\n",
       "      <th>MainTech</th>\n",
       "    </tr>\n",
       "  </thead>\n",
       "  <tbody>\n",
       "    <tr>\n",
       "      <th>0</th>\n",
       "      <td>java</td>\n",
       "      <td>147</td>\n",
       "    </tr>\n",
       "    <tr>\n",
       "      <th>1</th>\n",
       "      <td>python</td>\n",
       "      <td>135</td>\n",
       "    </tr>\n",
       "    <tr>\n",
       "      <th>2</th>\n",
       "      <td>javascript</td>\n",
       "      <td>51</td>\n",
       "    </tr>\n",
       "    <tr>\n",
       "      <th>3</th>\n",
       "      <td>php</td>\n",
       "      <td>45</td>\n",
       "    </tr>\n",
       "    <tr>\n",
       "      <th>4</th>\n",
       "      <td>c++</td>\n",
       "      <td>31</td>\n",
       "    </tr>\n",
       "    <tr>\n",
       "      <th>...</th>\n",
       "      <td>...</td>\n",
       "      <td>...</td>\n",
       "    </tr>\n",
       "    <tr>\n",
       "      <th>159</th>\n",
       "      <td>pl/sql</td>\n",
       "      <td>1</td>\n",
       "    </tr>\n",
       "    <tr>\n",
       "      <th>160</th>\n",
       "      <td>java, terraform</td>\n",
       "      <td>1</td>\n",
       "    </tr>\n",
       "    <tr>\n",
       "      <th>161</th>\n",
       "      <td>terraform</td>\n",
       "      <td>1</td>\n",
       "    </tr>\n",
       "    <tr>\n",
       "      <th>162</th>\n",
       "      <td>several</td>\n",
       "      <td>1</td>\n",
       "    </tr>\n",
       "    <tr>\n",
       "      <th>163</th>\n",
       "      <td>js, typescript, angular</td>\n",
       "      <td>1</td>\n",
       "    </tr>\n",
       "  </tbody>\n",
       "</table>\n",
       "<p>164 rows × 2 columns</p>\n",
       "</div>"
      ],
      "text/plain": [
       "                       index  MainTech\n",
       "0                       java       147\n",
       "1                     python       135\n",
       "2                 javascript        51\n",
       "3                        php        45\n",
       "4                        c++        31\n",
       "..                       ...       ...\n",
       "159                   pl/sql         1\n",
       "160          java, terraform         1\n",
       "161                terraform         1\n",
       "162                  several         1\n",
       "163  js, typescript, angular         1\n",
       "\n",
       "[164 rows x 2 columns]"
      ]
     },
     "execution_count": 21,
     "metadata": {},
     "output_type": "execute_result"
    }
   ],
   "source": [
    "data = df['MainTech'].value_counts().reset_index()\n",
    "data"
   ]
  },
  {
   "cell_type": "code",
   "execution_count": 22,
   "id": "9dbbb811",
   "metadata": {},
   "outputs": [
    {
     "data": {
      "image/png": "[encoded data removed]",
      "text/plain": [
       "<Figure size 864x360 with 1 Axes>"
      ]
     },
     "metadata": {
      "needs_background": "light"
     },
     "output_type": "display_data"
    }
   ],
   "source": [
    "fig, ax = plt.subplots(figsize=(12, 5))\n",
    "sns.barplot(data=data.head(10), x='index', y='MainTech')\n",
    "plt.show()"
   ]
  },
  {
   "cell_type": "code",
   "execution_count": 23,
   "id": "e9f66b24",
   "metadata": {},
   "outputs": [
    {
     "data": {
      "text/plain": [
       "array([['python', 135],\n",
       "       ['python ', 15]], dtype=object)"
      ]
     },
     "execution_count": 23,
     "metadata": {},
     "output_type": "execute_result"
    }
   ],
   "source": [
    "data.head(20).loc[[1, 10]].values"
   ]
  },
  {
   "cell_type": "code",
   "execution_count": 24,
   "id": "f9537c0e",
   "metadata": {},
   "outputs": [],
   "source": [
    "# đổi từ pythin sang python\n",
    "df.loc[846,'MainTech'] = 'python'"
   ]
  },
  {
   "cell_type": "markdown",
   "id": "b38f4ede",
   "metadata": {},
   "source": [
    "Phải preprocessing khá nhiều"
   ]
  },
  {
   "cell_type": "markdown",
   "id": "c67a899d",
   "metadata": {},
   "source": [
    "#### AnualSalary"
   ]
  },
  {
   "cell_type": "markdown",
   "id": "31a20884",
   "metadata": {},
   "source": [
    "**Câu hỏi:**\n",
    "- Phân bố lương của các lập trình viên Châu Âu\n",
    "- Lập trình viên Châu Âu lương cao không?\n",
    "- Lương có cao hơn lập trình viên Việt Nam hay không?"
   ]
  },
  {
   "cell_type": "markdown",
   "id": "a4b4787a",
   "metadata": {},
   "source": [
    "**Trả lời:**"
   ]
  },
  {
   "cell_type": "code",
   "execution_count": 25,
   "id": "2bcec6bf",
   "metadata": {},
   "outputs": [
    {
     "data": {
      "image/png": "[encoded data removed]",
      "text/plain": [
       "<Figure size 576x360 with 1 Axes>"
      ]
     },
     "metadata": {
      "needs_background": "light"
     },
     "output_type": "display_data"
    }
   ],
   "source": [
    "fig, ax = plt.subplots(figsize=(8, 5))\n",
    "sns.boxplot(data=df, x='AnualSalary')\n",
    "plt.show()"
   ]
  },
  {
   "cell_type": "code",
   "execution_count": 26,
   "id": "b867228e",
   "metadata": {},
   "outputs": [
    {
     "data": {
      "text/plain": [
       "500000000"
      ]
     },
     "execution_count": 26,
     "metadata": {},
     "output_type": "execute_result"
    }
   ],
   "source": [
    "5 * 10 ** 8"
   ]
  },
  {
   "cell_type": "markdown",
   "id": "123e0716",
   "metadata": {},
   "source": [
    "Có một người phụ nữ 29 tuổi 1 năm kinh nghiệm làm ngôn ngữ Julia với mức lương $500,000,000$"
   ]
  },
  {
   "cell_type": "code",
   "execution_count": 27,
   "id": "7a42cb55",
   "metadata": {},
   "outputs": [],
   "source": [
    "def remove_outlier(df, x):\n",
    "    q1, q3 = df.describe().loc[['25%', '75%']][x].values\n",
    "    iqr = q3 - q1\n",
    "    return df[(df[x] >= q1 - 1.5 * iqr) & (df[x] <= q3 + 1.5 * iqr)]"
   ]
  },
  {
   "cell_type": "code",
   "execution_count": 28,
   "id": "b1c8df1f",
   "metadata": {},
   "outputs": [],
   "source": [
    "df = remove_outlier(df, 'AnualSalary')"
   ]
  },
  {
   "cell_type": "code",
   "execution_count": 29,
   "id": "25852642",
   "metadata": {},
   "outputs": [
    {
     "data": {
      "image/png": "[encoded data removed]",
      "text/plain": [
       "<Figure size 576x360 with 1 Axes>"
      ]
     },
     "metadata": {
      "needs_background": "light"
     },
     "output_type": "display_data"
    }
   ],
   "source": [
    "fig, ax = plt.subplots(figsize=(8, 5))\n",
    "sns.boxplot(data=df, x='AnualSalary')\n",
    "plt.show()"
   ]
  },
  {
   "cell_type": "code",
   "execution_count": 30,
   "id": "57bdbc47",
   "metadata": {},
   "outputs": [
    {
     "data": {
      "image/png": "[encoded data removed]",
      "text/plain": [
       "<Figure size 576x432 with 1 Axes>"
      ]
     },
     "metadata": {
      "needs_background": "light"
     },
     "output_type": "display_data"
    }
   ],
   "source": [
    "fig, ax = plt.subplots(figsize=(8, 6))\n",
    "sns.histplot(data=df, x='AnualSalary', kde=True)\n",
    "plt.show()"
   ]
  },
  {
   "cell_type": "code",
   "execution_count": 31,
   "id": "f84a115e",
   "metadata": {},
   "outputs": [
    {
     "data": {
      "text/plain": [
       "64939.42307692308"
      ]
     },
     "execution_count": 31,
     "metadata": {},
     "output_type": "execute_result"
    }
   ],
   "source": [
    "df['AnualSalary'].mean()"
   ]
  },
  {
   "cell_type": "markdown",
   "id": "47ce4a30",
   "metadata": {},
   "source": [
    "Toàn: cho mình hỏi nam và nữ lương ai cao hơn? (lương trung bình)\n",
    "\n",
    "Long: số năm kinh nghiệm có tỉ lệ với mức lương không \n",
    "\n",
    "Trung: Biết nhiều công nghệ có nhiều tiền không? (số lượng công nghệ có tỉ lệ thuận với lương không)\n",
    "\n",
    "Bảo: liệu mình có thể dự đoán lương của dân DA từ dữ liệu trên ko?  (chưa đủ data để trả lời)\n",
    "dựa trên maintech suy ra da rồi dự đoán được hông ( vd như để làm DA thì bạn cần biết như sql, python, thống kê...)?\n",
    "\n",
    "Ly: Tuổi nào lương cao nhất (lương trung bình của độ tuổi)"
   ]
  },
  {
   "cell_type": "code",
   "execution_count": 32,
   "id": "42bf52d8",
   "metadata": {},
   "outputs": [
    {
     "data": {
      "image/png": "[encoded data removed]",
      "text/plain": [
       "<Figure size 432x288 with 1 Axes>"
      ]
     },
     "metadata": {
      "needs_background": "light"
     },
     "output_type": "display_data"
    }
   ],
   "source": [
    "sns.barplot(data=df.groupby('Gender')['AnualSalary'].mean().reset_index(), x='Gender', y='AnualSalary')\n",
    "plt.show()"
   ]
  },
  {
   "cell_type": "markdown",
   "id": "13250c6b",
   "metadata": {},
   "source": [
    "- Mức lương của Nam nhiều hơn Nữ (chỉ so với trung bình).\n",
    "- Mức lương trung bình của giới tính `Diverse` khá cao."
   ]
  },
  {
   "cell_type": "code",
   "execution_count": 33,
   "id": "fb3673ee",
   "metadata": {},
   "outputs": [
    {
     "name": "stderr",
     "output_type": "stream",
     "text": [
      "<ipython-input-33-9be1c3b4417e>:1: SettingWithCopyWarning: \n",
      "A value is trying to be set on a copy of a slice from a DataFrame.\n",
      "Try using .loc[row_indexer,col_indexer] = value instead\n",
      "\n",
      "See the caveats in the documentation: https://pandas.pydata.org/pandas-docs/stable/user_guide/indexing.html#returning-a-view-versus-a-copy\n",
      "  df['NumOfTech'] = df['MainTech'].str.split(',').apply(lambda x: len(x))\n"
     ]
    }
   ],
   "source": [
    "df['NumOfTech'] = df['MainTech'].str.split(',').apply(lambda x: len(x))"
   ]
  },
  {
   "cell_type": "code",
   "execution_count": 34,
   "id": "85f77c8a",
   "metadata": {},
   "outputs": [
    {
     "data": {
      "text/html": [
       "<div>\n",
       "<style scoped>\n",
       "    .dataframe tbody tr th:only-of-type {\n",
       "        vertical-align: middle;\n",
       "    }\n",
       "\n",
       "    .dataframe tbody tr th {\n",
       "        vertical-align: top;\n",
       "    }\n",
       "\n",
       "    .dataframe thead th {\n",
       "        text-align: right;\n",
       "    }\n",
       "</style>\n",
       "<table border=\"1\" class=\"dataframe\">\n",
       "  <thead>\n",
       "    <tr style=\"text-align: right;\">\n",
       "      <th></th>\n",
       "      <th>Age</th>\n",
       "      <th>Gender</th>\n",
       "      <th>TotYrsOfExp</th>\n",
       "      <th>MainTech</th>\n",
       "      <th>AnualSalary</th>\n",
       "      <th>NumOfTech</th>\n",
       "    </tr>\n",
       "  </thead>\n",
       "  <tbody>\n",
       "    <tr>\n",
       "      <th>0</th>\n",
       "      <td>26.0</td>\n",
       "      <td>Male</td>\n",
       "      <td>5</td>\n",
       "      <td>typescript</td>\n",
       "      <td>75000.0</td>\n",
       "      <td>1</td>\n",
       "    </tr>\n",
       "    <tr>\n",
       "      <th>1</th>\n",
       "      <td>26.0</td>\n",
       "      <td>Male</td>\n",
       "      <td>7</td>\n",
       "      <td>ruby</td>\n",
       "      <td>82000.0</td>\n",
       "      <td>1</td>\n",
       "    </tr>\n",
       "    <tr>\n",
       "      <th>2</th>\n",
       "      <td>29.0</td>\n",
       "      <td>Male</td>\n",
       "      <td>12</td>\n",
       "      <td>javascript / typescript</td>\n",
       "      <td>100000.0</td>\n",
       "      <td>1</td>\n",
       "    </tr>\n",
       "    <tr>\n",
       "      <th>4</th>\n",
       "      <td>37.0</td>\n",
       "      <td>Male</td>\n",
       "      <td>17</td>\n",
       "      <td>c# .net</td>\n",
       "      <td>62000.0</td>\n",
       "      <td>1</td>\n",
       "    </tr>\n",
       "    <tr>\n",
       "      <th>5</th>\n",
       "      <td>32.0</td>\n",
       "      <td>Male</td>\n",
       "      <td>5</td>\n",
       "      <td>aws, gcp, python,k8s</td>\n",
       "      <td>76000.0</td>\n",
       "      <td>4</td>\n",
       "    </tr>\n",
       "    <tr>\n",
       "      <th>...</th>\n",
       "      <td>...</td>\n",
       "      <td>...</td>\n",
       "      <td>...</td>\n",
       "      <td>...</td>\n",
       "      <td>...</td>\n",
       "      <td>...</td>\n",
       "    </tr>\n",
       "    <tr>\n",
       "      <th>1248</th>\n",
       "      <td>31.0</td>\n",
       "      <td>Male</td>\n",
       "      <td>9</td>\n",
       "      <td>java</td>\n",
       "      <td>70000.0</td>\n",
       "      <td>1</td>\n",
       "    </tr>\n",
       "    <tr>\n",
       "      <th>1249</th>\n",
       "      <td>33.0</td>\n",
       "      <td>Male</td>\n",
       "      <td>10</td>\n",
       "      <td>consumer analysis</td>\n",
       "      <td>48000.0</td>\n",
       "      <td>1</td>\n",
       "    </tr>\n",
       "    <tr>\n",
       "      <th>1250</th>\n",
       "      <td>39.0</td>\n",
       "      <td>Male</td>\n",
       "      <td>15</td>\n",
       "      <td>php</td>\n",
       "      <td>90000.0</td>\n",
       "      <td>1</td>\n",
       "    </tr>\n",
       "    <tr>\n",
       "      <th>1251</th>\n",
       "      <td>26.0</td>\n",
       "      <td>Male</td>\n",
       "      <td>7</td>\n",
       "      <td>javascript</td>\n",
       "      <td>33800.0</td>\n",
       "      <td>1</td>\n",
       "    </tr>\n",
       "    <tr>\n",
       "      <th>1252</th>\n",
       "      <td>26.0</td>\n",
       "      <td>Male</td>\n",
       "      <td>2</td>\n",
       "      <td>yaml</td>\n",
       "      <td>40000.0</td>\n",
       "      <td>1</td>\n",
       "    </tr>\n",
       "  </tbody>\n",
       "</table>\n",
       "<p>754 rows × 6 columns</p>\n",
       "</div>"
      ],
      "text/plain": [
       "       Age Gender TotYrsOfExp                 MainTech  AnualSalary  NumOfTech\n",
       "0     26.0   Male           5               typescript      75000.0          1\n",
       "1     26.0   Male           7                     ruby      82000.0          1\n",
       "2     29.0   Male          12  javascript / typescript     100000.0          1\n",
       "4     37.0   Male          17                  c# .net      62000.0          1\n",
       "5     32.0   Male           5     aws, gcp, python,k8s      76000.0          4\n",
       "...    ...    ...         ...                      ...          ...        ...\n",
       "1248  31.0   Male           9                     java      70000.0          1\n",
       "1249  33.0   Male          10        consumer analysis      48000.0          1\n",
       "1250  39.0   Male          15                      php      90000.0          1\n",
       "1251  26.0   Male           7               javascript      33800.0          1\n",
       "1252  26.0   Male           2                     yaml      40000.0          1\n",
       "\n",
       "[754 rows x 6 columns]"
      ]
     },
     "execution_count": 34,
     "metadata": {},
     "output_type": "execute_result"
    }
   ],
   "source": [
    "df"
   ]
  },
  {
   "cell_type": "code",
   "execution_count": 35,
   "id": "b95eb94e",
   "metadata": {},
   "outputs": [
    {
     "data": {
      "text/html": [
       "<div>\n",
       "<style scoped>\n",
       "    .dataframe tbody tr th:only-of-type {\n",
       "        vertical-align: middle;\n",
       "    }\n",
       "\n",
       "    .dataframe tbody tr th {\n",
       "        vertical-align: top;\n",
       "    }\n",
       "\n",
       "    .dataframe thead th {\n",
       "        text-align: right;\n",
       "    }\n",
       "</style>\n",
       "<table border=\"1\" class=\"dataframe\">\n",
       "  <thead>\n",
       "    <tr style=\"text-align: right;\">\n",
       "      <th></th>\n",
       "      <th>NumOfTech</th>\n",
       "      <th>AnualSalary</th>\n",
       "    </tr>\n",
       "  </thead>\n",
       "  <tbody>\n",
       "    <tr>\n",
       "      <th>0</th>\n",
       "      <td>1</td>\n",
       "      <td>65306.002805</td>\n",
       "    </tr>\n",
       "    <tr>\n",
       "      <th>1</th>\n",
       "      <td>2</td>\n",
       "      <td>61257.222222</td>\n",
       "    </tr>\n",
       "    <tr>\n",
       "      <th>2</th>\n",
       "      <td>3</td>\n",
       "      <td>50125.000000</td>\n",
       "    </tr>\n",
       "    <tr>\n",
       "      <th>3</th>\n",
       "      <td>4</td>\n",
       "      <td>59050.000000</td>\n",
       "    </tr>\n",
       "    <tr>\n",
       "      <th>4</th>\n",
       "      <td>5</td>\n",
       "      <td>45000.000000</td>\n",
       "    </tr>\n",
       "    <tr>\n",
       "      <th>5</th>\n",
       "      <td>6</td>\n",
       "      <td>65000.000000</td>\n",
       "    </tr>\n",
       "  </tbody>\n",
       "</table>\n",
       "</div>"
      ],
      "text/plain": [
       "   NumOfTech   AnualSalary\n",
       "0          1  65306.002805\n",
       "1          2  61257.222222\n",
       "2          3  50125.000000\n",
       "3          4  59050.000000\n",
       "4          5  45000.000000\n",
       "5          6  65000.000000"
      ]
     },
     "execution_count": 35,
     "metadata": {},
     "output_type": "execute_result"
    }
   ],
   "source": [
    "df.groupby('NumOfTech')['AnualSalary'].mean().reset_index()"
   ]
  },
  {
   "cell_type": "code",
   "execution_count": 36,
   "id": "cb0094ce",
   "metadata": {},
   "outputs": [
    {
     "data": {
      "image/png": "[encoded data removed]",
      "text/plain": [
       "<Figure size 432x288 with 1 Axes>"
      ]
     },
     "metadata": {
      "needs_background": "light"
     },
     "output_type": "display_data"
    }
   ],
   "source": [
    "sns.barplot(data=df.groupby('NumOfTech')['AnualSalary'].mean().reset_index(), x='NumOfTech', y='AnualSalary')\n",
    "plt.show()"
   ]
  },
  {
   "cell_type": "markdown",
   "id": "9c2aac93",
   "metadata": {},
   "source": [
    "(Nhiều công nghệ là lớn hơn 3) => Số lượng công nghệ không ảnh hưởng đến mức lương."
   ]
  },
  {
   "cell_type": "code",
   "execution_count": 37,
   "id": "ddc5e855",
   "metadata": {},
   "outputs": [
    {
     "data": {
      "text/html": [
       "<div>\n",
       "<style scoped>\n",
       "    .dataframe tbody tr th:only-of-type {\n",
       "        vertical-align: middle;\n",
       "    }\n",
       "\n",
       "    .dataframe tbody tr th {\n",
       "        vertical-align: top;\n",
       "    }\n",
       "\n",
       "    .dataframe thead th {\n",
       "        text-align: right;\n",
       "    }\n",
       "</style>\n",
       "<table border=\"1\" class=\"dataframe\">\n",
       "  <thead>\n",
       "    <tr style=\"text-align: right;\">\n",
       "      <th></th>\n",
       "      <th>Age</th>\n",
       "      <th>AnualSalary</th>\n",
       "    </tr>\n",
       "  </thead>\n",
       "  <tbody>\n",
       "    <tr>\n",
       "      <th>31</th>\n",
       "      <td>56.0</td>\n",
       "      <td>90000.000000</td>\n",
       "    </tr>\n",
       "    <tr>\n",
       "      <th>30</th>\n",
       "      <td>54.0</td>\n",
       "      <td>80000.000000</td>\n",
       "    </tr>\n",
       "    <tr>\n",
       "      <th>19</th>\n",
       "      <td>41.0</td>\n",
       "      <td>78377.777778</td>\n",
       "    </tr>\n",
       "    <tr>\n",
       "      <th>22</th>\n",
       "      <td>44.0</td>\n",
       "      <td>77083.333333</td>\n",
       "    </tr>\n",
       "    <tr>\n",
       "      <th>26</th>\n",
       "      <td>48.0</td>\n",
       "      <td>75000.000000</td>\n",
       "    </tr>\n",
       "    <tr>\n",
       "      <th>21</th>\n",
       "      <td>43.0</td>\n",
       "      <td>73575.000000</td>\n",
       "    </tr>\n",
       "    <tr>\n",
       "      <th>17</th>\n",
       "      <td>39.0</td>\n",
       "      <td>70500.000000</td>\n",
       "    </tr>\n",
       "    <tr>\n",
       "      <th>16</th>\n",
       "      <td>38.0</td>\n",
       "      <td>70181.935484</td>\n",
       "    </tr>\n",
       "    <tr>\n",
       "      <th>12</th>\n",
       "      <td>34.0</td>\n",
       "      <td>69892.982456</td>\n",
       "    </tr>\n",
       "    <tr>\n",
       "      <th>13</th>\n",
       "      <td>35.0</td>\n",
       "      <td>69796.363636</td>\n",
       "    </tr>\n",
       "    <tr>\n",
       "      <th>15</th>\n",
       "      <td>37.0</td>\n",
       "      <td>69720.000000</td>\n",
       "    </tr>\n",
       "    <tr>\n",
       "      <th>24</th>\n",
       "      <td>46.0</td>\n",
       "      <td>69714.285714</td>\n",
       "    </tr>\n",
       "    <tr>\n",
       "      <th>32</th>\n",
       "      <td>59.0</td>\n",
       "      <td>69000.000000</td>\n",
       "    </tr>\n",
       "    <tr>\n",
       "      <th>11</th>\n",
       "      <td>33.0</td>\n",
       "      <td>68600.750000</td>\n",
       "    </tr>\n",
       "    <tr>\n",
       "      <th>10</th>\n",
       "      <td>32.0</td>\n",
       "      <td>67831.666667</td>\n",
       "    </tr>\n",
       "    <tr>\n",
       "      <th>14</th>\n",
       "      <td>36.0</td>\n",
       "      <td>67738.500000</td>\n",
       "    </tr>\n",
       "    <tr>\n",
       "      <th>23</th>\n",
       "      <td>45.0</td>\n",
       "      <td>67333.333333</td>\n",
       "    </tr>\n",
       "    <tr>\n",
       "      <th>9</th>\n",
       "      <td>31.0</td>\n",
       "      <td>66439.655172</td>\n",
       "    </tr>\n",
       "    <tr>\n",
       "      <th>18</th>\n",
       "      <td>40.0</td>\n",
       "      <td>65823.529412</td>\n",
       "    </tr>\n",
       "    <tr>\n",
       "      <th>7</th>\n",
       "      <td>29.0</td>\n",
       "      <td>63608.163265</td>\n",
       "    </tr>\n",
       "    <tr>\n",
       "      <th>8</th>\n",
       "      <td>30.0</td>\n",
       "      <td>62601.515152</td>\n",
       "    </tr>\n",
       "    <tr>\n",
       "      <th>27</th>\n",
       "      <td>49.0</td>\n",
       "      <td>61500.000000</td>\n",
       "    </tr>\n",
       "    <tr>\n",
       "      <th>20</th>\n",
       "      <td>42.0</td>\n",
       "      <td>61000.000000</td>\n",
       "    </tr>\n",
       "    <tr>\n",
       "      <th>5</th>\n",
       "      <td>27.0</td>\n",
       "      <td>57883.333333</td>\n",
       "    </tr>\n",
       "    <tr>\n",
       "      <th>4</th>\n",
       "      <td>26.0</td>\n",
       "      <td>55165.714286</td>\n",
       "    </tr>\n",
       "    <tr>\n",
       "      <th>3</th>\n",
       "      <td>25.0</td>\n",
       "      <td>55014.285714</td>\n",
       "    </tr>\n",
       "    <tr>\n",
       "      <th>6</th>\n",
       "      <td>28.0</td>\n",
       "      <td>54403.703704</td>\n",
       "    </tr>\n",
       "    <tr>\n",
       "      <th>2</th>\n",
       "      <td>24.0</td>\n",
       "      <td>52700.000000</td>\n",
       "    </tr>\n",
       "    <tr>\n",
       "      <th>0</th>\n",
       "      <td>22.0</td>\n",
       "      <td>51000.000000</td>\n",
       "    </tr>\n",
       "    <tr>\n",
       "      <th>29</th>\n",
       "      <td>51.0</td>\n",
       "      <td>50000.000000</td>\n",
       "    </tr>\n",
       "    <tr>\n",
       "      <th>33</th>\n",
       "      <td>65.0</td>\n",
       "      <td>50000.000000</td>\n",
       "    </tr>\n",
       "    <tr>\n",
       "      <th>34</th>\n",
       "      <td>66.0</td>\n",
       "      <td>50000.000000</td>\n",
       "    </tr>\n",
       "    <tr>\n",
       "      <th>1</th>\n",
       "      <td>23.0</td>\n",
       "      <td>47625.000000</td>\n",
       "    </tr>\n",
       "    <tr>\n",
       "      <th>25</th>\n",
       "      <td>47.0</td>\n",
       "      <td>46000.000000</td>\n",
       "    </tr>\n",
       "    <tr>\n",
       "      <th>28</th>\n",
       "      <td>50.0</td>\n",
       "      <td>28800.000000</td>\n",
       "    </tr>\n",
       "  </tbody>\n",
       "</table>\n",
       "</div>"
      ],
      "text/plain": [
       "     Age   AnualSalary\n",
       "31  56.0  90000.000000\n",
       "30  54.0  80000.000000\n",
       "19  41.0  78377.777778\n",
       "22  44.0  77083.333333\n",
       "26  48.0  75000.000000\n",
       "21  43.0  73575.000000\n",
       "17  39.0  70500.000000\n",
       "16  38.0  70181.935484\n",
       "12  34.0  69892.982456\n",
       "13  35.0  69796.363636\n",
       "15  37.0  69720.000000\n",
       "24  46.0  69714.285714\n",
       "32  59.0  69000.000000\n",
       "11  33.0  68600.750000\n",
       "10  32.0  67831.666667\n",
       "14  36.0  67738.500000\n",
       "23  45.0  67333.333333\n",
       "9   31.0  66439.655172\n",
       "18  40.0  65823.529412\n",
       "7   29.0  63608.163265\n",
       "8   30.0  62601.515152\n",
       "27  49.0  61500.000000\n",
       "20  42.0  61000.000000\n",
       "5   27.0  57883.333333\n",
       "4   26.0  55165.714286\n",
       "3   25.0  55014.285714\n",
       "6   28.0  54403.703704\n",
       "2   24.0  52700.000000\n",
       "0   22.0  51000.000000\n",
       "29  51.0  50000.000000\n",
       "33  65.0  50000.000000\n",
       "34  66.0  50000.000000\n",
       "1   23.0  47625.000000\n",
       "25  47.0  46000.000000\n",
       "28  50.0  28800.000000"
      ]
     },
     "execution_count": 37,
     "metadata": {},
     "output_type": "execute_result"
    }
   ],
   "source": [
    "df.groupby('Age')['AnualSalary'].mean().reset_index().sort_values(by='AnualSalary', ascending=False)"
   ]
  },
  {
   "cell_type": "markdown",
   "id": "906f6481",
   "metadata": {},
   "source": [
    "- 56 tuổi có mức lương trung bình cao nhất"
   ]
  },
  {
   "cell_type": "markdown",
   "id": "690ede6f",
   "metadata": {},
   "source": [
    "**Trả lời câu hỏi của các bạn**"
   ]
  },
  {
   "cell_type": "markdown",
   "id": "b36992ba",
   "metadata": {},
   "source": [
    "### Mức lương hằng năm có mối liên quan như thế nào với số năm kinh nghiệm?"
   ]
  },
  {
   "cell_type": "code",
   "execution_count": 38,
   "id": "af4f090d",
   "metadata": {},
   "outputs": [
    {
     "data": {
      "image/png": "[encoded data removed]",
      "text/plain": [
       "<Figure size 576x432 with 1 Axes>"
      ]
     },
     "metadata": {
      "needs_background": "light"
     },
     "output_type": "display_data"
    }
   ],
   "source": [
    "fig, ax = plt.subplots(figsize=(8, 6))\n",
    "sns.scatterplot(data=df, x='AnualSalary', y='TotYrsOfExp')\n",
    "plt.show()"
   ]
  },
  {
   "cell_type": "code",
   "execution_count": 39,
   "id": "52c5e3ef",
   "metadata": {},
   "outputs": [],
   "source": [
    "def remove_not_use(datum, x='TotYrsOfExp'):\n",
    "    try:\n",
    "        datum['TotYrsOfExp'] = float(datum['TotYrsOfExp'])\n",
    "        return datum\n",
    "    except:\n",
    "        ...\n",
    "    return None"
   ]
  },
  {
   "cell_type": "code",
   "execution_count": 40,
   "id": "b78b6ad8",
   "metadata": {},
   "outputs": [],
   "source": [
    "df = df.T.apply(remove_not_use).T\n",
    "df.dropna(inplace=True)"
   ]
  },
  {
   "cell_type": "code",
   "execution_count": 41,
   "id": "d2b33976",
   "metadata": {},
   "outputs": [
    {
     "data": {
      "image/png": "[encoded data removed]",
      "text/plain": [
       "<Figure size 576x432 with 1 Axes>"
      ]
     },
     "metadata": {
      "needs_background": "light"
     },
     "output_type": "display_data"
    }
   ],
   "source": [
    "fig, ax = plt.subplots(figsize=(8, 6))\n",
    "sns.scatterplot(data=df, x='TotYrsOfExp', y='AnualSalary')\n",
    "plt.show()"
   ]
  },
  {
   "cell_type": "markdown",
   "id": "c9ac892b",
   "metadata": {},
   "source": [
    "- Càng nhiều năm kinh nghiệm thì lương càng cao, nhưng hơn 20 năm kinh nghiệm thì chưa chắc điều đó."
   ]
  },
  {
   "cell_type": "code",
   "execution_count": 42,
   "id": "834fb61c",
   "metadata": {},
   "outputs": [],
   "source": [
    "df[['Age', 'TotYrsOfExp', 'AnualSalary']] = df[['Age', 'TotYrsOfExp', 'AnualSalary']].astype('float64')"
   ]
  },
  {
   "cell_type": "code",
   "execution_count": 43,
   "id": "eba8ac9e",
   "metadata": {},
   "outputs": [
    {
     "data": {
      "image/png": "[encoded data removed]",
      "text/plain": [
       "<Figure size 576x432 with 1 Axes>"
      ]
     },
     "metadata": {
      "needs_background": "light"
     },
     "output_type": "display_data"
    }
   ],
   "source": [
    "fig, ax = plt.subplots(figsize=(8, 6))\n",
    "sns.regplot(data=df, x='TotYrsOfExp', y='AnualSalary')\n",
    "plt.show()"
   ]
  },
  {
   "cell_type": "markdown",
   "id": "aa5d3b02",
   "metadata": {},
   "source": [
    "## Bài toán đặt ra: làm thế nào để dự đoán mức lương của một người khi biết số năm kinh nghiệm của họ"
   ]
  },
  {
   "cell_type": "markdown",
   "id": "de658bd7",
   "metadata": {},
   "source": [
    "#### **trả lời:** Xây dựng mô hình dự báo"
   ]
  },
  {
   "cell_type": "markdown",
   "id": "af54bf09",
   "metadata": {},
   "source": [
    "## Xây dựng mô hình Linear Regression"
   ]
  },
  {
   "cell_type": "code",
   "execution_count": 44,
   "id": "411d702f",
   "metadata": {},
   "outputs": [
    {
     "data": {
      "text/plain": [
       "((751, 1), (751,))"
      ]
     },
     "execution_count": 44,
     "metadata": {},
     "output_type": "execute_result"
    }
   ],
   "source": [
    "X = df[['TotYrsOfExp']].values\n",
    "y = df['AnualSalary'].values\n",
    "X.shape, y.shape"
   ]
  },
  {
   "cell_type": "code",
   "execution_count": 45,
   "id": "c861f7bf",
   "metadata": {},
   "outputs": [
    {
     "data": {
      "text/plain": [
       "((600, 1), (151, 1))"
      ]
     },
     "execution_count": 45,
     "metadata": {},
     "output_type": "execute_result"
    }
   ],
   "source": [
    "Xtrain, Xvalid, ytrain, yvalid = train_test_split(X, y, test_size=0.2, random_state=4)\n",
    "Xtrain.shape, Xvalid.shape"
   ]
  },
  {
   "cell_type": "code",
   "execution_count": 46,
   "id": "9dc9b51a",
   "metadata": {},
   "outputs": [
    {
     "data": {
      "text/plain": [
       "LinearRegression()"
      ]
     },
     "execution_count": 46,
     "metadata": {},
     "output_type": "execute_result"
    }
   ],
   "source": [
    "model = LinearRegression()\n",
    "model.fit(Xtrain, ytrain)"
   ]
  },
  {
   "cell_type": "markdown",
   "id": "3d1338b3",
   "metadata": {},
   "source": [
    "### Kiểm tra mô hình Linear Regression"
   ]
  },
  {
   "cell_type": "markdown",
   "id": "3a9bdd03",
   "metadata": {},
   "source": [
    "Hệ số $R^2$ có miền giá trị là $[0, 1]$. Dùng để đánh giá mức độ *tốt* của mô hình học máy. Càng gần $1$ càng tốt. Trên $0.5$ thì có thể tin cậy được mô hình."
   ]
  },
  {
   "cell_type": "code",
   "execution_count": 47,
   "id": "14929fbe",
   "metadata": {},
   "outputs": [],
   "source": [
    "ytrain_predicted = model.predict(Xtrain)\n",
    "yvalid_predicted = model.predict(Xvalid)"
   ]
  },
  {
   "cell_type": "code",
   "execution_count": 48,
   "id": "b2fd8e38",
   "metadata": {},
   "outputs": [
    {
     "name": "stdout",
     "output_type": "stream",
     "text": [
      "R2 score của tập train 0.16\n",
      "R2 score của tập validate 0.23\n"
     ]
    }
   ],
   "source": [
    "print('R2 score của tập train %.2f' % (r2_score(ytrain, ytrain_predicted)))\n",
    "print('R2 score của tập validate %.2f' % (r2_score(yvalid, yvalid_predicted)))"
   ]
  },
  {
   "cell_type": "markdown",
   "id": "32c7f74f",
   "metadata": {},
   "source": [
    "### Giả sử dùng mô hình để dự đoán anh Ánh Xuân làm ở phòng IT Đức có số năm kinh nghiệm là 13 năm."
   ]
  },
  {
   "cell_type": "code",
   "execution_count": 49,
   "id": "bc673341",
   "metadata": {},
   "outputs": [
    {
     "name": "stdout",
     "output_type": "stream",
     "text": [
      "Mức lương dự đoán của anh Ánh Xuân có 13 năm kinh nghiệm là 69479.38\n"
     ]
    }
   ],
   "source": [
    "data = np.array([[13]])\n",
    "predicted_data = model.predict(data)\n",
    "print('Mức lương dự đoán của anh Ánh Xuân có 13 năm kinh nghiệm là %.2f' % (predicted_data))"
   ]
  },
  {
   "cell_type": "code",
   "execution_count": 50,
   "id": "b0beb48e",
   "metadata": {},
   "outputs": [
    {
     "data": {
      "image/png": "[encoded data removed]",
      "text/plain": [
       "<Figure size 936x576 with 1 Axes>"
      ]
     },
     "metadata": {
      "needs_background": "light"
     },
     "output_type": "display_data"
    }
   ],
   "source": [
    "xx = np.arange(0, 40).reshape(-1, 1)\n",
    "yy = model.predict(xx)\n",
    "plt.figure(figsize=(13, 8))\n",
    "plt.scatter(Xtrain, ytrain, label='Train', alpha=0.8, c='purple')\n",
    "plt.scatter(Xvalid, yvalid, label='Valid', alpha=0.8, c='red')\n",
    "plt.plot(xx, yy, c='orange', alpha=0.8, lw=3)\n",
    "plt.scatter(data, predicted_data, label='Predict', marker='p', s=200, c='aqua')\n",
    "plt.legend(loc='best')\n",
    "plt.grid(True, alpha=0.5, ls='-.')\n",
    "plt.show()"
   ]
  },
  {
   "cell_type": "markdown",
   "id": "133d58c1",
   "metadata": {},
   "source": [
    "# Tổng hợp insights"
   ]
  },
  {
   "cell_type": "markdown",
   "id": "33dd9854",
   "metadata": {},
   "source": [
    "- Các lập trình viên ở *Châu Âu* lớn hơn $30$ tuổi thường chiếm số lượng nhiều hơn còn lại.\n",
    "- Tuổi đời của các lập trình viên ở Châu Âu $25$ - $40$ tuổi.\n",
    "- Trung bình cứ có $6$ IT nam, thì có $1$ IT nữ.\n",
    "- Và bộ dữ liệu này còn chứa giới tính thứ ba.\n",
    "- Người gắn bó với nghề lâu nhất là $40$ năm (chứ không phải $30$) và người ít kinh nghiệm nhất là $0$.\n",
    "- Số người có nhiều kinh nghiệm trong nghề (*hơn* mức trung bình) thì chiếm số lượng *ít* hơn những người còn lại.\n",
    "- Ngôn ngữ **Java** đứng vị trí đầu bảng và ngôn ngữ **Python** chiếm vị trí thứ hai trong số những ngôn ngữ mà lập trình viên ở *Châu Âu* hay sử dụng nhất.\n",
    "- Cột `MainTech` không hẳn chứa chỉ ngôn ngữ lập trình mà còn chứa công nghệ khác.\n",
    "- Người có mức lương cao nhất ở bộ dữ liệu này là $500.000.000$ **EUR**.\n",
    "- Phân bố lương ở Châu Âu khá đều (histogram có hình chuông) và công bằng. Duy chỉ có một vài người khảo sát có mức lương đặc biệt.\n",
    "- Không thể biết lương cao hơn *Việt Nam* hay không do không đủ dữ liệu để so sánh.\n",
    "- Mức lương của Nam nhiều hơn Nữ (chỉ so với trung bình).\n",
    "- Mức lương trung bình của giới tính `Diverse` khá cao.\n",
    "- (Nhiều công nghệ là lớn hơn 3) => Số lượng công nghệ không ảnh hưởng đến mức lương.\n",
    "- 56 tuổi có mức lương trung bình cao nhất\n",
    "- Dựa vào *scatter plot* thì có thể kết luận càng nhiều năm kinh nghiệm thì lương càng cao, nhưng hơn 20 năm kinh nghiệm thì chưa chắc điều đó.\n",
    "- Dự đoán mức lương cho số năm kinh nghiệm 13 năm là $\\approx 69479.38$ **EUR**"
   ]
  }
 ],
 "metadata": {
  "kernelspec": {
   "display_name": "Python 3",
   "language": "python",
   "name": "python3"
  },
  "language_info": {
   "codemirror_mode": {
    "name": "ipython",
    "version": 3
   },
   "file_extension": ".py",
   "mimetype": "text/x-python",
   "name": "python",
   "nbconvert_exporter": "python",
   "pygments_lexer": "ipython3",
   "version": "3.8.8"
  },
  "widgets": {
   "application/vnd.jupyter.widget-state+json": {
    "state": {},
    "version_major": 2,
    "version_minor": 0
   }
  }
 },
 "nbformat": 4,
 "nbformat_minor": 5
}
